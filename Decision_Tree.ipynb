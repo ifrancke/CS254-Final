{
  "cells": [
    {
      "cell_type": "code",
      "execution_count": 26,
      "metadata": {
        "id": "_lYhNkxBhwev"
      },
      "outputs": [],
      "source": [
        "# load needed libraries.\n",
        "import numpy as np\n",
        "import pandas as pd\n",
        "import matplotlib.pyplot as plt\n",
        "\n",
        "# sklearn utilities\n",
        "from sklearn import datasets\n",
        "from sklearn.model_selection import train_test_split\n",
        "from sklearn.metrics import confusion_matrix, classification_report\n",
        "from sklearn.model_selection import cross_val_score\n",
        "from sklearn.metrics import roc_auc_score\n",
        "from sklearn.metrics import RocCurveDisplay\n",
        "\n",
        "# sklearn models\n",
        "from sklearn.tree import DecisionTreeClassifier\n",
        "from sklearn import metrics\n",
        "from sklearn import tree"
      ]
    },
    {
      "cell_type": "code",
      "execution_count": 27,
      "metadata": {
        "colab": {
          "base_uri": "https://localhost:8080/"
        },
        "id": "-A_LYucYiFGZ",
        "outputId": "ee880e70-5327-4577-9dab-818edf55fd99"
      },
      "outputs": [
        {
          "output_type": "stream",
          "name": "stdout",
          "text": [
            "Drive already mounted at /content/drive; to attempt to forcibly remount, call drive.mount(\"/content/drive\", force_remount=True).\n"
          ]
        }
      ],
      "source": [
        "#mount drive - so it can pull data from there\n",
        "from google.colab import drive\n",
        "drive.mount('/content/drive')"
      ]
    },
    {
      "cell_type": "code",
      "execution_count": 28,
      "metadata": {
        "id": "bE-_Djn-iFl6"
      },
      "outputs": [],
      "source": [
        "#absolute path\n",
        "path_train = '/content/drive/MyDrive/Colab_Notebooks/Final_Project/train.csv'\n",
        "interviewData = pd.read_csv (path_train, index_col='HHX')\n",
        "\n",
        "#absolute path\n",
        "path_test = '/content/drive/MyDrive/Colab_Notebooks/Final_Project/test.csv'\n",
        "interviewData_test = pd.read_csv (path_test, index_col='HHX')"
      ]
    },
    {
      "cell_type": "code",
      "execution_count": 29,
      "metadata": {
        "id": "NhW9jh43iNgI"
      },
      "outputs": [],
      "source": [
        "#look at data\n",
        "#interviewData"
      ]
    },
    {
      "cell_type": "code",
      "execution_count": 30,
      "metadata": {
        "colab": {
          "base_uri": "https://localhost:8080/"
        },
        "id": "iZ2DlNVSiPqI",
        "outputId": "a96e19ef-6088-4d0d-a24e-809c96e14b1d"
      },
      "outputs": [
        {
          "output_type": "stream",
          "name": "stdout",
          "text": [
            "We have  230  columns left, i.e.  100.0 %\n"
          ]
        }
      ],
      "source": [
        "#Using Gabby's code to remove all columns with NANs.\n",
        "#Because the data has been processed, the result should be 100%\n",
        "interview_noNANs = interviewData.dropna(axis=1)\n",
        "noNanColsPer = len(interview_noNANs.columns)/len(interviewData.columns)\n",
        "print('We have ', len(interview_noNANs.columns), ' columns left, i.e. ', len(interview_noNANs.columns)/len(interviewData.columns)*100, '%')"
      ]
    },
    {
      "cell_type": "code",
      "execution_count": 31,
      "metadata": {
        "id": "y4syPD7-nCvy"
      },
      "outputs": [],
      "source": [
        "# Import data\n",
        "data_train = interviewData.dropna(axis=1)\n",
        "data_test = interviewData_test.dropna(axis=1)\n",
        "\n",
        "Y_train = data_train.loc[:,'PHQCAT_A'].to_numpy()\n",
        "X_train = data_train.drop(['PHQCAT_A'], axis=1).to_numpy()\n",
        "\n",
        "\n",
        "Y_test = data_test.loc[:,'PHQCAT_A'].to_numpy()\n",
        "X_test = data_test.drop(['PHQCAT_A'], axis=1).to_numpy()\n",
        "\n"
      ]
    },
    {
      "cell_type": "code",
      "execution_count": 31,
      "metadata": {
        "id": "rh2PaZodEBuz"
      },
      "outputs": [],
      "source": [
        ""
      ]
    },
    {
      "cell_type": "code",
      "execution_count": 32,
      "metadata": {
        "colab": {
          "base_uri": "https://localhost:8080/"
        },
        "id": "ooQOaXNzociX",
        "outputId": "810a0f0c-e4d8-4725-dc98-54b81cf9e6fc"
      },
      "outputs": [
        {
          "output_type": "stream",
          "name": "stdout",
          "text": [
            "Training x: (19412, 229) Y: (19412,)\n"
          ]
        }
      ],
      "source": [
        "print(\"Training x:\", X_train.shape,\"Y:\", Y_train.shape)"
      ]
    },
    {
      "cell_type": "code",
      "execution_count": 33,
      "metadata": {
        "colab": {
          "base_uri": "https://localhost:8080/"
        },
        "id": "-EWlrGOspMAJ",
        "outputId": "5b491137-7768-4bf9-fcce-921d63d95924"
      },
      "outputs": [
        {
          "output_type": "stream",
          "name": "stdout",
          "text": [
            "Testing x: (4854, 229) Y: (4854,)\n"
          ]
        }
      ],
      "source": [
        "print(\"Testing x:\", X_test.shape,\"Y:\", Y_test.shape)"
      ]
    },
    {
      "cell_type": "code",
      "execution_count": 34,
      "metadata": {
        "colab": {
          "base_uri": "https://localhost:8080/"
        },
        "id": "zil8elLq_OQI",
        "outputId": "0e5c844e-0583-4b5b-cdf6-9e384db951e2"
      },
      "outputs": [
        {
          "output_type": "stream",
          "name": "stdout",
          "text": [
            "[0.80972313 0.82214191 0.81401521 0.83164596 0.83770222 0.8262595\n",
            " 0.83286981 0.82874792 0.83137839 0.82581419]\n",
            "0.008222169181812462\n"
          ]
        }
      ],
      "source": [
        "DTC = DecisionTreeClassifier()\n",
        "scores = cross_val_score(DTC , X_train, Y_train, cv=10, scoring = 'roc_auc_ovr_weighted')\n",
        "print(scores)\n",
        "print (np.std (scores))\n"
      ]
    },
    {
      "cell_type": "code",
      "execution_count": 35,
      "metadata": {
        "colab": {
          "base_uri": "https://localhost:8080/"
        },
        "id": "wwAvfjnwRS2d",
        "outputId": "b87bfcbf-2a25-472e-9e7b-c27311fb8ed7"
      },
      "outputs": [
        {
          "output_type": "execute_result",
          "data": {
            "text/plain": [
              "DecisionTreeClassifier()"
            ]
          },
          "metadata": {},
          "execution_count": 35
        }
      ],
      "source": [
        "DTC.fit(X_train, Y_train)"
      ]
    },
    {
      "cell_type": "code",
      "execution_count": 36,
      "metadata": {
        "colab": {
          "base_uri": "https://localhost:8080/"
        },
        "id": "La6NfjD9_l7J",
        "outputId": "f68fffed-c4db-4e32-de20-f68bc69b41a9"
      },
      "outputs": [
        {
          "output_type": "execute_result",
          "data": {
            "text/plain": [
              "0.8293182304017169"
            ]
          },
          "metadata": {},
          "execution_count": 36
        }
      ],
      "source": [
        "roc_auc_test = roc_auc_score(Y_test, DTC.predict_proba(X_test), multi_class='ovr', average='weighted')\n",
        "roc_auc_test"
      ]
    },
    {
      "cell_type": "code",
      "execution_count": 37,
      "metadata": {
        "colab": {
          "base_uri": "https://localhost:8080/",
          "height": 363
        },
        "id": "SvgTcpA0_OD1",
        "outputId": "c25e9b08-646b-4b80-8bf3-ff6d0b41482d"
      },
      "outputs": [
        {
          "output_type": "stream",
          "name": "stdout",
          "text": [
            "0.8293182304017169\n"
          ]
        },
        {
          "output_type": "display_data",
          "data": {
            "text/plain": [
              "<Figure size 360x360 with 1 Axes>"
            ],
            "image/png": "[encoded data removed]"
          },
          "metadata": {
            "needs_background": "light"
          }
        }
      ],
      "source": [
        "print(roc_auc_test)\n",
        "#plot scores\n",
        "fig, ax = plt.subplots(figsize = (5, 5))\n",
        "#training score mean w/ sem\n",
        "ax.bar(1, np.mean(scores))\n",
        "ax.errorbar(1, np.std(scores))\n",
        "#testing score\n",
        "ax.bar(2, roc_auc_test)\n",
        "ax.set_ylabel('ROC AUC \\n one vs all, \\n weighted average', fontsize = 14)\n",
        "ax.set_ylim(bottom = 0.8, top = 0.9)\n",
        "\n",
        "ax.set_xticks([1, 2])\n",
        "ax.set_xticklabels (['Training \\n ROC AUC', 'Testing \\n ROC AUC'], fontsize = 14)\n",
        "\n",
        "plt.yticks(fontsize = 14)\n",
        "\n",
        "plt.show()"
      ]
    },
    {
      "cell_type": "code",
      "execution_count": 38,
      "metadata": {
        "colab": {
          "base_uri": "https://localhost:8080/"
        },
        "id": "eiCLhlYiolji",
        "outputId": "5b87403e-a948-4a88-b451-ae68df75fbac"
      },
      "outputs": [
        {
          "output_type": "stream",
          "name": "stdout",
          "text": [
            "accuracy:  0.8599093531108364\n"
          ]
        }
      ],
      "source": [
        "print(\"accuracy: \", DTC.score(X_test, Y_test))"
      ]
    },
    {
      "cell_type": "code",
      "execution_count": 39,
      "metadata": {
        "colab": {
          "base_uri": "https://localhost:8080/"
        },
        "id": "kVZ-Q_jQpdSM",
        "outputId": "e53af36d-8c32-4ebf-d16b-3296baa5a6c4"
      },
      "outputs": [
        {
          "output_type": "stream",
          "name": "stdout",
          "text": [
            "Score: 0.8599093531108364\n",
            "Predicted value: [1]\n",
            "Actual value: 1\n",
            "              precision    recall  f1-score   support\n",
            "\n",
            "           1       0.95      0.95      0.95      3947\n",
            "           2       0.52      0.50      0.51       599\n",
            "           3       0.30      0.31      0.30       180\n",
            "           4       0.55      0.56      0.56       128\n",
            "\n",
            "    accuracy                           0.86      4854\n",
            "   macro avg       0.58      0.58      0.58      4854\n",
            "weighted avg       0.86      0.86      0.86      4854\n",
            "\n"
          ]
        }
      ],
      "source": [
        "print('Score:', DTC.score(X_test, Y_test))\n",
        "print('Predicted value:', DTC.predict(X_test[10].reshape(1, -1)))\n",
        "print('Actual value:', Y_test[11])\n",
        "print(metrics.classification_report(Y_test, DTC.predict(X_test)))"
      ]
    },
    {
      "cell_type": "code",
      "execution_count": 40,
      "metadata": {
        "id": "90vMW0MCUWFi"
      },
      "outputs": [],
      "source": [
        "# # Visual decision tree\n",
        "# plt.figure(figsize=(500,300))  # set plot size (denoted in inches)\n",
        "# tree.plot_tree(DTC,filled=True, fontsize=8);\n",
        "# plt.show()\n"
      ]
    }
  ],
  "metadata": {
    "colab": {
      "collapsed_sections": [],
      "name": "Decision_Tree.ipynb",
      "provenance": []
    },
    "kernelspec": {
      "display_name": "Python 3",
      "name": "python3"
    },
    "language_info": {
      "name": "python"
    }
  },
  "nbformat": 4,
  "nbformat_minor": 0
}