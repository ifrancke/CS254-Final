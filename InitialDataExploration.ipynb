{
  "nbformat": 4,
  "nbformat_minor": 0,
  "metadata": {
    "colab": {
      "name": "DataCleaning_2022.02.25.ipynb",
      "provenance": [],
      "collapsed_sections": [
        "MVSf0T9IiNVZ"
      ]
    },
    "kernelspec": {
      "name": "python3",
      "display_name": "Python 3"
    },
    "language_info": {
      "name": "python"
    }
  },
  "cells": [
    {
      "cell_type": "markdown",
      "source": [
        "I put the data in the shared project folder. But Colab uses essentially global paths. To get around this:\n",
        "\n",
        "Make a shortcut (right click and select make shortcut) and just put it on your drive (not inside any folder). \n",
        "That way the notebook can use the same global path for all of us. Essentially:\n",
        "\n",
        "drive/adult19.csv"
      ],
      "metadata": {
        "id": "hReHJqJDRsNj"
      }
    },
    {
      "cell_type": "code",
      "execution_count": null,
      "metadata": {
        "colab": {
          "base_uri": "https://localhost:8080/"
        },
        "id": "z6xVYEs3Q_jw",
        "outputId": "b8ec228f-2096-4003-d3ed-4ff0c0e3543b"
      },
      "outputs": [
        {
          "output_type": "stream",
          "name": "stdout",
          "text": [
            "Mounted at /content/drive\n"
          ]
        }
      ],
      "source": [
        "#mount drive - so it can pull data from there\n",
        "from google.colab import drive\n",
        "drive.mount('/content/drive')"
      ]
    },
    {
      "cell_type": "code",
      "source": [
        "#other imports\n",
        "import pandas as pd\n",
        "import matplotlib.pyplot as plt\n",
        "import numpy as np\n",
        "from sklearn.metrics import confusion_matrix, ConfusionMatrixDisplay\n",
        "from sklearn.model_selection import cross_val_score"
      ],
      "metadata": {
        "id": "pJHqXIpBUscL"
      },
      "execution_count": null,
      "outputs": []
    },
    {
      "cell_type": "code",
      "source": [
        "#absolute path\n",
        "path = '/content/drive/MyDrive/adult19.csv'\n",
        "interviewData = pd.read_csv (path)"
      ],
      "metadata": {
        "id": "ADZKLOS7U3s-"
      },
      "execution_count": null,
      "outputs": []
    },
    {
      "cell_type": "code",
      "source": [
        "#look at data\n",
        "interviewData"
      ],
      "metadata": {
        "id": "pwLQpaDdVLk1",
        "colab": {
          "base_uri": "https://localhost:8080/",
          "height": 481
        },
        "outputId": "91304f2a-562e-45ab-e4bb-5dbdb21e05ab"
      },
      "execution_count": null,
      "outputs": [
        {
          "output_type": "execute_result",
          "data": {
            "text/plain": [
              "       URBRRL  RATCAT_A  INCGRP_A  INCTCFLG_A  FAMINCTC_A  IMPINCFLG_A  PPSU  \\\n",
              "0           4         9         3           0       60000            2     2   \n",
              "1           4         9         3           0       50000            0     2   \n",
              "2           4        12         3           0       65000            1     2   \n",
              "3           4        14         5           0      120000            0     2   \n",
              "4           1         4         1           0       30000            0     2   \n",
              "...       ...       ...       ...         ...         ...          ...   ...   \n",
              "31992       4        14         5           0      116204            0   100   \n",
              "31993       4         8         3           0       68000            0   100   \n",
              "31994       4        13         3           0       60000            0   100   \n",
              "31995       4        14         5           0      101000            0   100   \n",
              "31996       4        13         4           0       79000            0   100   \n",
              "\n",
              "       PSTRAT  HISPALLP_A  RACEALLP_A  ...  PROXYREL_A  PROXY_A  AVAIL_A  \\\n",
              "0         122           3           2  ...         NaN      NaN        1   \n",
              "1         122           2           1  ...         NaN      NaN        1   \n",
              "2         122           2           1  ...         NaN      NaN        1   \n",
              "3         122           1           8  ...         NaN      NaN        1   \n",
              "4         115           2           1  ...         NaN      NaN        1   \n",
              "...       ...         ...         ...  ...         ...      ...      ...   \n",
              "31992     114           2           1  ...         NaN      NaN        1   \n",
              "31993     114           2           1  ...         NaN      NaN        1   \n",
              "31994     114           2           1  ...         NaN      NaN        1   \n",
              "31995     114           1           1  ...         NaN      NaN        1   \n",
              "31996     114           2           1  ...         NaN      NaN        1   \n",
              "\n",
              "       HHSTAT_A  INTV_QRT  RECTYPE     WTFA_A    WTIA_A      HHX  POVRATTC_A  \n",
              "0             1         1       10  13177.008  7601.336  H048109        2.96  \n",
              "1             1         1       10   6140.552  3344.434  H027044        2.97  \n",
              "2             1         1       10   9191.061  6949.498  H058855        4.28  \n",
              "3             1         1       10   7900.035  6446.327  H031993        7.13  \n",
              "4             1         1       10  10875.772  8646.586  H007122        1.13  \n",
              "...         ...       ...      ...        ...       ...      ...         ...  \n",
              "31992         1         4       10   2679.016  1965.416  H046022        7.65  \n",
              "31993         1         4       10   6726.495  3920.208  H046232        2.02  \n",
              "31994         1         4       10   1246.306   864.743  H043765        4.98  \n",
              "31995         1         4       10   3427.198  2595.209  H017695        6.00  \n",
              "31996         1         4       10   3453.332  1891.706  H026306        4.69  \n",
              "\n",
              "[31997 rows x 534 columns]"
            ],
            "text/html": [
              "\n",
              "  <div id=\"df-d9fc9a46-8f75-4f29-bfb7-782206b94c18\">\n",
              "    <div class=\"colab-df-container\">\n",
              "      <div>\n",
              "<style scoped>\n",
              "    .dataframe tbody tr th:only-of-type {\n",
              "        vertical-align: middle;\n",
              "    }\n",
              "\n",
              "    .dataframe tbody tr th {\n",
              "        vertical-align: top;\n",
              "    }\n",
              "\n",
              "    .dataframe thead th {\n",
              "        text-align: right;\n",
              "    }\n",
              "</style>\n",
              "<table border=\"1\" class=\"dataframe\">\n",
              "  <thead>\n",
              "    <tr style=\"text-align: right;\">\n",
              "      <th></th>\n",
              "      <th>URBRRL</th>\n",
              "      <th>RATCAT_A</th>\n",
              "      <th>INCGRP_A</th>\n",
              "      <th>INCTCFLG_A</th>\n",
              "      <th>FAMINCTC_A</th>\n",
              "      <th>IMPINCFLG_A</th>\n",
              "      <th>PPSU</th>\n",
              "      <th>PSTRAT</th>\n",
              "      <th>HISPALLP_A</th>\n",
              "      <th>RACEALLP_A</th>\n",
              "      <th>...</th>\n",
              "      <th>PROXYREL_A</th>\n",
              "      <th>PROXY_A</th>\n",
              "      <th>AVAIL_A</th>\n",
              "      <th>HHSTAT_A</th>\n",
              "      <th>INTV_QRT</th>\n",
              "      <th>RECTYPE</th>\n",
              "      <th>WTFA_A</th>\n",
              "      <th>WTIA_A</th>\n",
              "      <th>HHX</th>\n",
              "      <th>POVRATTC_A</th>\n",
              "    </tr>\n",
              "  </thead>\n",
              "  <tbody>\n",
              "    <tr>\n",
              "      <th>0</th>\n",
              "      <td>4</td>\n",
              "      <td>9</td>\n",
              "      <td>3</td>\n",
              "      <td>0</td>\n",
              "      <td>60000</td>\n",
              "      <td>2</td>\n",
              "      <td>2</td>\n",
              "      <td>122</td>\n",
              "      <td>3</td>\n",
              "      <td>2</td>\n",
              "      <td>...</td>\n",
              "      <td>NaN</td>\n",
              "      <td>NaN</td>\n",
              "      <td>1</td>\n",
              "      <td>1</td>\n",
              "      <td>1</td>\n",
              "      <td>10</td>\n",
              "      <td>13177.008</td>\n",
              "      <td>7601.336</td>\n",
              "      <td>H048109</td>\n",
              "      <td>2.96</td>\n",
              "    </tr>\n",
              "    <tr>\n",
              "      <th>1</th>\n",
              "      <td>4</td>\n",
              "      <td>9</td>\n",
              "      <td>3</td>\n",
              "      <td>0</td>\n",
              "      <td>50000</td>\n",
              "      <td>0</td>\n",
              "      <td>2</td>\n",
              "      <td>122</td>\n",
              "      <td>2</td>\n",
              "      <td>1</td>\n",
              "      <td>...</td>\n",
              "      <td>NaN</td>\n",
              "      <td>NaN</td>\n",
              "      <td>1</td>\n",
              "      <td>1</td>\n",
              "      <td>1</td>\n",
              "      <td>10</td>\n",
              "      <td>6140.552</td>\n",
              "      <td>3344.434</td>\n",
              "      <td>H027044</td>\n",
              "      <td>2.97</td>\n",
              "    </tr>\n",
              "    <tr>\n",
              "      <th>2</th>\n",
              "      <td>4</td>\n",
              "      <td>12</td>\n",
              "      <td>3</td>\n",
              "      <td>0</td>\n",
              "      <td>65000</td>\n",
              "      <td>1</td>\n",
              "      <td>2</td>\n",
              "      <td>122</td>\n",
              "      <td>2</td>\n",
              "      <td>1</td>\n",
              "      <td>...</td>\n",
              "      <td>NaN</td>\n",
              "      <td>NaN</td>\n",
              "      <td>1</td>\n",
              "      <td>1</td>\n",
              "      <td>1</td>\n",
              "      <td>10</td>\n",
              "      <td>9191.061</td>\n",
              "      <td>6949.498</td>\n",
              "      <td>H058855</td>\n",
              "      <td>4.28</td>\n",
              "    </tr>\n",
              "    <tr>\n",
              "      <th>3</th>\n",
              "      <td>4</td>\n",
              "      <td>14</td>\n",
              "      <td>5</td>\n",
              "      <td>0</td>\n",
              "      <td>120000</td>\n",
              "      <td>0</td>\n",
              "      <td>2</td>\n",
              "      <td>122</td>\n",
              "      <td>1</td>\n",
              "      <td>8</td>\n",
              "      <td>...</td>\n",
              "      <td>NaN</td>\n",
              "      <td>NaN</td>\n",
              "      <td>1</td>\n",
              "      <td>1</td>\n",
              "      <td>1</td>\n",
              "      <td>10</td>\n",
              "      <td>7900.035</td>\n",
              "      <td>6446.327</td>\n",
              "      <td>H031993</td>\n",
              "      <td>7.13</td>\n",
              "    </tr>\n",
              "    <tr>\n",
              "      <th>4</th>\n",
              "      <td>1</td>\n",
              "      <td>4</td>\n",
              "      <td>1</td>\n",
              "      <td>0</td>\n",
              "      <td>30000</td>\n",
              "      <td>0</td>\n",
              "      <td>2</td>\n",
              "      <td>115</td>\n",
              "      <td>2</td>\n",
              "      <td>1</td>\n",
              "      <td>...</td>\n",
              "      <td>NaN</td>\n",
              "      <td>NaN</td>\n",
              "      <td>1</td>\n",
              "      <td>1</td>\n",
              "      <td>1</td>\n",
              "      <td>10</td>\n",
              "      <td>10875.772</td>\n",
              "      <td>8646.586</td>\n",
              "      <td>H007122</td>\n",
              "      <td>1.13</td>\n",
              "    </tr>\n",
              "    <tr>\n",
              "      <th>...</th>\n",
              "      <td>...</td>\n",
              "      <td>...</td>\n",
              "      <td>...</td>\n",
              "      <td>...</td>\n",
              "      <td>...</td>\n",
              "      <td>...</td>\n",
              "      <td>...</td>\n",
              "      <td>...</td>\n",
              "      <td>...</td>\n",
              "      <td>...</td>\n",
              "      <td>...</td>\n",
              "      <td>...</td>\n",
              "      <td>...</td>\n",
              "      <td>...</td>\n",
              "      <td>...</td>\n",
              "      <td>...</td>\n",
              "      <td>...</td>\n",
              "      <td>...</td>\n",
              "      <td>...</td>\n",
              "      <td>...</td>\n",
              "      <td>...</td>\n",
              "    </tr>\n",
              "    <tr>\n",
              "      <th>31992</th>\n",
              "      <td>4</td>\n",
              "      <td>14</td>\n",
              "      <td>5</td>\n",
              "      <td>0</td>\n",
              "      <td>116204</td>\n",
              "      <td>0</td>\n",
              "      <td>100</td>\n",
              "      <td>114</td>\n",
              "      <td>2</td>\n",
              "      <td>1</td>\n",
              "      <td>...</td>\n",
              "      <td>NaN</td>\n",
              "      <td>NaN</td>\n",
              "      <td>1</td>\n",
              "      <td>1</td>\n",
              "      <td>4</td>\n",
              "      <td>10</td>\n",
              "      <td>2679.016</td>\n",
              "      <td>1965.416</td>\n",
              "      <td>H046022</td>\n",
              "      <td>7.65</td>\n",
              "    </tr>\n",
              "    <tr>\n",
              "      <th>31993</th>\n",
              "      <td>4</td>\n",
              "      <td>8</td>\n",
              "      <td>3</td>\n",
              "      <td>0</td>\n",
              "      <td>68000</td>\n",
              "      <td>0</td>\n",
              "      <td>100</td>\n",
              "      <td>114</td>\n",
              "      <td>2</td>\n",
              "      <td>1</td>\n",
              "      <td>...</td>\n",
              "      <td>NaN</td>\n",
              "      <td>NaN</td>\n",
              "      <td>1</td>\n",
              "      <td>1</td>\n",
              "      <td>4</td>\n",
              "      <td>10</td>\n",
              "      <td>6726.495</td>\n",
              "      <td>3920.208</td>\n",
              "      <td>H046232</td>\n",
              "      <td>2.02</td>\n",
              "    </tr>\n",
              "    <tr>\n",
              "      <th>31994</th>\n",
              "      <td>4</td>\n",
              "      <td>13</td>\n",
              "      <td>3</td>\n",
              "      <td>0</td>\n",
              "      <td>60000</td>\n",
              "      <td>0</td>\n",
              "      <td>100</td>\n",
              "      <td>114</td>\n",
              "      <td>2</td>\n",
              "      <td>1</td>\n",
              "      <td>...</td>\n",
              "      <td>NaN</td>\n",
              "      <td>NaN</td>\n",
              "      <td>1</td>\n",
              "      <td>1</td>\n",
              "      <td>4</td>\n",
              "      <td>10</td>\n",
              "      <td>1246.306</td>\n",
              "      <td>864.743</td>\n",
              "      <td>H043765</td>\n",
              "      <td>4.98</td>\n",
              "    </tr>\n",
              "    <tr>\n",
              "      <th>31995</th>\n",
              "      <td>4</td>\n",
              "      <td>14</td>\n",
              "      <td>5</td>\n",
              "      <td>0</td>\n",
              "      <td>101000</td>\n",
              "      <td>0</td>\n",
              "      <td>100</td>\n",
              "      <td>114</td>\n",
              "      <td>1</td>\n",
              "      <td>1</td>\n",
              "      <td>...</td>\n",
              "      <td>NaN</td>\n",
              "      <td>NaN</td>\n",
              "      <td>1</td>\n",
              "      <td>1</td>\n",
              "      <td>4</td>\n",
              "      <td>10</td>\n",
              "      <td>3427.198</td>\n",
              "      <td>2595.209</td>\n",
              "      <td>H017695</td>\n",
              "      <td>6.00</td>\n",
              "    </tr>\n",
              "    <tr>\n",
              "      <th>31996</th>\n",
              "      <td>4</td>\n",
              "      <td>13</td>\n",
              "      <td>4</td>\n",
              "      <td>0</td>\n",
              "      <td>79000</td>\n",
              "      <td>0</td>\n",
              "      <td>100</td>\n",
              "      <td>114</td>\n",
              "      <td>2</td>\n",
              "      <td>1</td>\n",
              "      <td>...</td>\n",
              "      <td>NaN</td>\n",
              "      <td>NaN</td>\n",
              "      <td>1</td>\n",
              "      <td>1</td>\n",
              "      <td>4</td>\n",
              "      <td>10</td>\n",
              "      <td>3453.332</td>\n",
              "      <td>1891.706</td>\n",
              "      <td>H026306</td>\n",
              "      <td>4.69</td>\n",
              "    </tr>\n",
              "  </tbody>\n",
              "</table>\n",
              "<p>31997 rows × 534 columns</p>\n",
              "</div>\n",
              "      <button class=\"colab-df-convert\" onclick=\"convertToInteractive('df-d9fc9a46-8f75-4f29-bfb7-782206b94c18')\"\n",
              "              title=\"Convert this dataframe to an interactive table.\"\n",
              "              style=\"display:none;\">\n",
              "        \n",
              "  <svg xmlns=\"http://www.w3.org/2000/svg\" height=\"24px\"viewBox=\"0 0 24 24\"\n",
              "       width=\"24px\">\n",
              "    <path d=\"M0 0h24v24H0V0z\" fill=\"none\"/>\n",
              "    <path d=\"M18.56 5.44l.94 2.06.94-2.06 2.06-.94-2.06-.94-.94-2.06-.94 2.06-2.06.94zm-11 1L8.5 8.5l.94-2.06 2.06-.94-2.06-.94L8.5 2.5l-.94 2.06-2.06.94zm10 10l.94 2.06.94-2.06 2.06-.94-2.06-.94-.94-2.06-.94 2.06-2.06.94z\"/><path d=\"M17.41 7.96l-1.37-1.37c-.4-.4-.92-.59-1.43-.59-.52 0-1.04.2-1.43.59L10.3 9.45l-7.72 7.72c-.78.78-.78 2.05 0 2.83L4 21.41c.39.39.9.59 1.41.59.51 0 1.02-.2 1.41-.59l7.78-7.78 2.81-2.81c.8-.78.8-2.07 0-2.86zM5.41 20L4 18.59l7.72-7.72 1.47 1.35L5.41 20z\"/>\n",
              "  </svg>\n",
              "      </button>\n",
              "      \n",
              "  <style>\n",
              "    .colab-df-container {\n",
              "      display:flex;\n",
              "      flex-wrap:wrap;\n",
              "      gap: 12px;\n",
              "    }\n",
              "\n",
              "    .colab-df-convert {\n",
              "      background-color: #E8F0FE;\n",
              "      border: none;\n",
              "      border-radius: 50%;\n",
              "      cursor: pointer;\n",
              "      display: none;\n",
              "      fill: #1967D2;\n",
              "      height: 32px;\n",
              "      padding: 0 0 0 0;\n",
              "      width: 32px;\n",
              "    }\n",
              "\n",
              "    .colab-df-convert:hover {\n",
              "      background-color: #E2EBFA;\n",
              "      box-shadow: 0px 1px 2px rgba(60, 64, 67, 0.3), 0px 1px 3px 1px rgba(60, 64, 67, 0.15);\n",
              "      fill: #174EA6;\n",
              "    }\n",
              "\n",
              "    [theme=dark] .colab-df-convert {\n",
              "      background-color: #3B4455;\n",
              "      fill: #D2E3FC;\n",
              "    }\n",
              "\n",
              "    [theme=dark] .colab-df-convert:hover {\n",
              "      background-color: #434B5C;\n",
              "      box-shadow: 0px 1px 3px 1px rgba(0, 0, 0, 0.15);\n",
              "      filter: drop-shadow(0px 1px 2px rgba(0, 0, 0, 0.3));\n",
              "      fill: #FFFFFF;\n",
              "    }\n",
              "  </style>\n",
              "\n",
              "      <script>\n",
              "        const buttonEl =\n",
              "          document.querySelector('#df-d9fc9a46-8f75-4f29-bfb7-782206b94c18 button.colab-df-convert');\n",
              "        buttonEl.style.display =\n",
              "          google.colab.kernel.accessAllowed ? 'block' : 'none';\n",
              "\n",
              "        async function convertToInteractive(key) {\n",
              "          const element = document.querySelector('#df-d9fc9a46-8f75-4f29-bfb7-782206b94c18');\n",
              "          const dataTable =\n",
              "            await google.colab.kernel.invokeFunction('convertToInteractive',\n",
              "                                                     [key], {});\n",
              "          if (!dataTable) return;\n",
              "\n",
              "          const docLinkHtml = 'Like what you see? Visit the ' +\n",
              "            '<a target=\"_blank\" href=https://colab.research.google.com/notebooks/data_table.ipynb>data table notebook</a>'\n",
              "            + ' to learn more about interactive tables.';\n",
              "          element.innerHTML = '';\n",
              "          dataTable['output_type'] = 'display_data';\n",
              "          await google.colab.output.renderOutput(dataTable, element);\n",
              "          const docLink = document.createElement('div');\n",
              "          docLink.innerHTML = docLinkHtml;\n",
              "          element.appendChild(docLink);\n",
              "        }\n",
              "      </script>\n",
              "    </div>\n",
              "  </div>\n",
              "  "
            ]
          },
          "metadata": {},
          "execution_count": 4
        }
      ]
    },
    {
      "cell_type": "code",
      "source": [
        "#look at datatypes\n",
        "interviewData.dtypes"
      ],
      "metadata": {
        "id": "naPFi5pBZMQO",
        "colab": {
          "base_uri": "https://localhost:8080/"
        },
        "outputId": "cb3de810-b2f1-4299-abe6-d5c1bcedb439"
      },
      "execution_count": null,
      "outputs": [
        {
          "output_type": "execute_result",
          "data": {
            "text/plain": [
              "URBRRL          int64\n",
              "RATCAT_A        int64\n",
              "INCGRP_A        int64\n",
              "INCTCFLG_A      int64\n",
              "FAMINCTC_A      int64\n",
              "               ...   \n",
              "RECTYPE         int64\n",
              "WTFA_A        float64\n",
              "WTIA_A        float64\n",
              "HHX            object\n",
              "POVRATTC_A    float64\n",
              "Length: 534, dtype: object"
            ]
          },
          "metadata": {},
          "execution_count": 5
        }
      ]
    },
    {
      "cell_type": "code",
      "source": [
        "#let's which are not numbers\n",
        "interviewData.select_dtypes(exclude=['int64', 'float64'])\n",
        "#HHX column is string code\n",
        "#everything else is a number/float"
      ],
      "metadata": {
        "id": "HjBseY4RZ-VV",
        "colab": {
          "base_uri": "https://localhost:8080/",
          "height": 417
        },
        "outputId": "cdf5e730-0705-488c-8adf-9a74bd403359"
      },
      "execution_count": null,
      "outputs": [
        {
          "output_type": "execute_result",
          "data": {
            "text/plain": [
              "           HHX\n",
              "0      H048109\n",
              "1      H027044\n",
              "2      H058855\n",
              "3      H031993\n",
              "4      H007122\n",
              "...        ...\n",
              "31992  H046022\n",
              "31993  H046232\n",
              "31994  H043765\n",
              "31995  H017695\n",
              "31996  H026306\n",
              "\n",
              "[31997 rows x 1 columns]"
            ],
            "text/html": [
              "\n",
              "  <div id=\"df-3381eb8a-42b8-45f1-8e57-5517360c7b96\">\n",
              "    <div class=\"colab-df-container\">\n",
              "      <div>\n",
              "<style scoped>\n",
              "    .dataframe tbody tr th:only-of-type {\n",
              "        vertical-align: middle;\n",
              "    }\n",
              "\n",
              "    .dataframe tbody tr th {\n",
              "        vertical-align: top;\n",
              "    }\n",
              "\n",
              "    .dataframe thead th {\n",
              "        text-align: right;\n",
              "    }\n",
              "</style>\n",
              "<table border=\"1\" class=\"dataframe\">\n",
              "  <thead>\n",
              "    <tr style=\"text-align: right;\">\n",
              "      <th></th>\n",
              "      <th>HHX</th>\n",
              "    </tr>\n",
              "  </thead>\n",
              "  <tbody>\n",
              "    <tr>\n",
              "      <th>0</th>\n",
              "      <td>H048109</td>\n",
              "    </tr>\n",
              "    <tr>\n",
              "      <th>1</th>\n",
              "      <td>H027044</td>\n",
              "    </tr>\n",
              "    <tr>\n",
              "      <th>2</th>\n",
              "      <td>H058855</td>\n",
              "    </tr>\n",
              "    <tr>\n",
              "      <th>3</th>\n",
              "      <td>H031993</td>\n",
              "    </tr>\n",
              "    <tr>\n",
              "      <th>4</th>\n",
              "      <td>H007122</td>\n",
              "    </tr>\n",
              "    <tr>\n",
              "      <th>...</th>\n",
              "      <td>...</td>\n",
              "    </tr>\n",
              "    <tr>\n",
              "      <th>31992</th>\n",
              "      <td>H046022</td>\n",
              "    </tr>\n",
              "    <tr>\n",
              "      <th>31993</th>\n",
              "      <td>H046232</td>\n",
              "    </tr>\n",
              "    <tr>\n",
              "      <th>31994</th>\n",
              "      <td>H043765</td>\n",
              "    </tr>\n",
              "    <tr>\n",
              "      <th>31995</th>\n",
              "      <td>H017695</td>\n",
              "    </tr>\n",
              "    <tr>\n",
              "      <th>31996</th>\n",
              "      <td>H026306</td>\n",
              "    </tr>\n",
              "  </tbody>\n",
              "</table>\n",
              "<p>31997 rows × 1 columns</p>\n",
              "</div>\n",
              "      <button class=\"colab-df-convert\" onclick=\"convertToInteractive('df-3381eb8a-42b8-45f1-8e57-5517360c7b96')\"\n",
              "              title=\"Convert this dataframe to an interactive table.\"\n",
              "              style=\"display:none;\">\n",
              "        \n",
              "  <svg xmlns=\"http://www.w3.org/2000/svg\" height=\"24px\"viewBox=\"0 0 24 24\"\n",
              "       width=\"24px\">\n",
              "    <path d=\"M0 0h24v24H0V0z\" fill=\"none\"/>\n",
              "    <path d=\"M18.56 5.44l.94 2.06.94-2.06 2.06-.94-2.06-.94-.94-2.06-.94 2.06-2.06.94zm-11 1L8.5 8.5l.94-2.06 2.06-.94-2.06-.94L8.5 2.5l-.94 2.06-2.06.94zm10 10l.94 2.06.94-2.06 2.06-.94-2.06-.94-.94-2.06-.94 2.06-2.06.94z\"/><path d=\"M17.41 7.96l-1.37-1.37c-.4-.4-.92-.59-1.43-.59-.52 0-1.04.2-1.43.59L10.3 9.45l-7.72 7.72c-.78.78-.78 2.05 0 2.83L4 21.41c.39.39.9.59 1.41.59.51 0 1.02-.2 1.41-.59l7.78-7.78 2.81-2.81c.8-.78.8-2.07 0-2.86zM5.41 20L4 18.59l7.72-7.72 1.47 1.35L5.41 20z\"/>\n",
              "  </svg>\n",
              "      </button>\n",
              "      \n",
              "  <style>\n",
              "    .colab-df-container {\n",
              "      display:flex;\n",
              "      flex-wrap:wrap;\n",
              "      gap: 12px;\n",
              "    }\n",
              "\n",
              "    .colab-df-convert {\n",
              "      background-color: #E8F0FE;\n",
              "      border: none;\n",
              "      border-radius: 50%;\n",
              "      cursor: pointer;\n",
              "      display: none;\n",
              "      fill: #1967D2;\n",
              "      height: 32px;\n",
              "      padding: 0 0 0 0;\n",
              "      width: 32px;\n",
              "    }\n",
              "\n",
              "    .colab-df-convert:hover {\n",
              "      background-color: #E2EBFA;\n",
              "      box-shadow: 0px 1px 2px rgba(60, 64, 67, 0.3), 0px 1px 3px 1px rgba(60, 64, 67, 0.15);\n",
              "      fill: #174EA6;\n",
              "    }\n",
              "\n",
              "    [theme=dark] .colab-df-convert {\n",
              "      background-color: #3B4455;\n",
              "      fill: #D2E3FC;\n",
              "    }\n",
              "\n",
              "    [theme=dark] .colab-df-convert:hover {\n",
              "      background-color: #434B5C;\n",
              "      box-shadow: 0px 1px 3px 1px rgba(0, 0, 0, 0.15);\n",
              "      filter: drop-shadow(0px 1px 2px rgba(0, 0, 0, 0.3));\n",
              "      fill: #FFFFFF;\n",
              "    }\n",
              "  </style>\n",
              "\n",
              "      <script>\n",
              "        const buttonEl =\n",
              "          document.querySelector('#df-3381eb8a-42b8-45f1-8e57-5517360c7b96 button.colab-df-convert');\n",
              "        buttonEl.style.display =\n",
              "          google.colab.kernel.accessAllowed ? 'block' : 'none';\n",
              "\n",
              "        async function convertToInteractive(key) {\n",
              "          const element = document.querySelector('#df-3381eb8a-42b8-45f1-8e57-5517360c7b96');\n",
              "          const dataTable =\n",
              "            await google.colab.kernel.invokeFunction('convertToInteractive',\n",
              "                                                     [key], {});\n",
              "          if (!dataTable) return;\n",
              "\n",
              "          const docLinkHtml = 'Like what you see? Visit the ' +\n",
              "            '<a target=\"_blank\" href=https://colab.research.google.com/notebooks/data_table.ipynb>data table notebook</a>'\n",
              "            + ' to learn more about interactive tables.';\n",
              "          element.innerHTML = '';\n",
              "          dataTable['output_type'] = 'display_data';\n",
              "          await google.colab.output.renderOutput(dataTable, element);\n",
              "          const docLink = document.createElement('div');\n",
              "          docLink.innerHTML = docLinkHtml;\n",
              "          element.appendChild(docLink);\n",
              "        }\n",
              "      </script>\n",
              "    </div>\n",
              "  </div>\n",
              "  "
            ]
          },
          "metadata": {},
          "execution_count": 6
        }
      ]
    },
    {
      "cell_type": "code",
      "source": [
        "#look at all columns (variables/features)\n",
        "for c in interviewData.columns:\n",
        "    print (c)"
      ],
      "metadata": {
        "id": "CWpDc2SUV0in",
        "colab": {
          "base_uri": "https://localhost:8080/"
        },
        "outputId": "4245f5e2-5b26-4698-99fc-cf1a43ba80f8"
      },
      "execution_count": null,
      "outputs": [
        {
          "output_type": "stream",
          "name": "stdout",
          "text": [
            "URBRRL\n",
            "RATCAT_A\n",
            "INCGRP_A\n",
            "INCTCFLG_A\n",
            "FAMINCTC_A\n",
            "IMPINCFLG_A\n",
            "PPSU\n",
            "PSTRAT\n",
            "HISPALLP_A\n",
            "RACEALLP_A\n",
            "DISAB3_A\n",
            "SCHDYMSSTC_A\n",
            "AFNOW\n",
            "PHQCAT_A\n",
            "YRSINUS_A\n",
            "CITZNSTP_A\n",
            "LEGMSTAT_A\n",
            "MARSTAT_A\n",
            "SASPPRACE_A\n",
            "SASPPHISP_A\n",
            "PRTNREDUC_A\n",
            "SPOUSEDUC_A\n",
            "PRTNRAGETC_A\n",
            "SPOUSAGETC_A\n",
            "PRTNRWKFT_A\n",
            "PRTNRWRK_A\n",
            "SPOUSWKFT_A\n",
            "SPOUSWRK_A\n",
            "SPOUSESEX_A\n",
            "PRTNRSEX_A\n",
            "SHTHPVAGEP_A\n",
            "SHINGRXYRP_A\n",
            "ZOSTAVXYRP_A\n",
            "HHRESPSA_FLG\n",
            "GADCAT_A\n",
            "PCNTADTWFP_A\n",
            "PCNTADTWKP_A\n",
            "FDSCAT4_A\n",
            "FDSCAT3_A\n",
            "EMPDYSMSS2_A\n",
            "EMPLSTWORK_A\n",
            "EMPWRKFT_A\n",
            "EMPWRKLSWK_A\n",
            "EMPWKHRS2_A\n",
            "DIFYRSTC_A\n",
            "DIBAGETC_A\n",
            "SMKECIGST_A\n",
            "SMKCIGST_A\n",
            "BMICAT_A\n",
            "WEIGHTLBTC_A\n",
            "HEIGHTTC_A\n",
            "URGNT12MTC_A\n",
            "EMERG12MTC_A\n",
            "PSA5YRTC_A\n",
            "PCNTTC\n",
            "PCNT18UPTC\n",
            "PCNTLT18TC\n",
            "COVER65_A\n",
            "COVER_A\n",
            "EXCHANGE_A\n",
            "NOTCOV_A\n",
            "MILSPC1R_A\n",
            "OGFLG_A\n",
            "OPFLG_A\n",
            "CHFLG_A\n",
            "MAFLG_A\n",
            "PLNWRKR2_A\n",
            "PLNWRKR1_A\n",
            "RSNHIMISS_A\n",
            "RSNHIJOB_A\n",
            "MCADVR_A\n",
            "PRFLG_A\n",
            "PLEXCHPR1_A\n",
            "PRPREM1_A\n",
            "PXCHNG1_A\n",
            "HICOSTR2_A\n",
            "HICOSTR1_A\n",
            "OTHGOV_A\n",
            "OTHPUB_A\n",
            "IHS_A\n",
            "MILITARY_A\n",
            "CHIP_A\n",
            "MEDICAID_A\n",
            "MEDICARE_A\n",
            "PRIVATE_A\n",
            "PRPLCOV1_C_A\n",
            "PRPLCOV2_C_A\n",
            "PLEXCHOG_A\n",
            "PLEXCHOP_A\n",
            "EXCHPR2_A\n",
            "EXCHPR1_A\n",
            "EDUC_A\n",
            "MAXEDUC_A\n",
            "PARSTAT_A\n",
            "SAPARENTSC_A\n",
            "MLTFAMFLG_A\n",
            "OVER65FLG_A\n",
            "PCNTFAM_A\n",
            "PCNTADLT_A\n",
            "PCNTKIDS_A\n",
            "NUMCAN_A\n",
            "COLRCAGETC_A\n",
            "HDNCKAGETC_A\n",
            "OTHERAGETC_A\n",
            "UTERUAGETC_A\n",
            "THYROAGETC_A\n",
            "THROAAGETC_A\n",
            "STOMAAGETC_A\n",
            "SKNDKAGETC_A\n",
            "SKNNMAGETC_A\n",
            "SKNMAGETC_A\n",
            "RECTUAGETC_A\n",
            "PROSTAGETC_A\n",
            "PANCRAGETC_A\n",
            "OVARYAGETC_A\n",
            "MOUTHAGETC_A\n",
            "MELANAGETC_A\n",
            "LYMPHAGETC_A\n",
            "LUNGAGETC_A\n",
            "LIVERAGETC_A\n",
            "LEUKEAGETC_A\n",
            "LARYNAGETC_A\n",
            "GALLBAGETC_A\n",
            "ESOPHAGETC_A\n",
            "COLONAGETC_A\n",
            "CERVIAGETC_A\n",
            "BREASAGETC_A\n",
            "BRAINAGETC_A\n",
            "BONEAGETC_A\n",
            "BLOODAGETC_A\n",
            "BLADDAGETC_A\n",
            "OTHERCANP_A\n",
            "COLRCCAN_A\n",
            "HDNCKCAN_A\n",
            "UTERUCAN_A\n",
            "THYROCAN_A\n",
            "THROACAN_A\n",
            "STOMACAN_A\n",
            "SKNDKCAN_A\n",
            "SKNNMCAN_A\n",
            "SKNMCAN_A\n",
            "RECTUCAN_A\n",
            "PROSTCAN_A\n",
            "PANCRCAN_A\n",
            "OVARYCAN_A\n",
            "MOUTHCAN_A\n",
            "MELANCAN_A\n",
            "LYMPHCAN_A\n",
            "LUNGCAN_A\n",
            "LIVERCAN_A\n",
            "LEUKECAN_A\n",
            "LARYNCAN_A\n",
            "GALLBCAN_A\n",
            "ESOPHCAN_A\n",
            "COLONCAN_A\n",
            "CERVICAN_A\n",
            "BREASCAN_A\n",
            "BRAINCAN_A\n",
            "BONECAN_A\n",
            "BLOODCAN_A\n",
            "BLADDCAN_A\n",
            "HISDETP_A\n",
            "HISP_A\n",
            "REGION\n",
            "SRVY_YR\n",
            "SEX_A\n",
            "AGEP_A\n",
            "AGE65\n",
            "ASTATNEW\n",
            "HOUGVASST_A\n",
            "HOUTENURE_A\n",
            "HOUYRSLIV_A\n",
            "FDSNEDAYS_A\n",
            "FDSNOTEAT_A\n",
            "FDSWEIGHT_A\n",
            "FDSHUNGRY_A\n",
            "FDSLESS_A\n",
            "FDSSKIPDYS_A\n",
            "FDSSKIP_A\n",
            "FDSBALANCE_A\n",
            "FDSLAST_A\n",
            "FDSRUNOUT_A\n",
            "FLUNCH12M_A\n",
            "FWIC12M_A\n",
            "FSNAP30D_A\n",
            "FSNAP12M_A\n",
            "INCOTHR_A\n",
            "INCRETIRE_A\n",
            "INCWELF_A\n",
            "SSISSDIDSB_A\n",
            "SSISSDIBTH_A\n",
            "INCSSISSDI_A\n",
            "INCSSRR_A\n",
            "INCINTER_A\n",
            "INCWRKO_A\n",
            "EMPOFFHI_A\n",
            "EMPPDSKLV_A\n",
            "EMPRSNOWK_A\n",
            "SCHCURENR_A\n",
            "NATUSBORN_A\n",
            "VACAREEV_A\n",
            "VAHOSP_A\n",
            "VADISB_A\n",
            "COMBAT_A\n",
            "AFVETTRN_A\n",
            "AFVET_A\n",
            "EVRMARRIED_A\n",
            "SPOUSEP_A\n",
            "SPOUSLIV_A\n",
            "MARITAL_A\n",
            "ORIENT_A\n",
            "SMOKELSCUR_A\n",
            "SMOKELSEV_A\n",
            "PIPECUR_A\n",
            "PIPEEV_A\n",
            "CIGAR30D_A\n",
            "CIGARCUR_A\n",
            "CIGAREV_A\n",
            "ECIGNOW_A\n",
            "ECIGEV_A\n",
            "CIG30D_A\n",
            "SMK30D_A\n",
            "CIGNOW_A\n",
            "SMKNOW_A\n",
            "SMKEV_A\n",
            "ARTHPH_A\n",
            "ARTHWT_A\n",
            "ARTHWRK_A\n",
            "ARTHLMT_A\n",
            "JNTPN_A\n",
            "JNTSYMP_A\n",
            "PAITOOTH3M_A\n",
            "PAIAPG3M_A\n",
            "PAIHDFC3M_A\n",
            "PAILLMB3M_A\n",
            "PAIULMB3M_A\n",
            "PAIBACK3M_A\n",
            "PAINMEFF_A\n",
            "PAIMOTHER_A\n",
            "PAIMEDITAT_A\n",
            "PAIMASSAGE_A\n",
            "PAIYOGA_A\n",
            "PAIGROUP_A\n",
            "PAIPROGRAM_A\n",
            "PAITALKTPY_A\n",
            "PAICHIRO_A\n",
            "PAIPHYSTPY_A\n",
            "PAIAFFM3M_A\n",
            "PAIWKLM3M_A\n",
            "PAIAMNT_A\n",
            "PAIFRQ3M_A\n",
            "GAD77_A\n",
            "GAD76_A\n",
            "GAD75_A\n",
            "GAD74_A\n",
            "GAD73_A\n",
            "GAD72_A\n",
            "GAD71_A\n",
            "PHQ88_A\n",
            "PHQ87_A\n",
            "PHQ86_A\n",
            "PHQ85_A\n",
            "PHQ84_A\n",
            "PHQ83_A\n",
            "PHQ82_A\n",
            "PHQ81_A\n",
            "MHTHND_A\n",
            "MHTHDLY_A\n",
            "MHTPYNOW_A\n",
            "MHTHRPY_A\n",
            "MHRX_A\n",
            "DEPLEVEL_A\n",
            "DEPMED_A\n",
            "DEPFREQ_A\n",
            "ANXLEVEL_A\n",
            "ANXMED_A\n",
            "ANXFREQ_A\n",
            "HOMEHC12M_A\n",
            "THERA12M_A\n",
            "EYEEX12M_A\n",
            "WRKHLTHFC_A\n",
            "WORKHEALTH_A\n",
            "SHTHPV_A\n",
            "SHTTDAP_A\n",
            "SHTTETANUS_A\n",
            "TDAPPREG_A\n",
            "SHINGWHEN_A\n",
            "SHINGRIXNB_A\n",
            "SHINGRIX_A\n",
            "ZOSTAWHEN_A\n",
            "ZOSTAVAX_A\n",
            "SHTSHINGLE_A\n",
            "SHTPNEUNB_A\n",
            "SHTPNUEV_A\n",
            "FLUPREG2_A\n",
            "FLUPREG_A\n",
            "SHTFLUY_A\n",
            "SHTFLUM_A\n",
            "SHTFLU12M_A\n",
            "LIVEBIRTH_A\n",
            "PREGFLUYR_A\n",
            "BEXAMREAS_A\n",
            "BEXAMWHEN_A\n",
            "BREASTEXAM_A\n",
            "MAMWHY1ST_A\n",
            "MAMAGE1ST_A\n",
            "MAMREASON_A\n",
            "MAMWHEN_A\n",
            "MAMEV_A\n",
            "HYSTEV_A\n",
            "CERVICNOT_A\n",
            "CERVICRES_A\n",
            "HPVTEST_A\n",
            "PAPTEST_A\n",
            "CERREASON_A\n",
            "CERVICWHEN_A\n",
            "CERVICEV_A\n",
            "PSADISADV_A\n",
            "PSAADVANT_A\n",
            "PSASUGGEST_A\n",
            "PSAREASON_A\n",
            "PSAWHEN_A\n",
            "PSATEST_A\n",
            "COLKIND6_A\n",
            "COLKIND5_A\n",
            "COLKIND4_A\n",
            "COLKIND3_A\n",
            "COLKIND2_A\n",
            "COLKIND1_A\n",
            "COLPROBLEM_A\n",
            "FITCOLG_A\n",
            "COLOGUARD_A\n",
            "FITHWHEN_A\n",
            "FITHEV_A\n",
            "CTCOLWHEN_A\n",
            "CTCOLEV_A\n",
            "COLOROTH_A\n",
            "SIGWHEN_A\n",
            "COLSIGWHEN_A\n",
            "COLPAY_A\n",
            "COLREASON_A\n",
            "COLWHEN_A\n",
            "COLORECTYP_A\n",
            "COLORECTEV_A\n",
            "DIABLAST_A\n",
            "CHOLLAST_A\n",
            "BPLAST_A\n",
            "OPDFREQ_A\n",
            "OPDCHRONIC_A\n",
            "OPDACUTE_A\n",
            "OPD3M_A\n",
            "OPD12M_A\n",
            "RXDG12M_A\n",
            "RXDL12M_A\n",
            "RXLS12M_A\n",
            "RXSK12M_A\n",
            "RX12M_A\n",
            "MEDNG12M_A\n",
            "MEDDL12M_A\n",
            "HOSPONGT_A\n",
            "USPLKIND_A\n",
            "USUALPL_A\n",
            "WELLVIS_A\n",
            "WELLNESS_A\n",
            "LASTDR_A\n",
            "DENNG12M_A\n",
            "DENDL12M_A\n",
            "DENPREV_A\n",
            "PAYWORRY_A\n",
            "PAYNOBLLNW_A\n",
            "PAYBLL12M_A\n",
            "HINOTMYR_A\n",
            "HINOTYR_A\n",
            "RSNHIOTH_A\n",
            "RSNHIWAIT_A\n",
            "RSNHIMEET_A\n",
            "RSNHICONF_A\n",
            "RSNHIELIG_A\n",
            "RSNHIWANT_A\n",
            "RSNHICOST_A\n",
            "HISTOPELIG_A\n",
            "HISTOPCOST_A\n",
            "HISTOPAGE_A\n",
            "HISTOPMISS_A\n",
            "HISTOPJOB_A\n",
            "HILASTMY_A\n",
            "HILAST_A\n",
            "MILSPC3_A\n",
            "MILSPC2_A\n",
            "MILSPC1_A\n",
            "OGHDHP_A\n",
            "OGDEDUC_A\n",
            "OGPREM_A\n",
            "OGXCHNG_A\n",
            "OPHDHP_A\n",
            "OPDEDUC_A\n",
            "OPPREM_A\n",
            "OPXCHNG_A\n",
            "CHHDHP_A\n",
            "CHDEDUC_A\n",
            "CHPREM_A\n",
            "CHXCHNG_A\n",
            "PRVSCOV2_A\n",
            "PRVSCOV1_A\n",
            "PRDNCOV2_A\n",
            "PRDNCOV1_A\n",
            "PRRXCOV2_A\n",
            "PRRXCOV1_A\n",
            "HSAHRA2_A\n",
            "HSAHRA1_A\n",
            "PRHDHP2_A\n",
            "PRHDHP1_A\n",
            "PRDEDUC2_A\n",
            "PRDEDUC1_A\n",
            "PLN2PAY6_A\n",
            "PLN2PAY5_A\n",
            "PLN2PAY4_A\n",
            "PLN2PAY3_A\n",
            "PLN2PAY2_A\n",
            "PLN2PAY1_A\n",
            "PLN1PAY6_A\n",
            "PLN1PAY5_A\n",
            "PLN1PAY4_A\n",
            "PLN1PAY3_A\n",
            "PLN1PAY2_A\n",
            "PLN1PAY1_A\n",
            "PLNEXCHG2_A\n",
            "PLNEXCHG1_A\n",
            "PRPOLH2_A\n",
            "PRPOLH1_A\n",
            "PRPLCOV2_A\n",
            "PRPLCOV1_A\n",
            "POLHLD2_A\n",
            "POLHLD1_A\n",
            "MAHDHP_A\n",
            "MADEDUC_A\n",
            "MAPREM_A\n",
            "MAXCHNG_A\n",
            "MCPARTD_A\n",
            "MCHMO_A\n",
            "MCCHOICE_A\n",
            "MCPART_A\n",
            "SINCOVRX_A\n",
            "SINCOVVS_A\n",
            "SINCOVDE_A\n",
            "MCAIDPRB_A\n",
            "MCAREPRB_A\n",
            "HIKIND10_A\n",
            "HIKIND09_A\n",
            "HIKIND08_A\n",
            "HIKIND07_A\n",
            "HIKIND06_A\n",
            "HIKIND05_A\n",
            "HIKIND04_A\n",
            "HIKIND03_A\n",
            "HIKIND02_A\n",
            "HIKIND01_A\n",
            "HICOV_A\n",
            "SOCWRKLIM_A\n",
            "SOCSCLPAR_A\n",
            "SOCERRNDS_A\n",
            "UPPOBJCT_A\n",
            "UPPRAISE_A\n",
            "UPPSLFCR_A\n",
            "COGAMTDFF_A\n",
            "COGFRQDFF_A\n",
            "COGTYPEDFF_A\n",
            "COGMEMDFF_A\n",
            "COMDIFF_A\n",
            "EQSTEPS_A\n",
            "EQWLK13M_A\n",
            "EQWLK100_A\n",
            "NOEQSTEPS_A\n",
            "NOEQWLK13M_A\n",
            "NOEQWLK100_A\n",
            "PERASST_A\n",
            "WCHAIR_A\n",
            "CANEWLKR_A\n",
            "STEPS_A\n",
            "WLK13M_A\n",
            "WLK100_A\n",
            "EQUIP_A\n",
            "DIFF_A\n",
            "HEARINGDF_A\n",
            "HEARAIDFR_A\n",
            "HEARAID_A\n",
            "VISIONDF_A\n",
            "WEARGLSS_A\n",
            "PREGNOW_A\n",
            "DEPEV_A\n",
            "ANXEV_A\n",
            "DEMENEV_A\n",
            "ARTHEV_A\n",
            "COPDEV_A\n",
            "DIBTYPE_A\n",
            "DIBINSSTYR_A\n",
            "DIBINSSTOP_A\n",
            "DIBINSTIME_A\n",
            "DIBINS_A\n",
            "DIBPILL_A\n",
            "DIBEV_A\n",
            "GESDIB_A\n",
            "PREDIB_A\n",
            "CANEV_A\n",
            "ASER12M_A\n",
            "ASAT12M_A\n",
            "ASTILL_A\n",
            "ASEV_A\n",
            "ASPONOWN_A\n",
            "ASPMEDSTP_A\n",
            "ASPMEDNOWN_A\n",
            "ASPMEDEV_A\n",
            "STREV_A\n",
            "MIEV_A\n",
            "ANGEV_A\n",
            "CHDEV_A\n",
            "CHLMED_A\n",
            "CHL12M_A\n",
            "CHLEV_A\n",
            "HYPMED_A\n",
            "HYP12M_A\n",
            "HYPDIF_A\n",
            "HYPEV_A\n",
            "PHSTAT_A\n",
            "PROXYREL_A\n",
            "PROXY_A\n",
            "AVAIL_A\n",
            "HHSTAT_A\n",
            "INTV_QRT\n",
            "RECTYPE\n",
            "WTFA_A\n",
            "WTIA_A\n",
            "HHX\n",
            "POVRATTC_A\n"
          ]
        }
      ]
    },
    {
      "cell_type": "code",
      "source": [
        "#check for NANs per column\n",
        "#total columns\n",
        "tot_col = len(interviewData.columns)\n",
        "#columns with missing data\n",
        "missingData_cols=interviewData.columns[interviewData.isnull().any(axis=0)]\n",
        "\n",
        "print('total columns:', tot_col)\n",
        "print('total columns w/ missing data: ', len(missingData_cols))\n",
        "print('% columns w/ missing data: ', len(missingData_cols)/tot_col*100)\n"
      ],
      "metadata": {
        "id": "14wRgEoYXu7V",
        "colab": {
          "base_uri": "https://localhost:8080/"
        },
        "outputId": "364cb4d9-4f74-481d-f0c5-d76b9bb734ff"
      },
      "execution_count": null,
      "outputs": [
        {
          "output_type": "stream",
          "name": "stdout",
          "text": [
            "total columns: 534\n",
            "total columns w/ missing data:  366\n",
            "% columns w/ missing data:  68.53932584269663\n"
          ]
        }
      ]
    },
    {
      "cell_type": "code",
      "source": [
        "#check for NANs per column\n",
        "#total rows\n",
        "tot_rows = len(interviewData.index)\n",
        "#columns with missing data\n",
        "missingData_rows=interviewData.index[interviewData.isnull().any(axis=1)]\n",
        "print('total rows:', tot_rows)\n",
        "print('total rows w/ missing data: ', len(missingData_rows))\n",
        "print('% rows w/ missing data: ', len(missingData_rows)/tot_rows*100)"
      ],
      "metadata": {
        "id": "XGhFRIdRYaHM",
        "colab": {
          "base_uri": "https://localhost:8080/"
        },
        "outputId": "f5151c82-580b-40b1-c98b-e0cdb70f31cd"
      },
      "execution_count": null,
      "outputs": [
        {
          "output_type": "stream",
          "name": "stdout",
          "text": [
            "total rows: 31997\n",
            "total rows w/ missing data:  31997\n",
            "% rows w/ missing data:  100.0\n"
          ]
        }
      ]
    },
    {
      "cell_type": "code",
      "source": [
        "#graph nans per column, normalized\n",
        "tot = len(interviewData.index)\n",
        "missingDataCounts_cols = interviewData.isnull().sum(axis=0)/tot*100\n",
        "\n",
        "fig = plt.figure(figsize=(15, 5))\n",
        "plt.bar(np.arange(len(missingDataCounts_cols)), missingDataCounts_cols)\n",
        "\n",
        "plt.ylim(top=100)\n",
        "plt.xlabel('Column')\n",
        "plt.ylabel('% Missing Data')\n",
        "\n",
        "plt.show()"
      ],
      "metadata": {
        "id": "haMD3vWDdWLB",
        "colab": {
          "base_uri": "https://localhost:8080/",
          "height": 338
        },
        "outputId": "c77f4d9f-0e78-45da-a035-6c7261046b03"
      },
      "execution_count": null,
      "outputs": [
        {
          "output_type": "display_data",
          "data": {
            "text/plain": [
              "<Figure size 1080x360 with 1 Axes>"
            ],
            "image/png": "[encoded data removed]"
          },
          "metadata": {
            "needs_background": "light"
          }
        }
      ]
    },
    {
      "cell_type": "code",
      "source": [
        "#histogram of missing data\n",
        "plt.hist(missingDataCounts_cols, bins=100)\n",
        "plt.show()"
      ],
      "metadata": {
        "id": "QSH5ljTLpd8k",
        "colab": {
          "base_uri": "https://localhost:8080/",
          "height": 265
        },
        "outputId": "3bfdb8af-30cd-48ff-dbdb-d504d7ca7bdc"
      },
      "execution_count": null,
      "outputs": [
        {
          "output_type": "display_data",
          "data": {
            "text/plain": [
              "<Figure size 432x288 with 1 Axes>"
            ],
            "image/png": "[encoded data removed]"
          },
          "metadata": {
            "needs_background": "light"
          }
        }
      ]
    },
    {
      "cell_type": "code",
      "source": [
        "#graph nans per row, normalized\n",
        "tot = len(interviewData.columns)\n",
        "missingDataCounts_rows = interviewData.isnull().sum(axis=1)/tot*100\n",
        "\n",
        "fig = plt.figure(figsize=(15, 5))\n",
        "plt.bar(np.arange(len(missingDataCounts_rows)), missingDataCounts_rows)\n",
        "\n",
        "plt.ylim(top=100)\n",
        "plt.xlabel('Row')\n",
        "plt.ylabel('% Missing Data')\n",
        "\n",
        "plt.show()"
      ],
      "metadata": {
        "id": "-M42wKiaiiXt",
        "colab": {
          "base_uri": "https://localhost:8080/",
          "height": 338
        },
        "outputId": "8242fb01-8704-4b3b-9d41-8bece5b40ffa"
      },
      "execution_count": null,
      "outputs": [
        {
          "output_type": "display_data",
          "data": {
            "text/plain": [
              "<Figure size 1080x360 with 1 Axes>"
            ],
            "image/png": "[encoded data removed]"
          },
          "metadata": {
            "needs_background": "light"
          }
        }
      ]
    },
    {
      "cell_type": "code",
      "source": [
        "#histogram of missing data\n",
        "plt.hist(missingDataCounts_rows, bins=100)\n",
        "plt.show()"
      ],
      "metadata": {
        "id": "oJb7CjrrpFnS",
        "colab": {
          "base_uri": "https://localhost:8080/",
          "height": 265
        },
        "outputId": "df1e7511-d8d0-4692-a586-f45a91b563f0"
      },
      "execution_count": null,
      "outputs": [
        {
          "output_type": "display_data",
          "data": {
            "text/plain": [
              "<Figure size 432x288 with 1 Axes>"
            ],
            "image/png": "[encoded data removed]"
          },
          "metadata": {
            "needs_background": "light"
          }
        }
      ]
    },
    {
      "cell_type": "markdown",
      "source": [
        "#Target column analysis\n"
      ],
      "metadata": {
        "id": "AqOFtOlq95nm"
      }
    },
    {
      "cell_type": "code",
      "source": [
        "target = interviewData.loc[:,'PHQCAT_A']\n",
        "plt.hist(target)\n",
        "target.value_counts()"
      ],
      "metadata": {
        "colab": {
          "base_uri": "https://localhost:8080/",
          "height": 366
        },
        "id": "BxsHJUjh9-oE",
        "outputId": "a6c55256-dde2-4400-a957-8c3ff3b132d0"
      },
      "execution_count": null,
      "outputs": [
        {
          "output_type": "execute_result",
          "data": {
            "text/plain": [
              "1    25355\n",
              "2     3702\n",
              "3     1319\n",
              "4      877\n",
              "8      744\n",
              "Name: PHQCAT_A, dtype: int64"
            ]
          },
          "metadata": {},
          "execution_count": 14
        },
        {
          "output_type": "display_data",
          "data": {
            "text/plain": [
              "<Figure size 432x288 with 1 Axes>"
            ],
            "image/png": "[encoded data removed]"
          },
          "metadata": {
            "needs_background": "light"
          }
        }
      ]
    },
    {
      "cell_type": "markdown",
      "source": [
        "# Isabelle\n",
        "Columns 1-162\n",
        "\n",
        "I decided to split up this part of the dataset into the sections as defined in the codebook. The variable names are all according to the codebook section names. These sections aren't all-inclusive, so if there's part that somebody else could add from their section, feel free.\n",
        "\n",
        "I specifically added the anxiety section as its own variable because I suspect that those columns will be relevant to our model. "
      ],
      "metadata": {
        "id": "MVSf0T9IiNVZ"
      }
    },
    {
      "cell_type": "code",
      "source": [
        "col_A = interviewData.loc[:,'URBRRL':'BLADDCAN_A']\n",
        "\n",
        "#sections\n",
        "target = interviewData.loc[:,'PHQCAT_A'] #this is the categorization of PHQ depressive symptoms\n",
        "\n",
        "family_composition = interviewData.loc[:,'EDUC_A':'PCNTKIDS_A'] #Family Composition section, includes some questions from other sections\n",
        "income = interviewData.loc[:,'RATCAT_A':'IMPINCFLG_A'] #Various income questions from different sections\n",
        "household_composition = pd.concat((interviewData.loc[:, 'HISPALLP_A':'AFNOW'], interviewData.loc[:, 'PCNTTC':'PCNTLT18TC']), axis=1) \n",
        "insurance = interviewData.loc[:,'COVER65_A':'EXCHPR1_A'] #Health Insurance section\n",
        "cancer = interviewData.loc[:,'NUMCAN_A':'BLADDCAN_A'] \n",
        "marital_status = interviewData.loc[:,'LEGMSTAT_A':'PRTNRSEX_A'] \n",
        "immunization = interviewData.loc[:,'SHTHPVAGEP_A':'ZOSTAVXYRP_A'] \n",
        "food_security = interviewData.loc[:,'FDSCAT4_A':'FDSCAT3_A']\n",
        "employment = interviewData.loc[:,'EMPDYSMSS2_A':'EMPWKHRS2_A']\n",
        "diabetes = interviewData.loc[:,'DIFYRSTC_A':'DIBAGETC_A']\n",
        "smoker = interviewData.loc[:,'SMKECIGST_A':'SMKCIGST_A']\n",
        "bmi = interviewData.loc[:,'BMICAT_A':'HEIGHTTC_A'] #includes bmi, weight, height\n",
        "utilization = interviewData.loc[:,'URGNT12MTC_A':'EMERG12MTC_A'] #utilization of urgent and emergency care\n",
        "\n",
        "\n",
        "#all columns starting with GAD are related to anxiety\n",
        "anxiety = pd.concat((interviewData.loc[:,'GADCAT_A'],interviewData.loc[:,'GAD77_A':'GAD71_A']), axis=1)"
      ],
      "metadata": {
        "id": "XQVEg_dViZQA"
      },
      "execution_count": null,
      "outputs": []
    },
    {
      "cell_type": "markdown",
      "source": [
        "I added these functions to make analysis more concise and repeatable. Feel free to use these in your own sections! They all come from Gabby's work on the entire dataset."
      ],
      "metadata": {
        "id": "3L3dK-u4-bcb"
      }
    },
    {
      "cell_type": "code",
      "source": [
        "def find_missing_cols(df):\n",
        "  #check for NANs per column\n",
        "  #total columns\n",
        "  tot_col = len(df.columns)\n",
        "  #columns with missing data\n",
        "  missingData_cols=df.columns[df.isnull().any(axis=0)]\n",
        "\n",
        "  print('total columns:', tot_col)\n",
        "  print('total columns w/ missing data: ', len(missingData_cols))\n",
        "  print('% columns w/ missing data: ', len(missingData_cols)/tot_col*100)"
      ],
      "metadata": {
        "id": "9vox-OLf59Cd"
      },
      "execution_count": null,
      "outputs": []
    },
    {
      "cell_type": "code",
      "source": [
        "def find_missing_rows(df):\n",
        "  #check for NANs per row\n",
        "  #total rows\n",
        "  tot_rows = len(df.index)\n",
        "  #columns with missing data\n",
        "  missingData_rows=df.index[df.isnull().any(axis=1)]\n",
        "  print('total rows:', tot_rows)\n",
        "  print('total rows w/ missing data: ', len(missingData_rows))\n",
        "  print('% rows w/ missing data: ', len(missingData_rows)/tot_rows*100)"
      ],
      "metadata": {
        "id": "KBb19Vx26x4L"
      },
      "execution_count": null,
      "outputs": []
    },
    {
      "cell_type": "code",
      "source": [
        "def plot_missing_cols(df):\n",
        "  #graph nans per column, normalized\n",
        "  tot = len(df.index)\n",
        "  missingDataCounts_cols = df.isnull().sum(axis=0)/tot*100\n",
        "\n",
        "  fig = plt.figure(figsize=(15, 5))\n",
        "  plt.bar(np.arange(len(missingDataCounts_cols)), missingDataCounts_cols)\n",
        "\n",
        "  plt.ylim(top=100)\n",
        "  plt.xlabel('Column')\n",
        "  plt.ylabel('% Missing Data')\n",
        "\n",
        "  plt.show()"
      ],
      "metadata": {
        "id": "TVcLWQl57vRF"
      },
      "execution_count": null,
      "outputs": []
    },
    {
      "cell_type": "code",
      "source": [
        "def plot_missing_rows(df):\n",
        "  #graph nans per row, normalized\n",
        "  tot = len(interviewData.columns)\n",
        "  missingDataCounts_rows = interviewData.isnull().sum(axis=1)/tot*100\n",
        "\n",
        "  fig = plt.figure(figsize=(15, 5))\n",
        "  plt.bar(np.arange(len(missingDataCounts_rows)), missingDataCounts_rows)\n",
        "\n",
        "  plt.ylim(top=100)\n",
        "  plt.xlabel('Row')\n",
        "  plt.ylabel('% Missing Data')\n",
        "\n",
        "  plt.show()"
      ],
      "metadata": {
        "id": "nV8fDlzN7zdt"
      },
      "execution_count": null,
      "outputs": []
    },
    {
      "cell_type": "code",
      "source": [
        "def analyze_missing_data(df, plot_rows=True):\n",
        "  find_missing_cols(df)\n",
        "  find_missing_rows(df)\n",
        "  plot_missing_cols(df)\n",
        "  if(plot_rows):\n",
        "    plot_missing_rows(df)"
      ],
      "metadata": {
        "id": "Eg_jz3Nu9TZO"
      },
      "execution_count": null,
      "outputs": []
    },
    {
      "cell_type": "code",
      "source": [
        "analyze_missing_data(target.to_frame(), plot_rows=False)"
      ],
      "metadata": {
        "colab": {
          "base_uri": "https://localhost:8080/"
        },
        "id": "TOBOV08Jch3Z",
        "outputId": "5be735d5-a0c8-4316-b6c8-240b9f143349"
      },
      "execution_count": null,
      "outputs": [
        {
          "output_type": "stream",
          "name": "stdout",
          "text": [
            "total columns: 1\n",
            "total columns w/ missing data:  0\n",
            "% columns w/ missing data:  0.0\n",
            "total rows: 31997\n",
            "total rows w/ missing data:  0\n",
            "% rows w/ missing data:  0.0\n"
          ]
        },
        {
          "output_type": "display_data",
          "data": {
            "text/plain": [
              "<Figure size 1080x360 with 1 Axes>"
            ],
            "image/png": "[encoded data removed]"
          },
          "metadata": {
            "needs_background": "light"
          }
        }
      ]
    },
    {
      "cell_type": "markdown",
      "source": [
        "#Marital Status"
      ],
      "metadata": {
        "id": "ZKr1HwweCd7X"
      }
    },
    {
      "cell_type": "code",
      "source": [
        "analyze_missing_data(marital_status, plot_rows=True)"
      ],
      "metadata": {
        "colab": {
          "base_uri": "https://localhost:8080/",
          "height": 760
        },
        "id": "BRlSYD5n6lKS",
        "outputId": "fcd8dfce-ae1b-4195-80f8-b1a61b4fc131"
      },
      "execution_count": null,
      "outputs": [
        {
          "output_type": "stream",
          "name": "stdout",
          "text": [
            "total columns: 14\n",
            "total columns w/ missing data:  12\n",
            "% columns w/ missing data:  85.71428571428571\n",
            "total rows: 31997\n",
            "total rows w/ missing data:  31997\n",
            "% rows w/ missing data:  100.0\n"
          ]
        },
        {
          "output_type": "display_data",
          "data": {
            "text/plain": [
              "<Figure size 1080x360 with 1 Axes>"
            ],
            "image/png": "[encoded data removed]"
          },
          "metadata": {
            "needs_background": "light"
          }
        },
        {
          "output_type": "display_data",
          "data": {
            "text/plain": [
              "<Figure size 1080x360 with 1 Axes>"
            ],
            "image/png": "[encoded data removed]"
          },
          "metadata": {
            "needs_background": "light"
          }
        }
      ]
    },
    {
      "cell_type": "code",
      "source": [
        "#grouping rows by marital status\n",
        "married = pd.DataFrame()\n",
        "live_together = pd.DataFrame()\n",
        "no_cohab = pd.DataFrame()\n",
        "refused = pd.DataFrame()\n",
        "not_ascertained = pd.DataFrame()\n",
        "dont_know = pd.DataFrame()\n",
        "missing = 0\n",
        "\n",
        "married = interviewData[interviewData['MARITAL_A']==1]\n",
        "live_together = interviewData[interviewData['MARITAL_A']==2]\n",
        "no_cohab = interviewData[interviewData['MARITAL_A']==3]\n",
        "refused = interviewData[interviewData['MARITAL_A']==7]\n",
        "not_ascertained = interviewData[interviewData['MARITAL_A']==8]\n",
        "dont_know = interviewData[interviewData['MARITAL_A']==9]\n",
        "\n",
        "married['MARITAL_A']\n"
      ],
      "metadata": {
        "id": "V5U9Y3blFN8H",
        "colab": {
          "base_uri": "https://localhost:8080/"
        },
        "outputId": "368977f1-409d-4973-9c1a-af95fe2c8fa0"
      },
      "execution_count": null,
      "outputs": [
        {
          "output_type": "execute_result",
          "data": {
            "text/plain": [
              "0        1\n",
              "1        1\n",
              "2        1\n",
              "3        1\n",
              "4        1\n",
              "        ..\n",
              "31991    1\n",
              "31992    1\n",
              "31993    1\n",
              "31995    1\n",
              "31996    1\n",
              "Name: MARITAL_A, Length: 14759, dtype: int64"
            ]
          },
          "metadata": {},
          "execution_count": 23
        }
      ]
    },
    {
      "cell_type": "code",
      "source": [
        ""
      ],
      "metadata": {
        "id": "n_QgYXSMYW6w"
      },
      "execution_count": null,
      "outputs": []
    },
    {
      "cell_type": "markdown",
      "source": [
        "#Insurance\n",
        "Since I don't think that insurance type is relevant to our question, we can use NOTCOV_A to determine whether someone has health insurance coverage or not."
      ],
      "metadata": {
        "id": "BA4ayZ-vCjHC"
      }
    },
    {
      "cell_type": "code",
      "source": [
        "analyze_missing_data(insurance, plot_rows=False)"
      ],
      "metadata": {
        "id": "GnccjPMg-2PE",
        "colab": {
          "base_uri": "https://localhost:8080/",
          "height": 440
        },
        "outputId": "ab1188b8-3325-4a23-ebb2-a7e31dcc08d6"
      },
      "execution_count": null,
      "outputs": [
        {
          "output_type": "stream",
          "name": "stdout",
          "text": [
            "total columns: 34\n",
            "total columns w/ missing data:  25\n",
            "% columns w/ missing data:  73.52941176470588\n",
            "total rows: 31997\n",
            "total rows w/ missing data:  31997\n",
            "% rows w/ missing data:  100.0\n"
          ]
        },
        {
          "output_type": "display_data",
          "data": {
            "text/plain": [
              "<Figure size 1080x360 with 1 Axes>"
            ],
            "image/png": "[encoded data removed]"
          },
          "metadata": {
            "needs_background": "light"
          }
        }
      ]
    },
    {
      "cell_type": "markdown",
      "source": [
        "#Cancer\n",
        "\n",
        "For this section, rather than compiling all of the answers manually, I think we should use the CANEV_A column, which asks if the responder has ever been told that they have cancer. According to the codebook, only 14% of respondents refused to answer or didn't know, and that data is also encoded numerically."
      ],
      "metadata": {
        "id": "TLMP6YAuCafW"
      }
    },
    {
      "cell_type": "code",
      "source": [
        "hist_cancer = interviewData.loc[:,'CANEV_A']\n",
        "analyze_missing_data(hist_cancer.to_frame(), plot_rows = False)"
      ],
      "metadata": {
        "id": "qwVofOxNDCyh",
        "colab": {
          "base_uri": "https://localhost:8080/",
          "height": 440
        },
        "outputId": "35279e3d-a984-4599-b867-c7ca59588893"
      },
      "execution_count": null,
      "outputs": [
        {
          "output_type": "stream",
          "name": "stdout",
          "text": [
            "total columns: 1\n",
            "total columns w/ missing data:  0\n",
            "% columns w/ missing data:  0.0\n",
            "total rows: 31997\n",
            "total rows w/ missing data:  0\n",
            "% rows w/ missing data:  0.0\n"
          ]
        },
        {
          "output_type": "display_data",
          "data": {
            "text/plain": [
              "<Figure size 1080x360 with 1 Axes>"
            ],
            "image/png": "[encoded data removed]"
          },
          "metadata": {
            "needs_background": "light"
          }
        }
      ]
    },
    {
      "cell_type": "code",
      "source": [
        "analyze_missing_data(cancer, plot_rows=False)"
      ],
      "metadata": {
        "id": "_waNBCKNAL1A",
        "colab": {
          "base_uri": "https://localhost:8080/",
          "height": 440
        },
        "outputId": "a663c0e6-fce4-4a49-a16c-94091d79fcd7"
      },
      "execution_count": null,
      "outputs": [
        {
          "output_type": "stream",
          "name": "stdout",
          "text": [
            "total columns: 61\n",
            "total columns w/ missing data:  60\n",
            "% columns w/ missing data:  98.36065573770492\n",
            "total rows: 31997\n",
            "total rows w/ missing data:  31997\n",
            "% rows w/ missing data:  100.0\n"
          ]
        },
        {
          "output_type": "display_data",
          "data": {
            "text/plain": [
              "<Figure size 1080x360 with 1 Axes>"
            ],
            "image/png": "[encoded data removed]"
          },
          "metadata": {
            "needs_background": "light"
          }
        }
      ]
    },
    {
      "cell_type": "markdown",
      "source": [
        ""
      ],
      "metadata": {
        "id": "u5_KGc9CCZEH"
      }
    },
    {
      "cell_type": "markdown",
      "source": [
        "From the sections I looked at, it looks like the Cancer, Marital Status, and Health Insurance sections have the largest proportion of missing data. We probably don't want to include any of that as a feature."
      ],
      "metadata": {
        "id": "kVFcCeOu_jTd"
      }
    },
    {
      "cell_type": "markdown",
      "source": [
        "# Chongqing\n",
        "Columns 163-268"
      ],
      "metadata": {
        "id": "r1ZTleLUifbx"
      }
    },
    {
      "cell_type": "code",
      "source": [
        "#graph nans per column, normalized\n",
        "tot = len(interviewData.index)\n",
        "missingDataCounts_cols = interviewData.isnull().sum()/tot*100\n",
        "\n",
        "fig = plt.figure(figsize=(15, 5))\n",
        "plt.bar(np.arange(268-135), missingDataCounts_cols[135:268])\n",
        "\n",
        "plt.ylim(top=100)\n",
        "plt.xlabel('Column')\n",
        "plt.ylabel('% Missing Data')\n",
        "plt.title('Missing Data in Col 135:258')\n",
        "plt.show()"
      ],
      "metadata": {
        "id": "BpVDfH8iioP3",
        "colab": {
          "base_uri": "https://localhost:8080/",
          "height": 350
        },
        "outputId": "180bab0b-a7c6-4bb0-f6f4-6b0c4c9ead94"
      },
      "execution_count": null,
      "outputs": [
        {
          "output_type": "display_data",
          "data": {
            "text/plain": [
              "<Figure size 1080x360 with 1 Axes>"
            ],
            "image/png": "[encoded data removed]"
          },
          "metadata": {
            "needs_background": "light"
          }
        }
      ]
    },
    {
      "cell_type": "code",
      "source": [
        "# find data that is missing data rate is smaller than 30%\n",
        "index_list = []\n",
        "data_list = []\n",
        "for index,number in enumerate(missingDataCounts_cols[135:268]):\n",
        "    if number < 30:\n",
        "        index_list.append([index])\n",
        "        data_list.append([number])\n",
        "\n",
        "import numpy as np\n",
        "index_list = np.array(index_list)\n",
        "data_list = np.array(data_list)\n",
        "index_list += 135\n",
        "total = np.concatenate((index_list, data_list),axis=1)\n",
        "total"
      ],
      "metadata": {
        "id": "-gdCF75u8mr7",
        "colab": {
          "base_uri": "https://localhost:8080/"
        },
        "outputId": "b2804198-f54b-4ed2-921f-64e081acb396"
      },
      "execution_count": null,
      "outputs": [
        {
          "output_type": "execute_result",
          "data": {
            "text/plain": [
              "array([[161.        ,   0.        ],\n",
              "       [162.        ,   0.        ],\n",
              "       [163.        ,   0.        ],\n",
              "       [164.        ,   0.        ],\n",
              "       [165.        ,   0.        ],\n",
              "       [166.        ,   0.        ],\n",
              "       [168.        ,   0.        ],\n",
              "       [170.        ,   0.        ],\n",
              "       [171.        ,   0.        ],\n",
              "       [179.        ,   0.        ],\n",
              "       [180.        ,   0.        ],\n",
              "       [181.        ,   0.        ],\n",
              "       [185.        ,   0.        ],\n",
              "       [186.        ,   2.87526956],\n",
              "       [187.        ,   2.87526956],\n",
              "       [188.        ,   2.87526956],\n",
              "       [191.        ,   2.87526956],\n",
              "       [192.        ,   2.87526956],\n",
              "       [193.        ,   0.        ],\n",
              "       [194.        ,   0.        ],\n",
              "       [198.        ,   0.        ],\n",
              "       [199.        ,   0.        ],\n",
              "       [205.        ,   0.        ],\n",
              "       [209.        ,   0.        ],\n",
              "       [210.        ,   0.        ],\n",
              "       [212.        ,   0.        ],\n",
              "       [214.        ,   0.        ],\n",
              "       [217.        ,   0.        ],\n",
              "       [219.        ,   0.        ],\n",
              "       [224.        ,   0.        ],\n",
              "       [250.        ,   0.490671  ],\n",
              "       [251.        ,   0.        ],\n",
              "       [252.        ,   0.        ],\n",
              "       [253.        ,   0.        ],\n",
              "       [254.        ,   0.        ],\n",
              "       [255.        ,   0.        ],\n",
              "       [256.        ,   0.        ],\n",
              "       [257.        ,   0.        ],\n",
              "       [258.        ,   0.        ],\n",
              "       [259.        ,   0.        ],\n",
              "       [260.        ,   0.        ],\n",
              "       [261.        ,   0.        ],\n",
              "       [262.        ,   0.        ],\n",
              "       [263.        ,   0.        ],\n",
              "       [264.        ,   0.        ],\n",
              "       [265.        ,   0.        ],\n",
              "       [266.        ,   0.        ],\n",
              "       [267.        ,   0.        ]])"
            ]
          },
          "metadata": {},
          "execution_count": 24
        }
      ]
    },
    {
      "cell_type": "code",
      "source": [
        "# Since most of the data are not missing so much data\n",
        "# Next we first consider if the data are relevant to our proposal\n",
        "for item in total:    \n",
        "    print(interviewData.iloc[:,int(item[0])].describe())"
      ],
      "metadata": {
        "id": "T72U6Gx58qMs",
        "colab": {
          "base_uri": "https://localhost:8080/"
        },
        "outputId": "8781e2be-fe91-4881-ffc5-177b6e5f62be"
      },
      "execution_count": null,
      "outputs": [
        {
          "output_type": "stream",
          "name": "stdout",
          "text": [
            "count    31997.000000\n",
            "mean         2.807794\n",
            "std          0.601960\n",
            "min          1.000000\n",
            "25%          3.000000\n",
            "50%          3.000000\n",
            "75%          3.000000\n",
            "max          9.000000\n",
            "Name: HISDETP_A, dtype: float64\n",
            "count    31997.000000\n",
            "mean         1.870238\n",
            "std          0.336047\n",
            "min          1.000000\n",
            "25%          2.000000\n",
            "50%          2.000000\n",
            "75%          2.000000\n",
            "max          2.000000\n",
            "Name: HISP_A, dtype: float64\n",
            "count    31997.000000\n",
            "mean         2.683814\n",
            "std          1.020973\n",
            "min          1.000000\n",
            "25%          2.000000\n",
            "50%          3.000000\n",
            "75%          3.000000\n",
            "max          4.000000\n",
            "Name: REGION, dtype: float64\n",
            "count    31997.0\n",
            "mean      2019.0\n",
            "std          0.0\n",
            "min       2019.0\n",
            "25%       2019.0\n",
            "50%       2019.0\n",
            "75%       2019.0\n",
            "max       2019.0\n",
            "Name: SRVY_YR, dtype: float64\n",
            "count    31997.000000\n",
            "mean         1.540019\n",
            "std          0.501218\n",
            "min          1.000000\n",
            "25%          1.000000\n",
            "50%          2.000000\n",
            "75%          2.000000\n",
            "max          7.000000\n",
            "Name: SEX_A, dtype: float64\n",
            "count    31997.000000\n",
            "mean        52.120136\n",
            "std         18.465314\n",
            "min         18.000000\n",
            "25%         36.000000\n",
            "50%         53.000000\n",
            "75%         67.000000\n",
            "max         99.000000\n",
            "Name: AGEP_A, dtype: float64\n",
            "count    31997.000000\n",
            "mean         1.122511\n",
            "std          0.689240\n",
            "min          1.000000\n",
            "25%          1.000000\n",
            "50%          1.000000\n",
            "75%          1.000000\n",
            "max          5.000000\n",
            "Name: ASTATNEW, dtype: float64\n",
            "count    31997.000000\n",
            "mean         1.555365\n",
            "std          1.219748\n",
            "min          1.000000\n",
            "25%          1.000000\n",
            "50%          1.000000\n",
            "75%          2.000000\n",
            "max          9.000000\n",
            "Name: HOUTENURE_A, dtype: float64\n",
            "count    31997.000000\n",
            "mean         3.292715\n",
            "std          1.553344\n",
            "min          1.000000\n",
            "25%          2.000000\n",
            "50%          3.000000\n",
            "75%          4.000000\n",
            "max          9.000000\n",
            "Name: HOUYRSLIV_A, dtype: float64\n",
            "count    31997.000000\n",
            "mean         3.024815\n",
            "std          0.935611\n",
            "min          1.000000\n",
            "25%          3.000000\n",
            "50%          3.000000\n",
            "75%          3.000000\n",
            "max          9.000000\n",
            "Name: FDSBALANCE_A, dtype: float64\n",
            "count    31997.000000\n",
            "mean         3.021471\n",
            "std          0.933772\n",
            "min          1.000000\n",
            "25%          3.000000\n",
            "50%          3.000000\n",
            "75%          3.000000\n",
            "max          9.000000\n",
            "Name: FDSLAST_A, dtype: float64\n",
            "count    31997.000000\n",
            "mean         2.995562\n",
            "std          0.950246\n",
            "min          1.000000\n",
            "25%          3.000000\n",
            "50%          3.000000\n",
            "75%          3.000000\n",
            "max          9.000000\n",
            "Name: FDSRUNOUT_A, dtype: float64\n",
            "count    31997.000000\n",
            "mean         2.078382\n",
            "std          1.073051\n",
            "min          1.000000\n",
            "25%          2.000000\n",
            "50%          2.000000\n",
            "75%          2.000000\n",
            "max          9.000000\n",
            "Name: FSNAP12M_A, dtype: float64\n",
            "count    31077.000000\n",
            "mean         1.959134\n",
            "std          0.550866\n",
            "min          1.000000\n",
            "25%          2.000000\n",
            "50%          2.000000\n",
            "75%          2.000000\n",
            "max          9.000000\n",
            "Name: INCOTHR_A, dtype: float64\n",
            "count    31077.000000\n",
            "mean         1.846639\n",
            "std          0.682257\n",
            "min          1.000000\n",
            "25%          2.000000\n",
            "50%          2.000000\n",
            "75%          2.000000\n",
            "max          9.000000\n",
            "Name: INCRETIRE_A, dtype: float64\n",
            "count    31077.000000\n",
            "mean         2.007015\n",
            "std          0.487337\n",
            "min          1.000000\n",
            "25%          2.000000\n",
            "50%          2.000000\n",
            "75%          2.000000\n",
            "max          9.000000\n",
            "Name: INCWELF_A, dtype: float64\n",
            "count    31077.000000\n",
            "mean         1.964057\n",
            "std          0.643913\n",
            "min          1.000000\n",
            "25%          2.000000\n",
            "50%          2.000000\n",
            "75%          2.000000\n",
            "max          9.000000\n",
            "Name: INCSSISSDI_A, dtype: float64\n",
            "count    31077.000000\n",
            "mean         1.706246\n",
            "std          0.695158\n",
            "min          1.000000\n",
            "25%          1.000000\n",
            "50%          2.000000\n",
            "75%          2.000000\n",
            "max          9.000000\n",
            "Name: INCSSRR_A, dtype: float64\n",
            "count    31997.000000\n",
            "mean         1.972247\n",
            "std          1.384885\n",
            "min          1.000000\n",
            "25%          1.000000\n",
            "50%          2.000000\n",
            "75%          2.000000\n",
            "max          9.000000\n",
            "Name: INCINTER_A, dtype: float64\n",
            "count    31997.000000\n",
            "mean         1.466544\n",
            "std          1.237608\n",
            "min          1.000000\n",
            "25%          1.000000\n",
            "50%          1.000000\n",
            "75%          2.000000\n",
            "max          9.000000\n",
            "Name: INCWRKO_A, dtype: float64\n",
            "count    31997.00000\n",
            "mean         2.08307\n",
            "std          0.96810\n",
            "min          1.00000\n",
            "25%          2.00000\n",
            "50%          2.00000\n",
            "75%          2.00000\n",
            "max          9.00000\n",
            "Name: SCHCURENR_A, dtype: float64\n",
            "count    31997.000000\n",
            "mean         1.327062\n",
            "std          1.124074\n",
            "min          1.000000\n",
            "25%          1.000000\n",
            "50%          1.000000\n",
            "75%          1.000000\n",
            "max          9.000000\n",
            "Name: NATUSBORN_A, dtype: float64\n",
            "count    31997.00000\n",
            "mean         2.04938\n",
            "std          0.98008\n",
            "min          1.00000\n",
            "25%          2.00000\n",
            "50%          2.00000\n",
            "75%          2.00000\n",
            "max          9.00000\n",
            "Name: AFVET_A, dtype: float64\n",
            "count    31997.000000\n",
            "mean         2.130794\n",
            "std          1.322481\n",
            "min          1.000000\n",
            "25%          1.000000\n",
            "50%          2.000000\n",
            "75%          3.000000\n",
            "max          9.000000\n",
            "Name: MARITAL_A, dtype: float64\n",
            "count    31997.000000\n",
            "mean         2.198987\n",
            "std          1.026253\n",
            "min          1.000000\n",
            "25%          2.000000\n",
            "50%          2.000000\n",
            "75%          2.000000\n",
            "max          8.000000\n",
            "Name: ORIENT_A, dtype: float64\n",
            "count    31997.000000\n",
            "mean         2.040410\n",
            "std          0.981685\n",
            "min          1.000000\n",
            "25%          2.000000\n",
            "50%          2.000000\n",
            "75%          2.000000\n",
            "max          9.000000\n",
            "Name: SMOKELSEV_A, dtype: float64\n",
            "count    31997.000000\n",
            "mean         2.006438\n",
            "std          1.006366\n",
            "min          1.000000\n",
            "25%          2.000000\n",
            "50%          2.000000\n",
            "75%          2.000000\n",
            "max          9.000000\n",
            "Name: PIPEEV_A, dtype: float64\n",
            "count    31997.000000\n",
            "mean         1.865894\n",
            "std          1.067182\n",
            "min          1.000000\n",
            "25%          1.000000\n",
            "50%          2.000000\n",
            "75%          2.000000\n",
            "max          9.000000\n",
            "Name: CIGAREV_A, dtype: float64\n",
            "count    31997.000000\n",
            "mean         1.992781\n",
            "std          0.996953\n",
            "min          1.000000\n",
            "25%          2.000000\n",
            "50%          2.000000\n",
            "75%          2.000000\n",
            "max          9.000000\n",
            "Name: ECIGEV_A, dtype: float64\n",
            "count    31997.000000\n",
            "mean         1.764509\n",
            "std          1.104500\n",
            "min          1.000000\n",
            "25%          1.000000\n",
            "50%          2.000000\n",
            "75%          2.000000\n",
            "max          9.000000\n",
            "Name: SMKEV_A, dtype: float64\n",
            "count    31840.000000\n",
            "mean         2.091771\n",
            "std          1.276890\n",
            "min          1.000000\n",
            "25%          1.000000\n",
            "50%          2.000000\n",
            "75%          2.000000\n",
            "max          9.000000\n",
            "Name: PAIFRQ3M_A, dtype: float64\n",
            "count    31997.000000\n",
            "mean         1.346064\n",
            "std          1.167777\n",
            "min          1.000000\n",
            "25%          1.000000\n",
            "50%          1.000000\n",
            "75%          1.000000\n",
            "max          9.000000\n",
            "Name: GAD77_A, dtype: float64\n",
            "count    31997.000000\n",
            "mean         1.507985\n",
            "std          1.219543\n",
            "min          1.000000\n",
            "25%          1.000000\n",
            "50%          1.000000\n",
            "75%          2.000000\n",
            "max          9.000000\n",
            "Name: GAD76_A, dtype: float64\n",
            "count    31997.000000\n",
            "mean         1.340501\n",
            "std          1.160289\n",
            "min          1.000000\n",
            "25%          1.000000\n",
            "50%          1.000000\n",
            "75%          1.000000\n",
            "max          9.000000\n",
            "Name: GAD75_A, dtype: float64\n",
            "count    31997.000000\n",
            "mean         1.457699\n",
            "std          1.217502\n",
            "min          1.000000\n",
            "25%          1.000000\n",
            "50%          1.000000\n",
            "75%          1.000000\n",
            "max          9.000000\n",
            "Name: GAD74_A, dtype: float64\n",
            "count    31997.000000\n",
            "mean         1.520643\n",
            "std          1.256234\n",
            "min          1.000000\n",
            "25%          1.000000\n",
            "50%          1.000000\n",
            "75%          2.000000\n",
            "max          9.000000\n",
            "Name: GAD73_A, dtype: float64\n",
            "count    31997.000000\n",
            "mean         1.438510\n",
            "std          1.234407\n",
            "min          1.000000\n",
            "25%          1.000000\n",
            "50%          1.000000\n",
            "75%          1.000000\n",
            "max          9.000000\n",
            "Name: GAD72_A, dtype: float64\n",
            "count    31997.000000\n",
            "mean         1.502485\n",
            "std          1.225779\n",
            "min          1.000000\n",
            "25%          1.000000\n",
            "50%          1.000000\n",
            "75%          2.000000\n",
            "max          9.000000\n",
            "Name: GAD71_A, dtype: float64\n",
            "count    31997.000000\n",
            "mean         1.256805\n",
            "std          1.105635\n",
            "min          1.000000\n",
            "25%          1.000000\n",
            "50%          1.000000\n",
            "75%          1.000000\n",
            "max          9.000000\n",
            "Name: PHQ88_A, dtype: float64\n",
            "count    31997.000000\n",
            "mean         1.346407\n",
            "std          1.157284\n",
            "min          1.000000\n",
            "25%          1.000000\n",
            "50%          1.000000\n",
            "75%          1.000000\n",
            "max          9.000000\n",
            "Name: PHQ87_A, dtype: float64\n",
            "count    31997.000000\n",
            "mean         1.360065\n",
            "std          1.173912\n",
            "min          1.000000\n",
            "25%          1.000000\n",
            "50%          1.000000\n",
            "75%          1.000000\n",
            "max          9.000000\n",
            "Name: PHQ86_A, dtype: float64\n",
            "count    31997.000000\n",
            "mean         1.438010\n",
            "std          1.211226\n",
            "min          1.000000\n",
            "25%          1.000000\n",
            "50%          1.000000\n",
            "75%          1.000000\n",
            "max          9.000000\n",
            "Name: PHQ85_A, dtype: float64\n",
            "count    31997.000000\n",
            "mean         1.790793\n",
            "std          1.329834\n",
            "min          1.000000\n",
            "25%          1.000000\n",
            "50%          1.000000\n",
            "75%          2.000000\n",
            "max          9.000000\n",
            "Name: PHQ84_A, dtype: float64\n",
            "count    31997.000000\n",
            "mean         1.695940\n",
            "std          1.316455\n",
            "min          1.000000\n",
            "25%          1.000000\n",
            "50%          1.000000\n",
            "75%          2.000000\n",
            "max          9.000000\n",
            "Name: PHQ83_A, dtype: float64\n",
            "count    31997.000000\n",
            "mean         1.404413\n",
            "std          1.174314\n",
            "min          1.000000\n",
            "25%          1.000000\n",
            "50%          1.000000\n",
            "75%          1.000000\n",
            "max          9.000000\n",
            "Name: PHQ82_A, dtype: float64\n",
            "count    31997.000000\n",
            "mean         1.421071\n",
            "std          1.202286\n",
            "min          1.000000\n",
            "25%          1.000000\n",
            "50%          1.000000\n",
            "75%          1.000000\n",
            "max          9.000000\n",
            "Name: PHQ81_A, dtype: float64\n",
            "count    31997.000000\n",
            "mean         2.054505\n",
            "std          0.783410\n",
            "min          1.000000\n",
            "25%          2.000000\n",
            "50%          2.000000\n",
            "75%          2.000000\n",
            "max          9.000000\n",
            "Name: MHTHND_A, dtype: float64\n",
            "count    31997.00000\n",
            "mean         2.05263\n",
            "std          0.78561\n",
            "min          1.00000\n",
            "25%          2.00000\n",
            "50%          2.00000\n",
            "75%          2.00000\n",
            "max          9.00000\n",
            "Name: MHTHDLY_A, dtype: float64\n"
          ]
        }
      ]
    },
    {
      "cell_type": "code",
      "source": [
        "list_review = [\n",
        "    ['Hispannic origin detail',False,''],\n",
        "    ['Hispanic ethnicity of SA',False,''],\n",
        "    ['House hold region', True,''],\n",
        "    ['Survey Year', False,'Mostly are 2019 not helpful'],\n",
        "    ['Sex',True,'Need to filter out the code 7 to average sex'],\n",
        "    ['Age',True,''],\n",
        "    ['ASAT',False,''],\n",
        "    ['House hold', True,''],\n",
        "    ['How long live in the house',True,''],\n",
        "    ['Hard to reach food by balance', True,''],\n",
        "    ['Hard to reach food by any food', False,'large of the people never face this problem'],\n",
        "    ['Worry food will run out', True,''],\n",
        "    ['Recieve food stamps', False,''],\n",
        "    ['Income by other sources', True,'Thought most of them do dont have any income from other sources it could still be hlpful'],\n",
        "    ['Income by retirement', True,''],\n",
        "    ['Income from public assistance',False,'only 2.87% have yes'],\n",
        "    ['Sample adults 18+ and the sample adult did not refuse both the income from wages and income from accounts questions',False,''],\n",
        "    ['Income from Social Security or Railroad Retirement',True,''],\n",
        "    ['Income from accounts',True,'need cleaning code 9 8 7'],\n",
        "    ['Income from wages', True,''],\n",
        "    ['Currently in school',True,'Asking 18+ adults this quesiton'],\n",
        "    ['Born in US', True,''],\n",
        "    ['Ever serve active duty military',True,''],\n",
        "    [\"Sample adult's current marital status\",True,'Useful information for juedging'],\n",
        "    ['Sexual Orientation',True,'Since 93% are strainght dont think helpful'],\n",
        "    ['Ever used smokeless tobacco',False,''],\n",
        "    ['Ever smoked a pipe filled with tobacco',False,''],\n",
        "    ['Ever smoked a cigar',True,''],\n",
        "    ['Ever smoked electronic cigar',False,''],\n",
        "    ['Ever smoked 100 cigarettes',False,'Already havcing smoked or not, the data did not show difference between haven smoke or not'],\n",
        "    ['How often feel afraid',True,''],\n",
        "    ['How often had pain',True,'Important measure'],\n",
        "    ['How often became easily annoyed, past 2 weeks', True,''],\n",
        "    ['How often cant sit still, past 2 weeks',False,'maybe having pain is enough'],\n",
        "    ['How often had trouble relaxing, past 2 weeks',True,''],\n",
        "    ['How often worrying too much, past 2 weeks',True,''],\n",
        "    ['How often cannot stop worrying',True,''],\n",
        "    ['How often felt nervous/anxious/on edge, past 2 weeks',True,'Still a big strcutucre on discussing worried'],\n",
        "    ['How often moving or speaking slow or fast, past 2 weeks',False,'near 91% are normal'],\n",
        "    ['How often trouble concentrating, past 2 weeks',False,''],\n",
        "    ['How often feeling bad about self, past 2 weeks',True,''],\n",
        "    ['How often undereating or overeating, past 2 weeks',True,''],\n",
        "    ['How often feeling tired, past 2 weeks',True,''],\n",
        "    ['How often trouble with sleeping, past 2 weeks',True,''],\n",
        "    ['How often feeling down, past 2 weeks',True,''],\n",
        "    ['Severity of depressive symptoms - PHQ scale categorization',True,'Important Measure'],\n",
        "    ['Needed counseling/therapy but did not get it due to cost, past 12m',False,'Same question about money but still need more evidence to point out that it really matters'],\n",
        "    ['Delayed counseling/therapy due to cost, past 12m',False,'Same reason, delaying therapy may help and may not help but for more clearer judgement remove it.']  \n",
        "]"
      ],
      "metadata": {
        "id": "QVOsWSlr8ttk"
      },
      "execution_count": null,
      "outputs": []
    },
    {
      "cell_type": "code",
      "source": [
        "len(list_review)"
      ],
      "metadata": {
        "id": "vZGmFonr8vS4",
        "colab": {
          "base_uri": "https://localhost:8080/"
        },
        "outputId": "3462d422-ad6c-4514-a1dc-97be867cfb95"
      },
      "execution_count": null,
      "outputs": [
        {
          "output_type": "execute_result",
          "data": {
            "text/plain": [
              "48"
            ]
          },
          "metadata": {},
          "execution_count": 27
        }
      ]
    },
    {
      "cell_type": "code",
      "source": [
        "# Take out the values that we want\n",
        "series = []\n",
        "for index, item in enumerate(total):\n",
        "    if list_review[index][1] == True:\n",
        "        series.append(interviewData.iloc[:,int(item[0])])\n",
        "\n",
        "series"
      ],
      "metadata": {
        "id": "EoRqT5EF8xaB",
        "colab": {
          "base_uri": "https://localhost:8080/"
        },
        "outputId": "37abef19-a13d-40c7-ec14-760e42e47057"
      },
      "execution_count": null,
      "outputs": [
        {
          "output_type": "execute_result",
          "data": {
            "text/plain": [
              "[0        3\n",
              " 1        3\n",
              " 2        3\n",
              " 3        3\n",
              " 4        3\n",
              "         ..\n",
              " 31992    4\n",
              " 31993    4\n",
              " 31994    4\n",
              " 31995    4\n",
              " 31996    4\n",
              " Name: REGION, Length: 31997, dtype: int64, 0        1\n",
              " 1        2\n",
              " 2        1\n",
              " 3        1\n",
              " 4        1\n",
              "         ..\n",
              " 31992    2\n",
              " 31993    1\n",
              " 31994    1\n",
              " 31995    2\n",
              " 31996    2\n",
              " Name: SEX_A, Length: 31997, dtype: int64, 0        97\n",
              " 1        28\n",
              " 2        72\n",
              " 3        60\n",
              " 4        60\n",
              "          ..\n",
              " 31992    68\n",
              " 31993    47\n",
              " 31994    68\n",
              " 31995    31\n",
              " 31996    54\n",
              " Name: AGEP_A, Length: 31997, dtype: int64, 0        1\n",
              " 1        2\n",
              " 2        7\n",
              " 3        1\n",
              " 4        1\n",
              "         ..\n",
              " 31992    1\n",
              " 31993    1\n",
              " 31994    2\n",
              " 31995    1\n",
              " 31996    1\n",
              " Name: HOUTENURE_A, Length: 31997, dtype: int64, 0        2\n",
              " 1        1\n",
              " 2        7\n",
              " 3        4\n",
              " 4        5\n",
              "         ..\n",
              " 31992    5\n",
              " 31993    4\n",
              " 31994    4\n",
              " 31995    3\n",
              " 31996    4\n",
              " Name: HOUYRSLIV_A, Length: 31997, dtype: int64, 0        3\n",
              " 1        3\n",
              " 2        7\n",
              " 3        3\n",
              " 4        3\n",
              "         ..\n",
              " 31992    3\n",
              " 31993    3\n",
              " 31994    3\n",
              " 31995    3\n",
              " 31996    3\n",
              " Name: FDSBALANCE_A, Length: 31997, dtype: int64, 0        3\n",
              " 1        3\n",
              " 2        7\n",
              " 3        3\n",
              " 4        2\n",
              "         ..\n",
              " 31992    3\n",
              " 31993    3\n",
              " 31994    3\n",
              " 31995    3\n",
              " 31996    3\n",
              " Name: FDSRUNOUT_A, Length: 31997, dtype: int64, 0        2.0\n",
              " 1        2.0\n",
              " 2        7.0\n",
              " 3        1.0\n",
              " 4        2.0\n",
              "         ... \n",
              " 31992    2.0\n",
              " 31993    2.0\n",
              " 31994    2.0\n",
              " 31995    2.0\n",
              " 31996    2.0\n",
              " Name: INCOTHR_A, Length: 31997, dtype: float64, 0        2.0\n",
              " 1        2.0\n",
              " 2        7.0\n",
              " 3        1.0\n",
              " 4        2.0\n",
              "         ... \n",
              " 31992    1.0\n",
              " 31993    2.0\n",
              " 31994    2.0\n",
              " 31995    2.0\n",
              " 31996    2.0\n",
              " Name: INCRETIRE_A, Length: 31997, dtype: float64, 0        2.0\n",
              " 1        2.0\n",
              " 2        7.0\n",
              " 3        2.0\n",
              " 4        2.0\n",
              "         ... \n",
              " 31992    1.0\n",
              " 31993    2.0\n",
              " 31994    1.0\n",
              " 31995    2.0\n",
              " 31996    2.0\n",
              " Name: INCSSRR_A, Length: 31997, dtype: float64, 0        1\n",
              " 1        2\n",
              " 2        7\n",
              " 3        1\n",
              " 4        2\n",
              "         ..\n",
              " 31992    1\n",
              " 31993    2\n",
              " 31994    1\n",
              " 31995    1\n",
              " 31996    1\n",
              " Name: INCINTER_A, Length: 31997, dtype: int64, 0        1\n",
              " 1        1\n",
              " 2        1\n",
              " 3        1\n",
              " 4        1\n",
              "         ..\n",
              " 31992    2\n",
              " 31993    1\n",
              " 31994    1\n",
              " 31995    1\n",
              " 31996    1\n",
              " Name: INCWRKO_A, Length: 31997, dtype: int64, 0        2\n",
              " 1        2\n",
              " 2        2\n",
              " 3        2\n",
              " 4        2\n",
              "         ..\n",
              " 31992    2\n",
              " 31993    2\n",
              " 31994    2\n",
              " 31995    2\n",
              " 31996    2\n",
              " Name: SCHCURENR_A, Length: 31997, dtype: int64, 0        1\n",
              " 1        1\n",
              " 2        1\n",
              " 3        1\n",
              " 4        1\n",
              "         ..\n",
              " 31992    1\n",
              " 31993    1\n",
              " 31994    1\n",
              " 31995    1\n",
              " 31996    1\n",
              " Name: NATUSBORN_A, Length: 31997, dtype: int64, 0        1\n",
              " 1        2\n",
              " 2        1\n",
              " 3        1\n",
              " 4        2\n",
              "         ..\n",
              " 31992    2\n",
              " 31993    2\n",
              " 31994    2\n",
              " 31995    2\n",
              " 31996    2\n",
              " Name: AFVET_A, Length: 31997, dtype: int64, 0        1\n",
              " 1        1\n",
              " 2        1\n",
              " 3        1\n",
              " 4        1\n",
              "         ..\n",
              " 31992    1\n",
              " 31993    1\n",
              " 31994    3\n",
              " 31995    1\n",
              " 31996    1\n",
              " Name: MARITAL_A, Length: 31997, dtype: int64, 0        2\n",
              " 1        2\n",
              " 2        2\n",
              " 3        2\n",
              " 4        2\n",
              "         ..\n",
              " 31992    2\n",
              " 31993    2\n",
              " 31994    2\n",
              " 31995    2\n",
              " 31996    2\n",
              " Name: ORIENT_A, Length: 31997, dtype: int64, 0        2\n",
              " 1        2\n",
              " 2        2\n",
              " 3        2\n",
              " 4        1\n",
              "         ..\n",
              " 31992    2\n",
              " 31993    2\n",
              " 31994    1\n",
              " 31995    1\n",
              " 31996    2\n",
              " Name: CIGAREV_A, Length: 31997, dtype: int64, 0        2.0\n",
              " 1        1.0\n",
              " 2        2.0\n",
              " 3        2.0\n",
              " 4        3.0\n",
              "         ... \n",
              " 31992    2.0\n",
              " 31993    1.0\n",
              " 31994    1.0\n",
              " 31995    1.0\n",
              " 31996    1.0\n",
              " Name: PAIFRQ3M_A, Length: 31997, dtype: float64, 0        1\n",
              " 1        2\n",
              " 2        1\n",
              " 3        1\n",
              " 4        2\n",
              "         ..\n",
              " 31992    1\n",
              " 31993    1\n",
              " 31994    1\n",
              " 31995    1\n",
              " 31996    1\n",
              " Name: GAD77_A, Length: 31997, dtype: int64, 0        1\n",
              " 1        2\n",
              " 2        1\n",
              " 3        1\n",
              " 4        1\n",
              "         ..\n",
              " 31992    1\n",
              " 31993    1\n",
              " 31994    2\n",
              " 31995    1\n",
              " 31996    1\n",
              " Name: GAD76_A, Length: 31997, dtype: int64, 0        1\n",
              " 1        1\n",
              " 2        1\n",
              " 3        1\n",
              " 4        2\n",
              "         ..\n",
              " 31992    1\n",
              " 31993    1\n",
              " 31994    1\n",
              " 31995    1\n",
              " 31996    1\n",
              " Name: GAD74_A, Length: 31997, dtype: int64, 0        1\n",
              " 1        2\n",
              " 2        1\n",
              " 3        1\n",
              " 4        2\n",
              "         ..\n",
              " 31992    1\n",
              " 31993    1\n",
              " 31994    1\n",
              " 31995    2\n",
              " 31996    1\n",
              " Name: GAD73_A, Length: 31997, dtype: int64, 0        1\n",
              " 1        1\n",
              " 2        1\n",
              " 3        1\n",
              " 4        2\n",
              "         ..\n",
              " 31992    1\n",
              " 31993    1\n",
              " 31994    1\n",
              " 31995    1\n",
              " 31996    1\n",
              " Name: GAD72_A, Length: 31997, dtype: int64, 0        1\n",
              " 1        1\n",
              " 2        1\n",
              " 3        1\n",
              " 4        3\n",
              "         ..\n",
              " 31992    1\n",
              " 31993    1\n",
              " 31994    1\n",
              " 31995    1\n",
              " 31996    1\n",
              " Name: GAD71_A, Length: 31997, dtype: int64, 0        1\n",
              " 1        1\n",
              " 2        1\n",
              " 3        1\n",
              " 4        2\n",
              "         ..\n",
              " 31992    1\n",
              " 31993    1\n",
              " 31994    1\n",
              " 31995    1\n",
              " 31996    1\n",
              " Name: PHQ86_A, Length: 31997, dtype: int64, 0        1\n",
              " 1        1\n",
              " 2        1\n",
              " 3        1\n",
              " 4        2\n",
              "         ..\n",
              " 31992    2\n",
              " 31993    1\n",
              " 31994    1\n",
              " 31995    1\n",
              " 31996    1\n",
              " Name: PHQ85_A, Length: 31997, dtype: int64, 0        1\n",
              " 1        1\n",
              " 2        1\n",
              " 3        1\n",
              " 4        3\n",
              "         ..\n",
              " 31992    2\n",
              " 31993    1\n",
              " 31994    1\n",
              " 31995    2\n",
              " 31996    1\n",
              " Name: PHQ84_A, Length: 31997, dtype: int64, 0        1\n",
              " 1        1\n",
              " 2        2\n",
              " 3        2\n",
              " 4        2\n",
              "         ..\n",
              " 31992    1\n",
              " 31993    1\n",
              " 31994    1\n",
              " 31995    2\n",
              " 31996    1\n",
              " Name: PHQ83_A, Length: 31997, dtype: int64, 0        1\n",
              " 1        1\n",
              " 2        1\n",
              " 3        1\n",
              " 4        3\n",
              "         ..\n",
              " 31992    1\n",
              " 31993    1\n",
              " 31994    1\n",
              " 31995    1\n",
              " 31996    1\n",
              " Name: PHQ82_A, Length: 31997, dtype: int64, 0        1\n",
              " 1        1\n",
              " 2        1\n",
              " 3        1\n",
              " 4        4\n",
              "         ..\n",
              " 31992    1\n",
              " 31993    1\n",
              " 31994    1\n",
              " 31995    1\n",
              " 31996    1\n",
              " Name: PHQ81_A, Length: 31997, dtype: int64]"
            ]
          },
          "metadata": {},
          "execution_count": 28
        }
      ]
    },
    {
      "cell_type": "code",
      "source": [
        "#This will generate a new cvs file containing useful data that we want\n",
        "caller = series[0]\n",
        "for other in series[1:]:\n",
        "    caller = pd.concat([caller, other],axis=1)\n",
        "caller.to_csv('result.csv')"
      ],
      "metadata": {
        "id": "z_3bwAJh809f"
      },
      "execution_count": null,
      "outputs": []
    },
    {
      "cell_type": "markdown",
      "source": [
        "# Brief Introduction Of What I've Done 1\n",
        "\n",
        "\n",
        "The data cleaning process here is divided in several steps\n",
        "1. First I look throught the data in column 135:268 to see if there are missing values\n",
        "> And the result I see shows that most of the data as shown in 'Missing Data in Col 135:258' are having a huge data missing. Some of them are missing more than 80%. \n",
        "2. So I filter out the data column that have data missing larger than 30%\n",
        "> And I get 48 datas\n",
        "3. Next I search through these 48 data in the NHIS frequency Codebook and see if some of it are unuseful\n",
        "> To my intuition, some of the survey inside may not be helpful for identifying if the person could potentially be depreesed, so I simply remove them\n",
        "4. The dicription of the column is written in a list called review_list where True means we want False means we dont want, some have reasons about why I didn't chose it.\n",
        "> I was a bit concerned here, some of the questions are all pointing the same problem, such as quesitons about one's economic status, I dont know having more questions result on litterly the same thing will cause what kind of impact to the model. But the standard here is I try to avoid data columns that have the same question. Which means if we have two questions look like a. Do you have enough money to buy food b. Do you have a enough money to buy a balance food, I will only left a. into the final data.\n",
        "5. The final filtered data that I created is stored in result.csv\n",
        "---\n",
        "It could be interesting to cluster some of the survey result to see if one's answer on wheter he/she was suffering depression, pain, trouble relaxing having a impact on diagnosing this person."
      ],
      "metadata": {
        "id": "kHCUuyjDoLjy"
      }
    },
    {
      "cell_type": "code",
      "source": [
        "import sklearn\n",
        "from sklearn.svm import SVC\n",
        "from sklearn.metrics import classification_report\n",
        "from sklearn.model_selection import train_test_split\n",
        "from sklearn.preprocessing import StandardScaler\n",
        "\n",
        "\n",
        "def get_data(path):\n",
        "    \"\"\"\n",
        "    This function read in the data and generate pandas columns\n",
        "    \"\"\"\n",
        "    # Notice now it only returns a preprocessed pandas dataframe\n",
        "    return caller\n",
        "\n",
        "data = get_data('')\n",
        "data.fillna(method='ffill', inplace=True)\n",
        "use_cols = ['SEX_A', 'AGEP_A', 'HOUTENURE_A', 'HOUYRSLIV_A',\n",
        "       'FDSBALANCE_A', 'FDSRUNOUT_A', 'INCOTHR_A', 'INCRETIRE_A', 'INCSSRR_A',\n",
        "       'INCINTER_A', 'INCWRKO_A', 'SCHCURENR_A', 'NATUSBORN_A', 'AFVET_A',\n",
        "       'MARITAL_A', 'ORIENT_A', 'CIGAREV_A', 'PAIFRQ3M_A', 'GAD77_A',\n",
        "       'GAD76_A', 'GAD74_A', 'GAD73_A', 'GAD72_A', 'GAD71_A', 'PHQ86_A',\n",
        "       'PHQ85_A', 'PHQ84_A', 'PHQ83_A','PHQ82_A', 'PHQ81_A']  # 'REGION' was removed \n",
        "\n",
        "#######################################################################\n",
        "\n",
        "# Here set the columns for predicting\n",
        "pred_col = ['PHQCAT_A']\n",
        "\n",
        "#######################################################################"
      ],
      "metadata": {
        "id": "sDzRc9LaWFbe"
      },
      "execution_count": null,
      "outputs": []
    },
    {
      "cell_type": "code",
      "source": [
        "# Check if there is any null inside data\n",
        "print(data.isnull().any(axis=0))"
      ],
      "metadata": {
        "colab": {
          "base_uri": "https://localhost:8080/"
        },
        "id": "h7_pYXM-WT_0",
        "outputId": "e3cad2d4-388a-4e25-bbb4-6b2964023fba"
      },
      "execution_count": null,
      "outputs": [
        {
          "output_type": "stream",
          "name": "stdout",
          "text": [
            "REGION          False\n",
            "SEX_A           False\n",
            "AGEP_A          False\n",
            "HOUTENURE_A     False\n",
            "HOUYRSLIV_A     False\n",
            "FDSBALANCE_A    False\n",
            "FDSRUNOUT_A     False\n",
            "INCOTHR_A       False\n",
            "INCRETIRE_A     False\n",
            "INCSSRR_A       False\n",
            "INCINTER_A      False\n",
            "INCWRKO_A       False\n",
            "SCHCURENR_A     False\n",
            "NATUSBORN_A     False\n",
            "AFVET_A         False\n",
            "MARITAL_A       False\n",
            "ORIENT_A        False\n",
            "CIGAREV_A       False\n",
            "PAIFRQ3M_A      False\n",
            "GAD77_A         False\n",
            "GAD76_A         False\n",
            "GAD74_A         False\n",
            "GAD73_A         False\n",
            "GAD72_A         False\n",
            "GAD71_A         False\n",
            "PHQ86_A         False\n",
            "PHQ85_A         False\n",
            "PHQ84_A         False\n",
            "PHQ83_A         False\n",
            "PHQ82_A         False\n",
            "PHQ81_A         False\n",
            "dtype: bool\n"
          ]
        }
      ]
    },
    {
      "cell_type": "code",
      "source": [
        "# Here the predict data is also cleaned\n",
        "interviewData['PHQCAT_A'].isnull().any()"
      ],
      "metadata": {
        "colab": {
          "base_uri": "https://localhost:8080/"
        },
        "id": "v4noaDT54Fdy",
        "outputId": "8b4ebd3e-aaa2-4d67-f85c-64832b059bcc"
      },
      "execution_count": null,
      "outputs": [
        {
          "output_type": "execute_result",
          "data": {
            "text/plain": [
              "False"
            ]
          },
          "metadata": {},
          "execution_count": 33
        }
      ]
    },
    {
      "cell_type": "code",
      "source": [
        "# Here should deal with the numbers, as changing some unrespond to other number\n",
        "# The aim of this section is to simplify the data, making it easier to understand\n",
        "\n",
        "# For SEX_A change code 7 to 1 (refuse to Male), It doesn't matter since only 3 refuse\n",
        "# For AGEP_A change code 97 98 99 into the median of the series\n",
        "# For HOUTENURE_A code 7,8,9 to 2 As assunme most of the people even refuse to answer the quesiotn as rented\n",
        "# For HOUYRSLIV_A code 7,8,9 to code 1, assume most are less that 1 year\n",
        "# For FDSBALANCE_A code 7,8,9 to code 3, assume most are having enough money\n",
        "# For FDSRUNOUT_A same as above\n",
        "# For INCOTHR_A code 7,8,9 to code 2, assume most have income from wages\n",
        "# For INCRETIRE_A same as above\n",
        "# For INCSSRR_A same\n",
        "# For INCINTER_A same\n",
        "# For INCWRKO_A same\n",
        "# For SCHCURENR_A code 7,8,9 to code 2, assume most are not in school\n",
        "# For NATUSBORN_A code 7,8,9 to code 2, assume whose who not answer are not in born in US\n",
        "# For AFVET_A same, most are not in military\n",
        "# For MARITAL_A code 7,8,9 to code 3, assume most have neither marriage or sth like it\n",
        "# For ORIENT_A code 5,7,8,9 to code 2, assume most are straight\n",
        "# For CIGAREV_A code 7,8,9 to code 1, assume most have cigar\n",
        "# For PAIFRQ3M_A code 7,8,9 to code 2, assum having some days pain\n",
        "# For GAD77_A same\n",
        "# For GAD76_A same\n",
        "# For GAD74_A same\n",
        "# For GAD73_A same\n",
        "# For GAD72_A same\n",
        "# For GAD71_A same\n",
        "# FOr PHQ86_A same\n",
        "# For PHQ85_A same\n",
        "# For PHQ84_A same\n",
        "# For PHQ83_A same\n",
        "# For PHQ82_A same\n",
        "# For PHQ81_A same\n",
        "\n",
        "# data['SEX_A'].replace(7,1,inplace=True)\n",
        "# data['AGEP_A'].replace([97,98,99], data['AGEP_A'].median,inplace=True)\n",
        "# data['HOUTENURE_A'].replace([7,8,9],2,inplace=True)\n",
        "# data['HOUYRSLIV_A'].replace([7,8,9],1,inplace=True)\n",
        "# data['FDSBALANCE_A'].replace([7,8,9],3,inplace=True)\n",
        "# data['FDSRUNOUT_A'].replace([7,8,9],3,inplace=True)\n",
        "# for name in ['INCOTHR_A','INCRETIRE_A','INCSSRR_A','INCINTER_A','INCWRKO_A']:\n",
        "#     data[name].replace([7,8,9],2,inplace=True)\n",
        "# for name in ['SCHCURENR_A','NATUSBORN_A','AFVET_A','ORIENT_A','PAIFRQ3M_A','GAD77_A','GAD76_A','GAD74_A',\n",
        "#              'GAD73_A','GAD72_A','GAD71_A','PHQ86_A','PHQ85_A','PHQ84_A','PHQ83_A','PHQ82_A','PHQ81_A']:\n",
        "#     data[name].replace([7,8,9],2,inplace=True)\n",
        "# data['MARITAL_A'].replace([7,8,9],3,inplace=True)\n",
        "# data['CIGAREV_A'].replace([7,8,9],1,inplace=True)\n",
        "# # In order to check if there are values that still in code 7,8,9\n",
        "# data.max()"
      ],
      "metadata": {
        "id": "mEW17iTPWYuv"
      },
      "execution_count": null,
      "outputs": []
    },
    {
      "cell_type": "code",
      "source": [
        "features = data[use_cols].values\n",
        "\n",
        "################################\n",
        "\n",
        "# Applying Binary Encoding\n",
        "labels = interviewData[pred_col].replace(1,0)\n",
        "labels = labels.replace([2,3,4,8],1).values\n",
        "\n",
        "################################\n",
        "\n",
        "PREPROCESSING = True\n",
        "\n",
        "if PREPROCESSING:\n",
        "    scalar = StandardScaler()\n",
        "    features = scalar.fit_transform(features)\n",
        "\n",
        "# Simply split the data into 3:7, where 3 is test data, 7 is train data\n",
        "x_train, x_test, y_train, y_test = train_test_split(features, labels, test_size=0.2, shuffle=True)"
      ],
      "metadata": {
        "id": "7ECbkTU0Wg7O"
      },
      "execution_count": null,
      "outputs": []
    },
    {
      "cell_type": "code",
      "source": [
        "model = SVC()\n",
        "model.fit(x_train, np.ravel(y_train))\n",
        "y_predict = model.predict(x_test)\n",
        "\n",
        "string = f'The result of {model}:\\n'\n",
        "string += f'{classification_report(y_test, np.ravel(y_predict))}\\n'\n",
        "# string += f'The coefficient of the model is \\n{model.coef_}\\n'\n",
        "print(string)\n",
        "plt.show()"
      ],
      "metadata": {
        "colab": {
          "base_uri": "https://localhost:8080/"
        },
        "id": "WGUMxzuOWlVk",
        "outputId": "5b03d3f7-8353-4cdf-8d8a-9a0ff2f3a60d"
      },
      "execution_count": null,
      "outputs": [
        {
          "output_type": "stream",
          "name": "stdout",
          "text": [
            "The result of SVC():\n",
            "              precision    recall  f1-score   support\n",
            "\n",
            "           0       0.98      0.99      0.99      5083\n",
            "           1       0.96      0.93      0.94      1317\n",
            "\n",
            "    accuracy                           0.98      6400\n",
            "   macro avg       0.97      0.96      0.97      6400\n",
            "weighted avg       0.98      0.98      0.98      6400\n",
            "\n",
            "\n"
          ]
        }
      ]
    },
    {
      "cell_type": "code",
      "source": [
        "cm = confusion_matrix(y_test, y_predict, labels=model.classes_)\n",
        "disp = ConfusionMatrixDisplay(confusion_matrix=cm, display_labels=model.classes_)\n",
        "disp.plot()"
      ],
      "metadata": {
        "colab": {
          "base_uri": "https://localhost:8080/",
          "height": 299
        },
        "id": "4st20Pxkn1mm",
        "outputId": "940b3419-fae4-41b1-c4c3-000eacaf07d0"
      },
      "execution_count": null,
      "outputs": [
        {
          "output_type": "execute_result",
          "data": {
            "text/plain": [
              "<sklearn.metrics._plot.confusion_matrix.ConfusionMatrixDisplay at 0x7f3538b09490>"
            ]
          },
          "metadata": {},
          "execution_count": 36
        },
        {
          "output_type": "display_data",
          "data": {
            "text/plain": [
              "<Figure size 432x288 with 2 Axes>"
            ],
            "image/png": "[encoded data removed]"
          },
          "metadata": {
            "needs_background": "light"
          }
        }
      ]
    },
    {
      "cell_type": "markdown",
      "source": [
        "What I've Done 2\n",
        "\n",
        "1. First deal with the data cleaning///\n",
        "I relook at the data and clean the code 7,8,9 to code in 1~4, but notice that there might have stack overflow if the allocated memory is too small\n",
        "\n",
        "2. Second write an SVM model (continuing...\n",
        ")"
      ],
      "metadata": {
        "id": "CDg0za_SXNFH"
      }
    },
    {
      "cell_type": "code",
      "source": [
        "# Keep going with the SVM model\n",
        "# Standardization and Train test split is already done in part 2\n",
        "\n",
        "# 1. Creating Train and Test csv files\n",
        "column_name = data.columns\n",
        "train_data = np.hstack((x_train, y_train.reshape(-1,1)))\n",
        "test_data = np.hstack((x_test, y_test.reshape(-1,1)))\n",
        "\n",
        "\n",
        "################################\n",
        "\n",
        "train_csv = pd.DataFrame(train_data, columns = use_cols + pred_col)\n",
        "test_csv = pd.DataFrame(test_data, columns = use_cols + pred_col)\n",
        "train_csv.to_csv('train.csv')\n",
        "test_csv.to_csv('test.csv')\n",
        "\n",
        "################################"
      ],
      "metadata": {
        "id": "Xe2jM7c4lESg"
      },
      "execution_count": null,
      "outputs": []
    },
    {
      "cell_type": "code",
      "source": [
        "# 2. Cross Validation and Adding Regularization\n",
        "regular_values = [1, 10, 100]\n",
        "\n",
        "for num in regular_values:\n",
        "    model = SVC(C=num)\n",
        "    model.fit(x_train, np.ravel(y_train))\n",
        "    y_predict = model.predict(x_test)\n",
        "    \n",
        "    \n",
        "    cm = confusion_matrix(y_test, y_predict, labels=model.classes_)\n",
        "    disp = ConfusionMatrixDisplay(confusion_matrix=cm, display_labels=model.classes_)\n",
        "    disp.plot()\n",
        "    \n",
        "    print(f'Using {num} as Regularization for {model}\\n')\n",
        "    print(classification_report(np.ravel(y_test), y_predict))\n",
        "    plt.show()"
      ],
      "metadata": {
        "id": "ZNIwWlkoXJ00",
        "colab": {
          "base_uri": "https://localhost:8080/",
          "height": 1000
        },
        "outputId": "5bda47a2-7e85-4efc-8caa-e96e3c4409b0"
      },
      "execution_count": null,
      "outputs": [
        {
          "output_type": "stream",
          "name": "stdout",
          "text": [
            "Using 1 as Regularization for SVC(C=1)\n",
            "\n",
            "              precision    recall  f1-score   support\n",
            "\n",
            "           0       0.98      0.99      0.99      5083\n",
            "           1       0.96      0.93      0.94      1317\n",
            "\n",
            "    accuracy                           0.98      6400\n",
            "   macro avg       0.97      0.96      0.97      6400\n",
            "weighted avg       0.98      0.98      0.98      6400\n",
            "\n"
          ]
        },
        {
          "output_type": "display_data",
          "data": {
            "text/plain": [
              "<Figure size 432x288 with 2 Axes>"
            ],
            "image/png": "[encoded data removed]"
          },
          "metadata": {
            "needs_background": "light"
          }
        },
        {
          "output_type": "stream",
          "name": "stdout",
          "text": [
            "Using 10 as Regularization for SVC(C=10)\n",
            "\n",
            "              precision    recall  f1-score   support\n",
            "\n",
            "           0       0.98      0.99      0.99      5083\n",
            "           1       0.97      0.92      0.94      1317\n",
            "\n",
            "    accuracy                           0.98      6400\n",
            "   macro avg       0.97      0.96      0.97      6400\n",
            "weighted avg       0.98      0.98      0.98      6400\n",
            "\n"
          ]
        },
        {
          "output_type": "display_data",
          "data": {
            "text/plain": [
              "<Figure size 432x288 with 2 Axes>"
            ],
            "image/png": "[encoded data removed]"
          },
          "metadata": {
            "needs_background": "light"
          }
        },
        {
          "output_type": "stream",
          "name": "stdout",
          "text": [
            "Using 100 as Regularization for SVC(C=100)\n",
            "\n",
            "              precision    recall  f1-score   support\n",
            "\n",
            "           0       0.98      0.98      0.98      5083\n",
            "           1       0.94      0.92      0.93      1317\n",
            "\n",
            "    accuracy                           0.97      6400\n",
            "   macro avg       0.96      0.95      0.96      6400\n",
            "weighted avg       0.97      0.97      0.97      6400\n",
            "\n"
          ]
        },
        {
          "output_type": "display_data",
          "data": {
            "text/plain": [
              "<Figure size 432x288 with 2 Axes>"
            ],
            "image/png": "[encoded data removed]"
          },
          "metadata": {
            "needs_background": "light"
          }
        }
      ]
    },
    {
      "cell_type": "code",
      "source": [
        ""
      ],
      "metadata": {
        "id": "_AaJKHZBryw4"
      },
      "execution_count": null,
      "outputs": []
    },
    {
      "cell_type": "markdown",
      "source": [
        "# Part 3 \n",
        "+ First add output to train.csv and test.csv\n",
        "+ Second add regularization and Confusion Matrix for viewing\n",
        "+ Third add 10-fold cross validation to see the score\n",
        "+ Fourth add 20% train test split and standardize the data"
      ],
      "metadata": {
        "id": "-j96YWk4r5Wa"
      }
    },
    {
      "cell_type": "markdown",
      "source": [
        "# Lichao\n",
        "Columns 269-402"
      ],
      "metadata": {
        "id": "kp3P2qccqRzp"
      }
    },
    {
      "cell_type": "code",
      "source": [
        "from prettytable import PrettyTable"
      ],
      "metadata": {
        "id": "13sYtXlpd2Go"
      },
      "execution_count": null,
      "outputs": []
    },
    {
      "cell_type": "code",
      "source": [
        "#graph nans per column, normalized\n",
        "tot = len(interviewData.index)\n",
        "missingDataCounts_cols = (interviewData.isnull().sum()/tot)*100\n",
        "fig = plt.figure(figsize=(15, 5))\n",
        "plt.bar(np.arange(402-269), missingDataCounts_cols[269:402])\n",
        "plt.ylim(top=100)\n",
        "plt.xlabel('Column')\n",
        "plt.ylabel('% Missing Data')\n",
        "plt.title('Missing Data in Column 269:402')\n",
        "plt.show()"
      ],
      "metadata": {
        "colab": {
          "base_uri": "https://localhost:8080/",
          "height": 350
        },
        "outputId": "73c276fd-0d68-45d2-d2a6-d1c9a95789a3",
        "id": "doM3AzhJqRzq"
      },
      "execution_count": null,
      "outputs": [
        {
          "output_type": "display_data",
          "data": {
            "image/png": "[encoded data removed]",
            "text/plain": [
              "<Figure size 1080x360 with 1 Axes>"
            ]
          },
          "metadata": {
            "needs_background": "light"
          }
        }
      ]
    },
    {
      "cell_type": "code",
      "source": [
        "# find data that is missing data rate is smaller than 30%\n",
        "index_list_1 = []\n",
        "data_list_1 = []\n",
        "for index,number in enumerate(missingDataCounts_cols[269:402]):\n",
        "    if number < 30:\n",
        "        index_list_1.append([index])\n",
        "        data_list_1.append([number])\n",
        "\n",
        "import numpy as np\n",
        "#print(data_list_1)\n",
        "index_list_1 = np.array(index_list_1)\n",
        "data_list_1 = np.array(data_list_1)\n",
        "\n",
        "\n",
        "\n",
        "tb = PrettyTable()\n",
        "tb.field_names = [\"column number\", \"columns name\",\"Data\"]\n",
        "for i in range(len(index_list_1)):\n",
        "  #print(i)\n",
        "  #print(index_list_1[i]+269,data_list_1[i])\n",
        "  #print(interviewData.columns[269])\n",
        "  tb.add_row([index_list_1[i]+269,interviewData.columns[int(index_list_1[i])+269] ,float(data_list_1[i])])\n",
        "print(tb)\n",
        "print(\"We have \",len(index_list_1),\"column can use in 269:402\")"
      ],
      "metadata": {
        "colab": {
          "base_uri": "https://localhost:8080/"
        },
        "id": "XJA9RMPpb6Wc",
        "outputId": "30427ea7-3917-4b8d-cc46-3a9e5ac06a62"
      },
      "execution_count": null,
      "outputs": [
        {
          "output_type": "stream",
          "name": "stdout",
          "text": [
            "+---------------+--------------+---------------------+\n",
            "| column number | columns name |         Data        |\n",
            "+---------------+--------------+---------------------+\n",
            "|     [269]     |  MHTHRPY_A   |         0.0         |\n",
            "|     [270]     |    MHRX_A    |   16.3265306122449  |\n",
            "|     [272]     |   DEPMED_A   |         0.0         |\n",
            "|     [273]     |  DEPFREQ_A   |         0.0         |\n",
            "|     [275]     |   ANXMED_A   |         0.0         |\n",
            "|     [276]     |  ANXFREQ_A   |         0.0         |\n",
            "|     [277]     | HOMEHC12M_A  |         0.0         |\n",
            "|     [278]     |  THERA12M_A  |         0.0         |\n",
            "|     [279]     |  EYEEX12M_A  |         0.0         |\n",
            "|     [280]     | WRKHLTHFC_A  |  8.691439822483357  |\n",
            "|     [281]     | WORKHEALTH_A | 0.23127168172016127 |\n",
            "|     [282]     |   SHTHPV_A   |  29.630902897146605 |\n",
            "|     [284]     | SHTTETANUS_A |  0.8750820389411508 |\n",
            "|     [293]     |  SHTPNUEV_A  |         0.0         |\n",
            "|     [298]     | SHTFLU12M_A  |         0.0         |\n",
            "|     [344]     |  DIABLAST_A  |         0.0         |\n",
            "|     [345]     |  CHOLLAST_A  |         0.0         |\n",
            "|     [346]     |   BPLAST_A   |         0.0         |\n",
            "|     [351]     |   OPD12M_A   |  29.852798699878115 |\n",
            "|     [352]     |  RXDG12M_A   |         0.0         |\n",
            "|     [353]     |  RXDL12M_A   |  29.852798699878115 |\n",
            "|     [354]     |  RXLS12M_A   |  29.852798699878115 |\n",
            "|     [355]     |  RXSK12M_A   |  29.852798699878115 |\n",
            "|     [356]     |   RX12M_A    |         0.0         |\n",
            "|     [357]     |  MEDNG12M_A  |         0.0         |\n",
            "|     [358]     |  MEDDL12M_A  |         0.0         |\n",
            "|     [359]     |  HOSPONGT_A  |         0.0         |\n",
            "|     [360]     |  USPLKIND_A  |  9.469637778541738  |\n",
            "|     [361]     |  USUALPL_A   |         0.0         |\n",
            "|     [363]     |  WELLNESS_A  |  0.931337312873082  |\n",
            "|     [364]     |   LASTDR_A   |         0.0         |\n",
            "|     [365]     |  DENNG12M_A  |         0.0         |\n",
            "|     [366]     |  DENDL12M_A  |         0.0         |\n",
            "|     [367]     |  DENPREV_A   |         0.0         |\n",
            "|     [368]     |  PAYWORRY_A  |         0.0         |\n",
            "|     [370]     | PAYBLL12M_A  |         0.0         |\n",
            "|     [372]     |  HINOTYR_A   |   8.57267868862706  |\n",
            "+---------------+--------------+---------------------+\n",
            "We have  37 column can use in 269:402\n"
          ]
        }
      ]
    },
    {
      "cell_type": "markdown",
      "source": [
        "# Gabby \n",
        "Columns: 403 - end"
      ],
      "metadata": {
        "id": "Xgf7Ak-ehnRH"
      }
    },
    {
      "cell_type": "markdown",
      "source": [
        "Here's ALL the columns with 0 missing values. We can use this as the dataset for initial results."
      ],
      "metadata": {
        "id": "dlb18SgUD_FF"
      }
    },
    {
      "cell_type": "code",
      "source": [
        "interview_noNANs = interviewData.dropna(axis=1)\n",
        "noNanColsPer = len(interview_noNANs.columns)/len(interviewData.columns)\n",
        "print('We have ', len(interview_noNANs.columns), ' columns left, i.e. ', len(interview_noNANs.columns)/len(interviewData.columns)*100, '%')"
      ],
      "metadata": {
        "colab": {
          "base_uri": "https://localhost:8080/"
        },
        "id": "yYLB-SLcD-AN",
        "outputId": "66f7fedd-d02b-4bc5-9b26-2dffe0807542"
      },
      "execution_count": null,
      "outputs": [
        {
          "output_type": "stream",
          "name": "stdout",
          "text": [
            "We have  168  columns left, i.e.  31.46067415730337 %\n"
          ]
        }
      ]
    },
    {
      "cell_type": "code",
      "source": [
        "#grab my data\n",
        "col_D = interviewData.iloc[:, 402:]"
      ],
      "metadata": {
        "id": "g6PE71QP0YnP"
      },
      "execution_count": null,
      "outputs": []
    },
    {
      "cell_type": "code",
      "source": [
        "#look at my column_names\n",
        "\n",
        "col_D_names = col_D.columns\n",
        "for name in col_D_names:\n",
        "    print(name)"
      ],
      "metadata": {
        "id": "Mi4uu37kjXK6"
      },
      "execution_count": null,
      "outputs": []
    },
    {
      "cell_type": "code",
      "source": [
        "#look at columns to check if they are all the same type\n",
        "#these are probably not very useful \n",
        "col_D.nunique().index[col_D.nunique()==1]\n",
        "\n",
        "#HHSTAT_A = Indicates person is the Sample Adult \n",
        "#RECTYPE = Record type"
      ],
      "metadata": {
        "colab": {
          "base_uri": "https://localhost:8080/"
        },
        "id": "vGS5t4WmjkwM",
        "outputId": "791e79b7-c6d6-4bf7-f92a-f9200d30a5ec"
      },
      "execution_count": null,
      "outputs": [
        {
          "output_type": "execute_result",
          "data": {
            "text/plain": [
              "Index(['HHSTAT_A', 'RECTYPE'], dtype='object')"
            ]
          },
          "metadata": {},
          "execution_count": 7
        }
      ]
    },
    {
      "cell_type": "code",
      "source": [
        "#count NANs\n",
        "col_D_NANs = col_D.isnull().sum(axis=0)\n",
        "col_D_NANs"
      ],
      "metadata": {
        "colab": {
          "base_uri": "https://localhost:8080/"
        },
        "id": "QN06-0-44Yc5",
        "outputId": "7d95c649-c6a1-4f0b-f669-75c0f4d93f83"
      },
      "execution_count": null,
      "outputs": [
        {
          "output_type": "execute_result",
          "data": {
            "text/plain": [
              "PRVSCOV2_A    31443\n",
              "PRVSCOV1_A    11515\n",
              "PRDNCOV2_A    31443\n",
              "PRDNCOV1_A    11515\n",
              "PRRXCOV2_A    31443\n",
              "              ...  \n",
              "RECTYPE           0\n",
              "WTFA_A            0\n",
              "WTIA_A            0\n",
              "HHX               0\n",
              "POVRATTC_A        0\n",
              "Length: 132, dtype: int64"
            ]
          },
          "metadata": {},
          "execution_count": 8
        }
      ]
    },
    {
      "cell_type": "code",
      "source": [
        "#get any columns w/o NANs\n",
        "colD_noNANS = col_D.dropna(axis=1)\n",
        "len(colD_noNANS.columns)"
      ],
      "metadata": {
        "id": "iqPbvQnu_mG4",
        "colab": {
          "base_uri": "https://localhost:8080/"
        },
        "outputId": "85b120bc-ab79-444b-b2be-b7a454f8d8ac"
      },
      "execution_count": null,
      "outputs": [
        {
          "output_type": "execute_result",
          "data": {
            "text/plain": [
              "52"
            ]
          },
          "metadata": {},
          "execution_count": 11
        }
      ]
    },
    {
      "cell_type": "markdown",
      "source": [
        "#Combining Rows\n",
        "I'm combining related row. For example there are many in my section that deal with either plan 1 or plan 2. I'm basically treating plan 1 and plan 2 as equivalent. For any rows with a NAN in one column and an aswer in another column, I made a \"summary\" column with the answer provide. \n",
        "For columns that DO have answers in both columns, I have a \"hierarchy\" if there is a 1 (YES) for either column, the summary column gets a 1. "
      ],
      "metadata": {
        "id": "n8dNPvzgHUqj"
      }
    },
    {
      "cell_type": "code",
      "source": [
        "#functions for combining columns\n",
        "def combine_two_columns (df, colA, colB, df_summ, summColName):\n",
        "    '''For related columns, when only one column has a NAN, \n",
        "    the summary column gets the answer of the other column.\n",
        "    df: dataframe with original data\n",
        "    colA: name of the first original column to combine\n",
        "    colB: name of the second original column to combine\n",
        "    df_summ: dataframe in which to put summary column\n",
        "    sumColName: name of summary column'''\n",
        "    df_summ[summColName] = df[[colA, colB]].min(axis=1, skipna=True)\n",
        "    return ()"
      ],
      "metadata": {
        "id": "kP_baDI7F2xP"
      },
      "execution_count": null,
      "outputs": []
    },
    {
      "cell_type": "code",
      "source": [
        "#make dataframe containing all full columns\n",
        "#will add summary columns here\n",
        "dataSummary = colD_noNANS.copy()"
      ],
      "metadata": {
        "id": "eW8FUIR_aZU6"
      },
      "execution_count": null,
      "outputs": []
    },
    {
      "cell_type": "code",
      "source": [
        "# #for columns 510-520, plan payment\n",
        "# #10 = paid by self/fam\n",
        "# #11 = employer/union\n",
        "# #12 = someone outside family \n",
        "# #12 = gov program\n",
        "# #13 = someone outside family \n",
        "# #13= self and employer/union\n",
        "# #14 = self and gov program\n",
        "# #15 = employer and gov program\n",
        "# #16 = all \n",
        "\n",
        "# #if row has only self/fam payments\n",
        "# dataSummary['PLNPAY_SUMM'] = np.where(((col_D['PLN1PAY1_A'] == 1) | (col_D['PLN2PAY1_A'] == 1)) &\n",
        "#                                       ((col_D['PLN1PAY2_A'] != 1) & (col_D['PLN2PAY2_A'] != 1) & \n",
        "#                                        (col_D['PLN1PAY3_A'] != 1) & (col_D['PLN2PAY3_A'] != 1) &\n",
        "#                                        (col_D['PLN1PAY4_A'] != 1) & (col_D['PLN2PAY4_A'] != 1) & \n",
        "#                                        (col_D['PLN1PAY5_A'] != 1) & (col_D['PLN2PAY5_A'] != 1) & \n",
        "#                                        (col_D['PLN1PAY6_A'] != 1) & (col_D['PLN2PAY6_A'] != 1)), 10, 0)\n",
        "# #if row has only employer/union payments\n",
        "# dataSummary['PLNPAY_SUMM'] = np.where(((col_D['PLN1PAY2_A'] == 1) | (col_D['PLN2PAY2_A'] == 1)) &\n",
        "#                                       ((col_D['PLN1PAY1_A'] != 1) & (col_D['PLN1PAY1_A'] != 1) & \n",
        "#                                        (col_D['PLN1PAY3_A'] != 1) & (col_D['PLN2PAY3_A'] != 1) &\n",
        "#                                        (col_D['PLN1PAY4_A'] != 1) & (col_D['PLN2PAY4_A'] != 1) & \n",
        "#                                        (col_D['PLN1PAY5_A'] != 1) & (col_D['PLN2PAY5_A'] != 1) & \n",
        "#                                        (col_D['PLN1PAY6_A'] != 1) & (col_D['PLN2PAY6_A'] != 1)), 10, dataSummary['PLNPAY_SUMM'])\n",
        "# #if row has only gov program/payments\n",
        "# dataSummary['PLNPAY_SUMM'] = np.where(((col_D['PLN1PAY2_A'] == 1) | (col_D['PLN2PAY2_A'] == 1)) &\n",
        "#                                       ((col_D['PLN1PAY1_A'] != 1) & (col_D['PLN1PAY1_A'] != 1) & \n",
        "#                                        (col_D['PLN1PAY3_A'] != 1) & (col_D['PLN2PAY3_A'] != 1) &\n",
        "#                                        (col_D['PLN1PAY4_A'] != 1) & (col_D['PLN2PAY4_A'] != 1) & \n",
        "#                                        (col_D['PLN1PAY5_A'] != 1) & (col_D['PLN2PAY5_A'] != 1) & \n",
        "#                                        (col_D['PLN1PAY6_A'] != 1) & (col_D['PLN2PAY6_A'] != 1)), 10, dataSummary['PLNPAY_SUMM'])"
      ],
      "metadata": {
        "id": "oCcKTu6xX5lx"
      },
      "execution_count": null,
      "outputs": []
    },
    {
      "cell_type": "code",
      "source": [
        "#check how many people have 2 plans"
      ],
      "metadata": {
        "id": "RYsceP4efdgW"
      },
      "execution_count": null,
      "outputs": []
    }
  ]
}