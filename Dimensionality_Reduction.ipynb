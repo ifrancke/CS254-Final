{
  "nbformat": 4,
  "nbformat_minor": 0,
  "metadata": {
    "colab": {
      "name": "Dimensionality Reduction.ipynb",
      "provenance": []
    },
    "kernelspec": {
      "name": "python3",
      "display_name": "Python 3"
    },
    "language_info": {
      "name": "python"
    }
  },
  "cells": [
    {
      "cell_type": "code",
      "execution_count": 21,
      "metadata": {
        "id": "ha-UtMYRbCy_"
      },
      "outputs": [],
      "source": [
        "import pandas as pd\n",
        "import matplotlib.pyplot as plt\n",
        "import numpy as np\n",
        "\n",
        "from statistics import mean\n",
        "from sklearn.decomposition import TruncatedSVD"
      ]
    },
    {
      "cell_type": "code",
      "source": [
        "from google.colab import drive\n",
        "drive.mount('/content/drive')\n"
      ],
      "metadata": {
        "colab": {
          "base_uri": "https://localhost:8080/"
        },
        "id": "W7KPNOGGbM7B",
        "outputId": "4b399adb-feb5-4fe6-f137-1005acef6e15"
      },
      "execution_count": 2,
      "outputs": [
        {
          "output_type": "stream",
          "name": "stdout",
          "text": [
            "Mounted at /content/drive\n"
          ]
        }
      ]
    },
    {
      "cell_type": "code",
      "source": [
        "#absolute path\n",
        "path = '/content/drive/MyDrive/'\n",
        "X_train = pd.read_csv (path + 'trainFeaturesFinal.csv', index_col='HHX')\n",
        "y_train = pd.read_csv (path + 'trainTargetFinal.csv', index_col='HHX')\n",
        "X_test = pd.read_csv(path + 'testFeaturesFinal.csv', index_col='HHX')\n",
        "y_test = pd.read_csv(path + 'testTargetFinal.csv', index_col='HHX')"
      ],
      "metadata": {
        "id": "IBx1ptRTbS4o"
      },
      "execution_count": 3,
      "outputs": []
    },
    {
      "cell_type": "markdown",
      "source": [
        "How many dimensions? We create a PCA with 10 components, then look for the \"elbow\" in the graph where there is a sharp dropoff in the explained variance."
      ],
      "metadata": {
        "id": "YsUYdt2FbkTZ"
      }
    },
    {
      "cell_type": "code",
      "source": [
        "svd = TruncatedSVD(random_state=0, n_components=10)\n",
        "svd.fit(X_train)\n",
        "plt.plot(svd.explained_variance_ratio_)\n",
        "plt.xlabel(\"Component\")\n",
        "plt.ylabel(\"Explained Variance Ratio\")"
      ],
      "metadata": {
        "colab": {
          "base_uri": "https://localhost:8080/",
          "height": 296
        },
        "id": "LHlx1me4brtP",
        "outputId": "f0c7466c-5c86-4ff4-d26d-16a4b8bd3ddc"
      },
      "execution_count": 40,
      "outputs": [
        {
          "output_type": "execute_result",
          "data": {
            "text/plain": [
              "Text(0, 0.5, 'Explained Variance Ratio')"
            ]
          },
          "metadata": {},
          "execution_count": 40
        },
        {
          "output_type": "display_data",
          "data": {
            "text/plain": [
              "<Figure size 432x288 with 1 Axes>"
            ],
            "image/png": "[encoded data removed]"
          },
          "metadata": {
            "needs_background": "light"
          }
        }
      ]
    },
    {
      "cell_type": "markdown",
      "source": [
        "It appears that the first three components explain most of the variance in the data. Now we make a new model using those two components."
      ],
      "metadata": {
        "id": "TUXf34BsbsUk"
      }
    },
    {
      "cell_type": "code",
      "source": [
        "svd = TruncatedSVD(random_state=0, n_components=3)\n",
        "svd_x = svd.fit_transform(X_train)"
      ],
      "metadata": {
        "id": "iGoO6pdgbftU"
      },
      "execution_count": 42,
      "outputs": []
    },
    {
      "cell_type": "code",
      "source": [
        "## convert your array into a dataframe\n",
        "df = pd.DataFrame (svd_x)\n",
        "\n",
        "## save to xlsx file\n",
        "filepath = 'X_reduced.xlsx'\n",
        "df.to_excel(filepath, index=False)"
      ],
      "metadata": {
        "id": "eQgcKZz4nbdU"
      },
      "execution_count": 44,
      "outputs": []
    }
  ]
}