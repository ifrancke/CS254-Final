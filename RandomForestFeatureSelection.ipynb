{
 "cells": [
  {
   "cell_type": "code",
   "execution_count": 44,
   "id": "f2301d72",
   "metadata": {},
   "outputs": [],
   "source": [
    "import matplotlib.pyplot as plt\n",
    "from sklearn.ensemble import RandomForestClassifier\n",
    "import os\n",
    "import numpy as np\n",
    "import pandas as pd\n",
    "from joblib import dump, load\n",
    "from time import time\n",
    "from sklearn.feature_selection import RFECV\n",
    "import json"
   ]
  },
  {
   "cell_type": "markdown",
   "id": "50e09e16",
   "metadata": {},
   "source": [
    "## LOAD FILES"
   ]
  },
  {
   "cell_type": "code",
   "execution_count": 18,
   "id": "e1b37c51",
   "metadata": {},
   "outputs": [],
   "source": [
    "#LOAD MODEL\n",
    "\n",
    "RFC_path='RFC_FullData.joblib'\n",
    "RFC = load(RFC_path) "
   ]
  },
  {
   "cell_type": "code",
   "execution_count": 19,
   "id": "f22a866d",
   "metadata": {},
   "outputs": [
    {
     "name": "stdout",
     "output_type": "stream",
     "text": [
      "(22222, 5290)\n",
      "(22222,)\n",
      "(5556, 5290)\n",
      "(5556,)\n"
     ]
    }
   ],
   "source": [
    "#LOAD DATA\n",
    "dataDir = 'CleanDataFinal'\n",
    "\n",
    "#LOAD TRAINING DATA\n",
    "#features\n",
    "path = os.path.join(dataDir, 'trainFeaturesFinal.csv')\n",
    "train_x_pd = pd.read_csv (path, index_col = 'HHX')\n",
    "train_x = train_x_pd.to_numpy()\n",
    "print(train_x.shape)\n",
    "\n",
    "#target\n",
    "path = os.path.join(dataDir, 'trainTargetFinal.csv')\n",
    "train_y_pd = pd.read_csv (path, index_col = 'HHX')\n",
    "train_y = train_y_pd.to_numpy().flatten()\n",
    "print(train_y.shape)\n",
    "\n",
    "#LOAD TESTING DATA\n",
    "#features\n",
    "path = os.path.join(dataDir, 'testFeaturesFinal.csv')\n",
    "test_x_pd = pd.read_csv (path, index_col = 'HHX')\n",
    "test_x = test_x_pd.to_numpy()\n",
    "print(test_x.shape)\n",
    "\n",
    "#target\n",
    "path = os.path.join(dataDir, 'testTargetFinal.csv')\n",
    "test_y_pd = pd.read_csv (path, index_col = 'HHX')\n",
    "test_y = test_y_pd.to_numpy().flatten()\n",
    "print(test_y.shape)"
   ]
  },
  {
   "cell_type": "markdown",
   "id": "2eb9682c",
   "metadata": {},
   "source": [
    "## FEATURE IMPORTANCE USING PERMUTATION IMPORTANCE ALGORITHM"
   ]
  },
  {
   "cell_type": "code",
   "execution_count": 45,
   "id": "26f5adb5",
   "metadata": {},
   "outputs": [
    {
     "name": "stdout",
     "output_type": "stream",
     "text": [
      "Elapsed time to compute the importances: 40230.287 seconds\n"
     ]
    }
   ],
   "source": [
    "#adapted from https://scikit-learn.org/stable/auto_examples/ensemble/plot_forest_importances.html\n",
    "\n",
    "start_time = time()\n",
    "result = permutation_importance(\n",
    "    RFC, test_x, test_y, n_repeats=10, random_state=42, n_jobs=2, scoring='roc_auc_ovr_weighted')\n",
    "elapsed_time = time() - start_time\n",
    "print(f\"Elapsed time to compute the importances: {elapsed_time:.3f} seconds\")"
   ]
  },
  {
   "cell_type": "code",
   "execution_count": 46,
   "id": "a550757b",
   "metadata": {},
   "outputs": [],
   "source": [
    "forest_importances = pd.Series(result.importances_mean, index=test_x_pd.columns)\n",
    "forest_std = pd.Series(result.importances_std, index=test_x_pd.columns)\n",
    "\n",
    "#save data\n",
    "path = 'FeatureImportanceFullData.csv'\n",
    "forest_importances.to_csv(path)\n",
    "path = 'FeatureImportanceSTDFullData.csv'\n",
    "forest_importances.to_csv(path)\n"
   ]
  },
  {
   "cell_type": "code",
   "execution_count": 49,
   "id": "27150bd9",
   "metadata": {},
   "outputs": [
    {
     "data": {
      "image/png": "[encoded data removed]",
      "text/plain": [
       "<Figure size 432x288 with 1 Axes>"
      ]
     },
     "metadata": {
      "needs_background": "light"
     },
     "output_type": "display_data"
    }
   ],
   "source": [
    "#plot top feature importance\n",
    "\n",
    "#sort data\n",
    "forest_importances = forest_importances.sort_values(ascending=False)\n",
    "#grab top few features\n",
    "num_features = 20\n",
    "top_features = forest_importances.iloc[:num_features]\n",
    "top_features_STD = forest_std.iloc[:num_features]\n",
    "\n",
    "#plot top features\n",
    "fig, ax = plt.subplots(figsize=(6, 4))\n",
    "top_features.plot.bar(yerr=top_features_STD, ax=ax, fontsize=14)\n",
    "ax.set_ylabel(\"Mean ROC AUC decrease \\n (one-vs-rest \\n weighted)\", fontsize=14)\n",
    "fig.tight_layout()\n",
    "\n",
    "#save figure\n",
    "path='FullData_FeatureImportance.png'\n",
    "plt.savefig(path, bbox_inches=\"tight\")\n",
    "\n",
    "plt.show()\n",
    "\n"
   ]
  },
  {
   "cell_type": "markdown",
   "id": "1aa2a8e4",
   "metadata": {},
   "source": [
    "## FEATURE SELECTION USING RECURSIVE FEATURE SELECTION"
   ]
  },
  {
   "cell_type": "code",
   "execution_count": null,
   "id": "6beb079e",
   "metadata": {},
   "outputs": [],
   "source": [
    "#RUN FEATURE SELECTION ON FULL DATASET\n",
    "#Adapted from https://scikit-learn.org/stable/auto_examples/feature_selection/plot_rfe_with_cross_validation.html#sphx-glr-auto-examples-feature-selection-plot-rfe-with-cross-validation-py\n",
    "\n",
    "# Create the RFE object and compute a cross-validated score.\n",
    "# Using same parameters as best Full data model \n",
    "## Wasn't seeing huge changes in scores for the different models\n",
    "start_time = time()\n",
    "\n",
    "n_estimators=461\n",
    "max_features=118\n",
    "RFC = RandomForestClassifier(n_estimators=n_estimators, max_features=max_features)\n",
    "\n",
    "step=20\n",
    "min_features_to_select = 1  # Minimum number of features to consider\n",
    "rfecv = RFECV(\n",
    "    estimator=RFC,\n",
    "    step=step,\n",
    "    scoring=\"roc_auc_ovr_weighted\",\n",
    "    min_features_to_select=min_features_to_select)\n",
    "\n",
    "rfecv.fit(train_x, train_y)\n",
    "\n",
    "print(\"Optimal number of features : %d\" % rfecv.n_features_)\n",
    "elapsed_time = time() - start_time\n",
    "print(f\"Elapsed time to select features: {elapsed_time:.3f} seconds\")"
   ]
  },
  {
   "cell_type": "code",
   "execution_count": null,
   "id": "6093d5c9",
   "metadata": {},
   "outputs": [],
   "source": [
    "#SAVE DATA \n",
    "resPD = pd.DataFrame(rfecv.cv_results_)\n",
    "\n",
    "features_max = train_x.shape[1]\n",
    "features_min = features_max-(len(resPD)-1)*step\n",
    "features_used = np.linspace(features_max, features_min, len(resPD))\n",
    "resPD['features_used'] = features_used\n",
    "\n",
    "dataDir = 'FeatureSelection'\n",
    "\n",
    "if not os.path.exists(dataDir):\n",
    "    os.makedirs(dataDir)\n",
    "\n",
    "dataFile = 'FeatureSelection_cv_results.csv'\n",
    "path = os.path.join(dataDir, dataFile)\n",
    "\n",
    "resPD.to_csv(path)\n",
    "\n",
    "selected_features = pd.DataFrame(rfecv.ranking_, columns=['Ranking'])\n",
    "selected_features['FeatureName'] = train_x_pd.columns.to_list()\n",
    "\n",
    "dataFile = 'FeatureSelection_SelectedFeatures.csv'\n",
    "path = os.path.join(dataDir, dataFile)\n",
    "\n",
    "selected_features.to_csv(path)"
   ]
  },
  {
   "cell_type": "code",
   "execution_count": 54,
   "id": "411afe1c",
   "metadata": {},
   "outputs": [],
   "source": [
    "#LOAD DATA \n",
    "\n",
    "dataDir = 'FeatureSelection'\n",
    "\n",
    "dataFile = 'FeatureSelection_cv_results.csv'\n",
    "path = os.path.join(dataDir, dataFile)\n",
    "resPD = pd.read_csv(path, index_col=0)\n",
    "\n",
    "dataFile = 'FeatureSelection_SelectedFeatures.csv'\n",
    "path = os.path.join(dataDir, dataFile)\n",
    "selected_features = pd.read_csv(path, index_col=0)"
   ]
  },
  {
   "cell_type": "code",
   "execution_count": 55,
   "id": "7cea7363",
   "metadata": {},
   "outputs": [
    {
     "data": {
      "image/png": "[encoded data removed]",
      "text/plain": [
       "<Figure size 432x288 with 1 Axes>"
      ]
     },
     "metadata": {
      "needs_background": "light"
     },
     "output_type": "display_data"
    }
   ],
   "source": [
    "#GRAPH CV SCORE VS NUMBER OF FEATURES\n",
    "\n",
    "# Plot number of features VS. cross-validation scores\n",
    "plt.plot(resPD.features_used, resPD.mean_test_score)\n",
    "plt.errorbar(resPD.features_used, resPD.mean_test_score, yerr=resPD.std_test_score, capsize=5, markeredgewidth=1, color='k')\n",
    "plt.xlabel(\"Number of Features Selected\", fontsize=16)\n",
    "plt.ylabel(\"Cross-Val Score \\n (ROC AUC \\n one-vs-rest \\n weighted)\", fontsize=16)\n",
    "plt.xticks(fontsize=16)\n",
    "plt.yticks(fontsize=16)\n",
    "\n",
    "#save figure\n",
    "path='FeatureSelection.png'\n",
    "plt.savefig(path, bbox_inches=\"tight\")\n",
    "\n",
    "plt.show()"
   ]
  },
  {
   "cell_type": "code",
   "execution_count": null,
   "id": "8e572161",
   "metadata": {},
   "outputs": [],
   "source": []
  }
 ],
 "metadata": {
  "kernelspec": {
   "display_name": "MachineLearningUVM",
   "language": "python",
   "name": "machinelearninguvm"
  },
  "language_info": {
   "codemirror_mode": {
    "name": "ipython",
    "version": 3
   },
   "file_extension": ".py",
   "mimetype": "text/x-python",
   "name": "python",
   "nbconvert_exporter": "python",
   "pygments_lexer": "ipython3",
   "version": "3.7.11"
  }
 },
 "nbformat": 4,
 "nbformat_minor": 5
}
