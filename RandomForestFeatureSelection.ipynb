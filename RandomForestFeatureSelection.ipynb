{
 "cells": [
  {
   "cell_type": "code",
   "execution_count": 131,
   "id": "fc6bc001",
   "metadata": {},
   "outputs": [],
   "source": [
    "import matplotlib.pyplot as plt\n",
    "from sklearn.ensemble import RandomForestClassifier\n",
    "from sklearn.model_selection import cross_val_score\n",
    "import os\n",
    "import numpy as np\n",
    "import pandas as pd\n",
    "from joblib import dump, load\n",
    "from time import time\n",
    "from sklearn.feature_selection import RFECV\n",
    "from sklearn.metrics import roc_auc_score\n",
    "from joblib import dump, load"
   ]
  },
  {
   "cell_type": "markdown",
   "id": "c9ae6410",
   "metadata": {},
   "source": [
    "## LOAD FILES"
   ]
  },
  {
   "cell_type": "code",
   "execution_count": 18,
   "id": "14a70a9f",
   "metadata": {},
   "outputs": [],
   "source": [
    "#LOAD MODEL\n",
    "\n",
    "RFC_path='RFC_FullData.joblib'\n",
    "RFC = load(RFC_path) "
   ]
  },
  {
   "cell_type": "code",
   "execution_count": 19,
   "id": "41e52870",
   "metadata": {},
   "outputs": [
    {
     "name": "stdout",
     "output_type": "stream",
     "text": [
      "(22222, 5290)\n",
      "(22222,)\n",
      "(5556, 5290)\n",
      "(5556,)\n"
     ]
    }
   ],
   "source": [
    "#LOAD DATA\n",
    "dataDir = 'CleanDataFinal'\n",
    "\n",
    "#LOAD TRAINING DATA\n",
    "#features\n",
    "path = os.path.join(dataDir, 'trainFeaturesFinal.csv')\n",
    "train_x_pd = pd.read_csv (path, index_col = 'HHX')\n",
    "train_x = train_x_pd.to_numpy()\n",
    "print(train_x.shape)\n",
    "\n",
    "#target\n",
    "path = os.path.join(dataDir, 'trainTargetFinal.csv')\n",
    "train_y_pd = pd.read_csv (path, index_col = 'HHX')\n",
    "train_y = train_y_pd.to_numpy().flatten()\n",
    "print(train_y.shape)\n",
    "\n",
    "#LOAD TESTING DATA\n",
    "#features\n",
    "path = os.path.join(dataDir, 'testFeaturesFinal.csv')\n",
    "test_x_pd = pd.read_csv (path, index_col = 'HHX')\n",
    "test_x = test_x_pd.to_numpy()\n",
    "print(test_x.shape)\n",
    "\n",
    "#target\n",
    "path = os.path.join(dataDir, 'testTargetFinal.csv')\n",
    "test_y_pd = pd.read_csv (path, index_col = 'HHX')\n",
    "test_y = test_y_pd.to_numpy().flatten()\n",
    "print(test_y.shape)"
   ]
  },
  {
   "cell_type": "markdown",
   "id": "91338892",
   "metadata": {},
   "source": [
    "## FEATURE IMPORTANCE USING PERMUTATION IMPORTANCE ALGORITHM"
   ]
  },
  {
   "cell_type": "code",
   "execution_count": 45,
   "id": "ed9db206",
   "metadata": {},
   "outputs": [
    {
     "name": "stdout",
     "output_type": "stream",
     "text": [
      "Elapsed time to compute the importances: 40230.287 seconds\n"
     ]
    }
   ],
   "source": [
    "#adapted from https://scikit-learn.org/stable/auto_examples/ensemble/plot_forest_importances.html\n",
    "\n",
    "start_time = time()\n",
    "result = permutation_importance(\n",
    "    RFC, test_x, test_y, n_repeats=10, random_state=42, n_jobs=2, scoring='roc_auc_ovr_weighted')\n",
    "elapsed_time = time() - start_time\n",
    "print(f\"Elapsed time to compute the importances: {elapsed_time:.3f} seconds\")"
   ]
  },
  {
   "cell_type": "code",
   "execution_count": 46,
   "id": "64c56b94",
   "metadata": {},
   "outputs": [],
   "source": [
    "forest_importances = pd.Series(result.importances_mean, index=test_x_pd.columns)\n",
    "forest_std = pd.Series(result.importances_std, index=test_x_pd.columns)\n",
    "\n",
    "#save data\n",
    "path = 'FeatureImportanceFullData.csv'\n",
    "forest_importances.to_csv(path)\n",
    "path = 'FeatureImportanceSTDFullData.csv'\n",
    "forest_importances.to_csv(path)\n"
   ]
  },
  {
   "cell_type": "code",
   "execution_count": 49,
   "id": "fd952afa",
   "metadata": {},
   "outputs": [
    {
     "data": {
      "image/png": "[encoded data removed]",
      "text/plain": [
       "<Figure size 432x288 with 1 Axes>"
      ]
     },
     "metadata": {
      "needs_background": "light"
     },
     "output_type": "display_data"
    }
   ],
   "source": [
    "#plot top feature importance\n",
    "\n",
    "#sort data\n",
    "forest_importances = forest_importances.sort_values(ascending=False)\n",
    "#grab top few features\n",
    "num_features = 20\n",
    "top_features = forest_importances.iloc[:num_features]\n",
    "top_features_STD = forest_std.iloc[:num_features]\n",
    "\n",
    "#plot top features\n",
    "fig, ax = plt.subplots(figsize=(6, 4))\n",
    "top_features.plot.bar(yerr=top_features_STD, ax=ax, fontsize=14)\n",
    "ax.set_ylabel(\"Mean ROC AUC decrease \\n (one-vs-rest \\n weighted)\", fontsize=14)\n",
    "fig.tight_layout()\n",
    "\n",
    "#save figure\n",
    "path='FullData_FeatureImportance.png'\n",
    "plt.savefig(path, bbox_inches=\"tight\")\n",
    "\n",
    "plt.show()\n",
    "\n"
   ]
  },
  {
   "cell_type": "markdown",
   "id": "b2de112e",
   "metadata": {},
   "source": [
    "## FEATURE SELECTION USING RECURSIVE FEATURE SELECTION"
   ]
  },
  {
   "cell_type": "code",
   "execution_count": 62,
   "id": "a490e099",
   "metadata": {},
   "outputs": [
    {
     "name": "stdout",
     "output_type": "stream",
     "text": [
      "Optimal number of features : 415\n",
      "Elapsed time to select features: 69263.773 seconds\n"
     ]
    }
   ],
   "source": [
    "#RUN FEATURE SELECTION ON FULL DATASET\n",
    "#Adapted from https://scikit-learn.org/stable/auto_examples/feature_selection/plot_rfe_with_cross_validation.html#sphx-glr-auto-examples-feature-selection-plot-rfe-with-cross-validation-py\n",
    "\n",
    "# Create the RFE object and compute a cross-validated score.\n",
    "## Wasn't seeing huge changes in scores for the different models\n",
    "# used high number of trees, lowish number of features\n",
    "start_time = time()\n",
    "\n",
    "n_estimators=460\n",
    "max_features=50\n",
    "RFC = RandomForestClassifier(n_estimators=n_estimators, max_features=max_features)\n",
    "\n",
    "min_features_to_select = 50  # Minimum number of features to consider\n",
    "step=25\n",
    "rfecv = RFECV(\n",
    "    estimator=RFC,\n",
    "    step=step,\n",
    "    scoring=\"roc_auc_ovr_weighted\",\n",
    "    min_features_to_select=min_features_to_select)\n",
    "\n",
    "rfecv.fit(train_x, train_y)\n",
    "\n",
    "print(\"Optimal number of features : %d\" % rfecv.n_features_)\n",
    "elapsed_time = time() - start_time\n",
    "print(f\"Elapsed time to select features: {elapsed_time:.3f} seconds\")"
   ]
  },
  {
   "cell_type": "code",
   "execution_count": 63,
   "id": "4200f632",
   "metadata": {},
   "outputs": [],
   "source": [
    "#SAVE DATA \n",
    "resPD = pd.DataFrame(rfecv.cv_results_)\n",
    "\n",
    "features_max = train_x.shape[1]\n",
    "features_min = features_max-(len(resPD)-1)*step\n",
    "features_used = np.linspace(features_max, features_min, len(resPD))\n",
    "resPD['features_used'] = features_used\n",
    "\n",
    "dataDir = 'FeatureSelection'\n",
    "\n",
    "if not os.path.exists(dataDir):\n",
    "    os.makedirs(dataDir)\n",
    "\n",
    "dataFile = 'FeatureSelection_cv_results.csv'\n",
    "path = os.path.join(dataDir, dataFile)\n",
    "\n",
    "resPD.to_csv(path)\n",
    "\n",
    "selected_features = pd.DataFrame(rfecv.ranking_, columns=['Ranking'])\n",
    "selected_features['FeatureName'] = train_x_pd.columns.to_list()\n",
    "\n",
    "dataFile = 'FeatureSelection_SelectedFeatures.csv'\n",
    "path = os.path.join(dataDir, dataFile)\n",
    "\n",
    "selected_features.to_csv(path)"
   ]
  },
  {
   "cell_type": "code",
   "execution_count": 78,
   "id": "94b24e4d",
   "metadata": {},
   "outputs": [],
   "source": [
    "#LOAD DATA \n",
    "\n",
    "dataDir = 'AnalysisData'\n",
    "dataSubDir= 'FeatureSelection'\n",
    "\n",
    "dataFile = 'FeatureSelection_cv_results.csv'\n",
    "path = os.path.join(dataDir, dataSubDir, dataFile)\n",
    "resPD = pd.read_csv(path, index_col=0)\n",
    "\n",
    "dataFile = 'FeatureSelection_SelectedFeatures.csv'\n",
    "path = os.path.join(dataDir, dataSubDir, dataFile)\n",
    "selected_features = pd.read_csv(path, index_col=0)"
   ]
  },
  {
   "cell_type": "code",
   "execution_count": 79,
   "id": "b964fd59",
   "metadata": {},
   "outputs": [
    {
     "data": {
      "image/png": "[encoded data removed]",
      "text/plain": [
       "<Figure size 504x288 with 1 Axes>"
      ]
     },
     "metadata": {
      "needs_background": "light"
     },
     "output_type": "display_data"
    }
   ],
   "source": [
    "#GRAPH CV SCORE VS NUMBER OF FEATURES\n",
    "\n",
    "# Plot number of features VS. cross-validation scores\n",
    "plt.figure(figsize=(7,4))\n",
    "plt.errorbar(resPD.features_used, resPD.mean_test_score, yerr=resPD.std_test_score, ecolor='gray')\n",
    "plt.plot(resPD.features_used, resPD.mean_test_score, color='k')\n",
    "plt.xlabel(\"Number of Features Used \\n in Training\", fontsize=16)\n",
    "plt.ylabel(\"Cross-Val Score \\n (ROC AUC \\n one-vs-rest \\n weighted)\", fontsize=16)\n",
    "plt.xticks(fontsize=16)\n",
    "plt.yticks(fontsize=16)\n",
    "\n",
    "#save figure\n",
    "path='FeatureSelection.png'\n",
    "plt.savefig(path, bbox_inches=\"tight\")\n",
    "\n",
    "plt.show()"
   ]
  },
  {
   "cell_type": "markdown",
   "id": "cf53dc99",
   "metadata": {},
   "source": [
    "## TRAIN REDUCED FEATURE MODELS"
   ]
  },
  {
   "cell_type": "code",
   "execution_count": 90,
   "id": "72d77a78",
   "metadata": {},
   "outputs": [
    {
     "name": "stdout",
     "output_type": "stream",
     "text": [
      "rank 01 number of features:  415\n",
      "rank <=50 number of features:  1640\n",
      "rank <=100 number of features:  2890\n"
     ]
    }
   ],
   "source": [
    "#CHOOSE THREE SUBSETS OF FEATURES\n",
    "#lowest rank for subsets = 196\n",
    "features_max_rank = selected_features.Ranking.max()\n",
    "#will use rank =1, 50, 100\n",
    "\n",
    "#make lists of features for each rank \n",
    "features_01 = selected_features.FeatureName[selected_features.Ranking == 1].tolist()\n",
    "print ('rank 01 number of features: ', len(features_01))\n",
    "features_50 = selected_features.FeatureName[selected_features.Ranking <= 50].tolist()\n",
    "print ('rank <=50 number of features: ', len(features_50))\n",
    "features_100 = selected_features.FeatureName[selected_features.Ranking <= 100].tolist()\n",
    "print ('rank <=100 number of features: ', len(features_100))"
   ]
  },
  {
   "cell_type": "code",
   "execution_count": 116,
   "id": "017afcd1",
   "metadata": {},
   "outputs": [
    {
     "name": "stdout",
     "output_type": "stream",
     "text": [
      "done in 3375.995s\n"
     ]
    }
   ],
   "source": [
    "#CROSS-VAL ON REDUCED-FEATURES MODEL\n",
    "t0 = time()\n",
    "\n",
    "cv_scores = []\n",
    "feature_lists = [features_01, features_50, features_100]\n",
    "\n",
    "#model parameters\n",
    "n_estimators=460\n",
    "max_features=50\n",
    "\n",
    "for fl in feature_lists:\n",
    "    #create RFC object\n",
    "    RFC = RandomForestClassifier(n_estimators=n_estimators, max_features=max_features, random_state=42)\n",
    "    #select features\n",
    "    train_x_subset = train_x_pd.loc[:, fl].to_numpy()\n",
    "    scores = cross_val_score(RFC, train_x_subset, train_y, cv=10, scoring='roc_auc_ovr_weighted')\n",
    "    cv_scores.append(scores)\n",
    "\n",
    "print(\"done in %0.3fs\" % (time() - t0))"
   ]
  },
  {
   "cell_type": "code",
   "execution_count": 127,
   "id": "b4ea90e8",
   "metadata": {
    "scrolled": true
   },
   "outputs": [],
   "source": [
    "#SAVE DATA\n",
    "#make df\n",
    "cv_scores_copy = cv_scores\n",
    "idx = [str(len(features_01))+'_FEATURES', str(len(features_50))+'_FEATURES', str(len(features_100))+'_FEATURES']\n",
    "col = []\n",
    "for i in np.arange(1, 11):\n",
    "    c = 'SPLIT_'+str(i)\n",
    "    col.append(c)\n",
    "\n",
    "scores_pd = pd.DataFrame (cv_scores_copy, index=idx, columns = col)\n",
    "cv_scores_pd = scores_pd.copy()\n",
    "cv_scores_pd['MEAN'] = scores_pd.mean(axis=1)\n",
    "cv_scores_pd['STD'] = scores_pd.std(axis=1)\n",
    "\n",
    "#make directory \n",
    "dataDir = 'ReducedFeatures'\n",
    "if not os.path.exists(dataDir):\n",
    "    os.mkdir(dataDir)\n",
    "\n",
    "#store imputed testing data\n",
    "filepath = os.path.join(dataDir, 'CrossVal.csv')\n",
    "cv_scores_pd.to_csv(filepath) "
   ]
  },
  {
   "cell_type": "code",
   "execution_count": 129,
   "id": "ad2b3fdb",
   "metadata": {
    "scrolled": true
   },
   "outputs": [
    {
     "data": {
      "image/png": "[encoded data removed]",
      "text/plain": [
       "<Figure size 432x216 with 1 Axes>"
      ]
     },
     "metadata": {
      "needs_background": "light"
     },
     "output_type": "display_data"
    }
   ],
   "source": [
    "#PLOT CV \n",
    "plt.figure(figsize = (6, 3))\n",
    "x = np.arange(3)\n",
    "plt.bar(x, cv_scores_pd.MEAN)\n",
    "plt.errorbar(x, cv_scores_pd.MEAN, yerr=cv_scores_pd.STD, ecolor='k')\n",
    "plt.xticks(x, cv_scores_pd.index.to_list(), fontsize=16)\n",
    "plt.yticks(fontsize=16)\n",
    "plt.show()"
   ]
  },
  {
   "cell_type": "code",
   "execution_count": 133,
   "id": "1225f6e9",
   "metadata": {},
   "outputs": [
    {
     "name": "stdout",
     "output_type": "stream",
     "text": [
      "done with model: 1\n",
      "done with model: 1\n",
      "done with model: 1\n",
      "done in 292.752s\n"
     ]
    }
   ],
   "source": [
    "#MAKE FINAL MODELS\n",
    "t0 = time()\n",
    "\n",
    "test_scores = []\n",
    "trained_models = []\n",
    "feature_lists = [features_01, features_50, features_100]\n",
    "\n",
    "#for saving results\n",
    "dataDir = 'ReducedFeatures'\n",
    "if not os.path.exists(dataDir):\n",
    "    os.mkdir(dataDir)\n",
    "    \n",
    "trained_model_paths = []\n",
    "for fl in feature_lists:\n",
    "    datafile = 'RFC_' + str(len(fl)) + '_features.joblib'\n",
    "    path = os.path.join(dataDir, datafile)\n",
    "    trained_model_paths.append(path)\n",
    "    \n",
    "#model parameters\n",
    "n_estimators=460\n",
    "max_features=50\n",
    "\n",
    "for fl, path in zip(feature_lists, trained_model_paths):\n",
    "    i = 1\n",
    "    #create RFC object\n",
    "    RFC = RandomForestClassifier(n_estimators=n_estimators, max_features=max_features, random_state=42)\n",
    "    #select features\n",
    "    train_x_subset = train_x_pd.loc[:, fl].to_numpy()\n",
    "    #train model\n",
    "    RFC.fit(train_x_subset, train_y)\n",
    "    #save model and put in list\n",
    "    dump(RFC, path)\n",
    "    trained_models.append(RFC)\n",
    "    #test model on subset of features\n",
    "    test_x_subset = test_x_pd.loc[:, fl].to_numpy()\n",
    "    roc_auc_test = roc_auc_score(test_y, RFC.predict_proba(test_x_subset), multi_class='ovr', average='weighted')\n",
    "    test_scores.append(roc_auc_test)\n",
    "    #give update\n",
    "    print('done with model: ' + str(i))\n",
    "    i = i+1\n",
    "    \n",
    "#save scores\n",
    "idx = [str(len(features_01))+'_FEATURES', str(len(features_50))+'_FEATURES', str(len(features_100))+'_FEATURES']\n",
    "test_scores_pd = pd.DataFrame(test_scores, index=idx, columns=['ROC_AUC_OVR_WEIGHTED'])\n",
    "filepath = 'TestScores.csv'\n",
    "path = os.path.join(dataDir, filepath)\n",
    "test_scores_pd.to_csv(path)\n",
    "\n",
    "print(\"done in %0.3fs\" % (time() - t0))"
   ]
  },
  {
   "cell_type": "code",
   "execution_count": 156,
   "id": "4474bb52",
   "metadata": {},
   "outputs": [
    {
     "data": {
      "image/png": "[encoded data removed]",
      "text/plain": [
       "<Figure size 432x216 with 1 Axes>"
      ]
     },
     "metadata": {
      "needs_background": "light"
     },
     "output_type": "display_data"
    }
   ],
   "source": [
    "#GRAPH ALL SCORES TOGETHER\n",
    "\n",
    "x_cv = np.arange(3)\n",
    "x_delta = 0.5\n",
    "x_test_start = len(x_cv)+x_delta\n",
    "x_test = np.arange (x_test_start, x_test_start+3)\n",
    "x=np.concatenate((x_cv, x_test))\n",
    "\n",
    "plt.figure(figsize=(6,3))\n",
    "#plot cv scores\n",
    "plt.bar(x_cv, cv_scores_pd.MEAN, label = 'Cross-Val', yerr=cv_scores_pd.STD, capsize=5)\n",
    "\n",
    "#plot test scores\n",
    "plt.bar(x_test, test_scores_pd.to_numpy().flatten(), label = 'Test')\n",
    "\n",
    "#formatting\n",
    "x_labels = [str(len(features_01)), str(len(features_50)), str(len(features_100))]*2\n",
    "plt.xticks(x, x_labels, fontsize=16)\n",
    "plt.xlabel ('Number of Features Used in Training', fontsize=16)\n",
    "\n",
    "plt.yticks(fontsize=16)\n",
    "plt.ylabel('ROC AUC \\n one-vs-rest \\n weighted', fontsize=16)\n",
    "\n",
    "plt.legend(bbox_to_anchor=(1, 1), frameon=False, fontsize=16)\n",
    "\n",
    "#save figure\n",
    "dataDir = 'ReducedFeatures'\n",
    "datafile = 'ReducedFeaturesScoring'\n",
    "path = os.path.join(dataDir, datafile)\n",
    "plt.savefig(path, bbox_inches=\"tight\")\n",
    "    \n",
    "plt.show()"
   ]
  },
  {
   "cell_type": "code",
   "execution_count": null,
   "id": "9d1425ec",
   "metadata": {},
   "outputs": [],
   "source": []
  }
 ],
 "metadata": {
  "kernelspec": {
   "display_name": "MachineLearningUVM",
   "language": "python",
   "name": "machinelearninguvm"
  },
  "language_info": {
   "codemirror_mode": {
    "name": "ipython",
    "version": 3
   },
   "file_extension": ".py",
   "mimetype": "text/x-python",
   "name": "python",
   "nbconvert_exporter": "python",
   "pygments_lexer": "ipython3",
   "version": "3.7.11"
  }
 },
 "nbformat": 4,
 "nbformat_minor": 5
}
