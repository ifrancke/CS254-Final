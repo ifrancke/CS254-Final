{
 "cells": [
  {
   "cell_type": "code",
   "execution_count": 17,
   "id": "8d4c51f7",
   "metadata": {},
   "outputs": [],
   "source": [
    "import os\n",
    "import numpy as np\n",
    "import pandas as pd\n",
    "import matplotlib.pyplot as plt\n",
    "from joblib import dump, load\n",
    "from sklearn.metrics import roc_auc_score"
   ]
  },
  {
   "cell_type": "markdown",
   "id": "5f7a4f7a",
   "metadata": {},
   "source": [
    "## Load Model and Data"
   ]
  },
  {
   "cell_type": "code",
   "execution_count": 62,
   "id": "91847761",
   "metadata": {},
   "outputs": [
    {
     "name": "stdout",
     "output_type": "stream",
     "text": [
      "(5556, 5290)\n",
      "(5556, 5290)\n",
      "(5556, 5290)\n",
      "(5556, 5290)\n",
      "(5556, 5290)\n"
     ]
    }
   ],
   "source": [
    "#LOAD IMPUTED DATASETS\n",
    "#make directory \n",
    "dataDir = 'AnalysisData'\n",
    "dataSubDir = 'ImputedData'\n",
    "\n",
    "path = os.path.join(dataDir, dataSubDir, 'SimpleImputedFeatures_01.csv')\n",
    "test_x_imp01_pd = pd.read_csv (path, index_col = 'HHX')\n",
    "test_x_imp01 = test_x_imp01_pd.to_numpy()\n",
    "print(test_x_imp01.shape)\n",
    "\n",
    "path = os.path.join(dataDir, dataSubDir, 'SimpleImputedFeatures_02.csv')\n",
    "test_x_imp02_pd = pd.read_csv (path, index_col = 'HHX')\n",
    "test_x_imp02 = test_x_imp02_pd.to_numpy()\n",
    "print(test_x_imp02.shape)\n",
    "\n",
    "path = os.path.join(dataDir, dataSubDir, 'SimpleImputedFeatures_03.csv')\n",
    "test_x_imp03_pd = pd.read_csv (path, index_col = 'HHX')\n",
    "test_x_imp03 = test_x_imp03_pd.to_numpy()\n",
    "print(test_x_imp03.shape)\n",
    "\n",
    "path = os.path.join(dataDir, dataSubDir, 'SimpleImputedFeatures_04.csv')\n",
    "test_x_imp04_pd = pd.read_csv (path, index_col = 'HHX')\n",
    "test_x_imp04 = test_x_imp04_pd.to_numpy()\n",
    "print(test_x_imp04.shape)\n",
    "\n",
    "path = os.path.join(dataDir, dataSubDir, 'SimpleImputedFeatures_05.csv')\n",
    "test_x_imp05_pd = pd.read_csv (path, index_col = 'HHX')\n",
    "test_x_imp05 = test_x_imp05_pd.to_numpy()\n",
    "print(test_x_imp05.shape)\n",
    "\n",
    "test_datasets = [test_x_imp01, test_x_imp02, test_x_imp03, test_x_imp04, test_x_imp05]\n",
    "test_datasets_pd = [test_x_imp01_pd, test_x_imp02_pd, test_x_imp03_pd, test_x_imp04_pd, test_x_imp05_pd]"
   ]
  },
  {
   "cell_type": "code",
   "execution_count": 94,
   "id": "317cc40d",
   "metadata": {},
   "outputs": [
    {
     "name": "stdout",
     "output_type": "stream",
     "text": [
      "(5556, 5290)\n",
      "(5556,)\n"
     ]
    }
   ],
   "source": [
    "#LOAD ORIGINAL DATASETS\n",
    "dataDir = 'AnalysisData'\n",
    "dataSubDir = 'CleanDataFinal'\n",
    "\n",
    "#LOAD TESTING DATA\n",
    "#features\n",
    "path = os.path.join(dataDir, dataSubDir, 'testFeaturesFinal.csv')\n",
    "test_x_pd = pd.read_csv (path, index_col = 'HHX')\n",
    "test_x = test_x_pd.to_numpy()\n",
    "print(test_x.shape)\n",
    "\n",
    "#target\n",
    "path = os.path.join(dataDir, dataSubDir, 'testTargetFinal.csv')\n",
    "test_y_pd = pd.read_csv (path, index_col = 'HHX')\n",
    "test_y = test_y_pd.to_numpy().flatten()\n",
    "print(test_y.shape)\n",
    "\n",
    "test_datasets.append(test_x)\n",
    "test_datasets_pd.append(test_x_pd)"
   ]
  },
  {
   "cell_type": "code",
   "execution_count": 67,
   "id": "553322a0",
   "metadata": {},
   "outputs": [],
   "source": [
    "#LOAD RANKING LISTS USED TO TRAIN REDUCED FEATURE MODELS\n",
    "dataDir = 'AnalysisData'\n",
    "dataSubDir = 'FeatureSelection'\n",
    "fpath = 'FeatureSelection_SelectedFeatures.csv'\n",
    "path = os.path.join(dataDir, dataSubDir, fpath)\n",
    "featureRankings = pd.read_csv (path, index_col=0)"
   ]
  },
  {
   "cell_type": "code",
   "execution_count": 50,
   "id": "0464a75e",
   "metadata": {},
   "outputs": [],
   "source": [
    "#LOAD TRAINED MODELS\n",
    "dataDir='AnalysisData'\n",
    "dataSubDir='Models'\n",
    "\n",
    "file_name='RFC_FullData.joblib'\n",
    "RFC_path = os.path.join(dataDir, dataSubDir, file_name)\n",
    "RFC_full = load(RFC_path) \n",
    "\n",
    "file_name='RFC_noGAD.joblib'\n",
    "RFC_path = os.path.join(dataDir, dataSubDir, file_name)\n",
    "RFC_noGAD = load(RFC_path) \n",
    "\n",
    "file_name='RFC_415_features.joblib'\n",
    "RFC_path = os.path.join(dataDir, dataSubDir, file_name)\n",
    "RFC_01 = load(RFC_path)\n",
    "\n",
    "file_name='RFC_1640_features.joblib'\n",
    "RFC_path = os.path.join(dataDir, dataSubDir, file_name)\n",
    "RFC_50 = load(RFC_path)\n",
    "\n",
    "file_name='RFC_2890_features.joblib'\n",
    "RFC_path = os.path.join(dataDir, dataSubDir, file_name)\n",
    "RFC_100 = load(RFC_path)"
   ]
  },
  {
   "cell_type": "code",
   "execution_count": 59,
   "id": "9d09f9e4",
   "metadata": {},
   "outputs": [],
   "source": [
    "#FUNCTION FOR TESTING MODELS\n",
    "def test_model (test_datasets_pd, test_y, model):\n",
    "    '''Tests model using ROC AUC ovr weighted metric\n",
    "    test_datasets: list of df representing testing sets\n",
    "    test_y: array representing correct testing label\n",
    "    model: trained model\n",
    "    RETURNS: list of scores'''\n",
    "    test_scores = []\n",
    "    for dset in test_datasets_pd:\n",
    "        roc_auc_test = roc_auc_score(test_y, model.predict_proba(dset), multi_class='ovr', average='weighted')\n",
    "        test_scores.append(roc_auc_test)\n",
    "    return (test_scores)"
   ]
  },
  {
   "cell_type": "code",
   "execution_count": 70,
   "id": "277a7993",
   "metadata": {},
   "outputs": [],
   "source": [
    "#FUNCTION FOR SELECTING SUBSETS OF FEATURES BASED ON RANKINGS\n",
    "def select_test_subset (featureRankings, max_rank, test_datasets_pd):\n",
    "    '''Selects testing subset based on feature rankings\n",
    "    featureRankings: df containing feature names and rankings\n",
    "    max_rank: max rank allowed for features\n",
    "    test_datasets: list of df representing testing sets\n",
    "    RETURNS: list of arrays containing testing subsets '''\n",
    "    subsets = []\n",
    "    for dset in test_datasets_pd:\n",
    "        cols = featureRankings.FeatureName[featureRankings.Ranking<=max_rank]\n",
    "        subset = dset.loc[:, cols]\n",
    "        subset = subset.to_numpy()\n",
    "        subsets.append(subset)\n",
    "    return (subsets)"
   ]
  },
  {
   "cell_type": "code",
   "execution_count": 95,
   "id": "38bf1e39",
   "metadata": {},
   "outputs": [],
   "source": [
    "#TEST MODELS ON REAL AND IMPUTED DATA\n",
    "\n",
    "#list to hold all test scores\n",
    "scores = []\n",
    "\n",
    "#model: full dataset\n",
    "test_list = test_datasets\n",
    "model = RFC_full\n",
    "model_scores = test_model(test_list, test_y, model)\n",
    "scores.append(model_scores)\n",
    "\n",
    "#model: no GAD\n",
    "model = RFC_noGAD\n",
    "#take out GAD features\n",
    "test_list = []\n",
    "cols_GAD = test_x_pd.columns[test_x_pd.columns.str.contains('GAD')]\n",
    "for dset in test_datasets_pd:\n",
    "    subset = dset.drop(columns=cols_GAD)\n",
    "    subset = subset.to_numpy()\n",
    "    test_list.append(subset)\n",
    "\n",
    "model_scores = test_model(test_list, test_y, model)\n",
    "scores.append(model_scores)\n",
    "\n",
    "#model: reduced features\n",
    "models = [RFC_100, RFC_50, RFC_01]\n",
    "ranks = [100, 50, 1]\n",
    "for m, r in zip (models, ranks):\n",
    "    test_list = select_test_subset(featureRankings, r, test_datasets_pd)\n",
    "    model_scores = test_model(test_list, test_y, m)\n",
    "    ≈.append(model_scores)"
   ]
  },
  {
   "cell_type": "code",
   "execution_count": 99,
   "id": "c78a8c40",
   "metadata": {},
   "outputs": [],
   "source": [
    "#MAKE SCORES DF\n",
    "#make df\n",
    "cols = []\n",
    "for i in np.arange(1, 6):\n",
    "    c = 'IMP_DSET_' + str(i)\n",
    "    cols.append(c)\n",
    "cols.append ('ORIGINAL')\n",
    "\n",
    "idx = ['FULL', 'NO GAD', '1640_FEATURES', '2890_FEATURES', '415_FEATURES']\n",
    "scores_df = pd.DataFrame(scores, columns=cols, index=idx)\n",
    "#add basic stats\n",
    "scores_imp = scores_df.drop(columns=['ORIGINAL'])\n",
    "scores_df['IMP_MEAN']=scores_imp.mean(axis=1)\n",
    "scores_df['IMP_STD']=scores_imp.std(axis=1)\n",
    "#save data\n",
    "path = 'ImpTest.csv'\n",
    "scores_df.to_csv(path)"
   ]
  },
  {
   "cell_type": "code",
   "execution_count": 113,
   "id": "160e0557",
   "metadata": {},
   "outputs": [
    {
     "data": {
      "image/png": "[encoded data removed]",
      "text/plain": [
       "<Figure size 432x216 with 1 Axes>"
      ]
     },
     "metadata": {
      "needs_background": "light"
     },
     "output_type": "display_data"
    }
   ],
   "source": [
    "#GRAPH SCORES\n",
    "\n",
    "plt.figure(figsize=(6,3))\n",
    "\n",
    "ximp = np.arange(0, 10, 2)\n",
    "xorig = ximp+0.82\n",
    "plt.bar(x, scores_df.IMP_MEAN, yerr=scores_df.IMP_STD, capsize=5, label = 'Imputed Data')\n",
    "plt.bar(xorig, scores_df.ORIGINAL, label = 'Original Data')\n",
    "\n",
    "idx = ['Full', 'No GAD', '1640\\n features', '2890 \\n features', '415 \\n features']\n",
    "plt.xticks((x+xorig)/2, idx, fontsize=14)\n",
    "plt.xlabel ('Dataset Used in Training', fontsize=16)\n",
    "\n",
    "plt.yticks(fontsize=16)\n",
    "plt.ylabel('ROC AUC \\n one-vs-rest \\n weighted', fontsize=16)\n",
    "\n",
    "plt.legend(bbox_to_anchor=(1, 1), frameon=False, fontsize=16)\n",
    "\n",
    "datafile = 'ImpTesting.png'\n",
    "path = os.path.join(datafile)\n",
    "plt.savefig(path, bbox_inches=\"tight\")\n",
    "    \n",
    "plt.show()"
   ]
  },
  {
   "cell_type": "code",
   "execution_count": null,
   "id": "5cdbfd1a",
   "metadata": {},
   "outputs": [],
   "source": []
  }
 ],
 "metadata": {
  "kernelspec": {
   "display_name": "Python [conda env:MachineLearningUVM] *",
   "language": "python",
   "name": "conda-env-MachineLearningUVM-py"
  },
  "language_info": {
   "codemirror_mode": {
    "name": "ipython",
    "version": 3
   },
   "file_extension": ".py",
   "mimetype": "text/x-python",
   "name": "python",
   "nbconvert_exporter": "python",
   "pygments_lexer": "ipython3",
   "version": "3.7.11"
  }
 },
 "nbformat": 4,
 "nbformat_minor": 5
}
