{
 "cells": [
  {
   "cell_type": "code",
   "execution_count": 33,
   "id": "f2301d72",
   "metadata": {},
   "outputs": [],
   "source": [
    "import matplotlib.pyplot as plt\n",
    "import os\n",
    "import numpy as np\n",
    "import pandas as pd\n",
    "from joblib import dump, load\n",
    "from time import time\n",
    "from sklearn.feature_selection import RFECV\n",
    "from sklearn.inspection import permutation_importance\n",
    "from sklearn.model_selection import cross_val_score\n",
    "from sklearn.linear_model import LogisticRegression\n",
    "from sklearn.metrics import roc_auc_score\n",
    "import json"
   ]
  },
  {
   "cell_type": "markdown",
   "id": "50e09e16",
   "metadata": {},
   "source": [
    "## LOAD FILES"
   ]
  },
  {
   "cell_type": "code",
   "execution_count": 7,
   "id": "e1b37c51",
   "metadata": {},
   "outputs": [],
   "source": [
    "#LOAD MODEL\n",
    "\n",
    "logreg = load('Logreg.joblib')"
   ]
  },
  {
   "cell_type": "code",
   "execution_count": 8,
   "id": "f22a866d",
   "metadata": {},
   "outputs": [
    {
     "name": "stdout",
     "output_type": "stream",
     "text": [
      "(22222, 5290)\n",
      "(22222,)\n",
      "(5556, 5290)\n",
      "(5556,)\n"
     ]
    }
   ],
   "source": [
    "#LOAD DATA\n",
    "dataDir = 'CleanDataFinal'\n",
    "\n",
    "#LOAD TRAINING DATA\n",
    "#features\n",
    "path = os.path.join(dataDir, 'trainFeaturesFinal.csv')\n",
    "train_x_pd = pd.read_csv (path, index_col = 'HHX')\n",
    "train_x = train_x_pd.to_numpy()\n",
    "print(train_x.shape)\n",
    "\n",
    "#target\n",
    "path = os.path.join(dataDir, 'trainTargetFinal.csv')\n",
    "train_y_pd = pd.read_csv (path, index_col = 'HHX')\n",
    "train_y = train_y_pd.to_numpy().flatten()\n",
    "print(train_y.shape)\n",
    "\n",
    "#LOAD TESTING DATA\n",
    "#features\n",
    "path = os.path.join(dataDir, 'testFeaturesFinal.csv')\n",
    "test_x_pd = pd.read_csv (path, index_col = 'HHX')\n",
    "test_x = test_x_pd.to_numpy()\n",
    "print(test_x.shape)\n",
    "\n",
    "#target\n",
    "path = os.path.join(dataDir, 'testTargetFinal.csv')\n",
    "test_y_pd = pd.read_csv (path, index_col = 'HHX')\n",
    "test_y = test_y_pd.to_numpy().flatten()\n",
    "print(test_y.shape)"
   ]
  },
  {
   "cell_type": "markdown",
   "id": "2eb9682c",
   "metadata": {},
   "source": [
    "## FEATURE IMPORTANCE USING PERMUTATION IMPORTANCE ALGORITHM"
   ]
  },
  {
   "cell_type": "code",
   "execution_count": 8,
   "id": "26f5adb5",
   "metadata": {},
   "outputs": [
    {
     "name": "stderr",
     "output_type": "stream",
     "text": [
      "C:\\Users\\Isabelle\\AppData\\Local\\Packages\\PythonSoftwareFoundation.Python.3.9_qbz5n2kfra8p0\\LocalCache\\local-packages\\Python39\\site-packages\\sklearn\\base.py:450: UserWarning: X does not have valid feature names, but LogisticRegression was fitted with feature names\n",
      "  warnings.warn(\n"
     ]
    },
    {
     "name": "stdout",
     "output_type": "stream",
     "text": [
      "Elapsed time to compute the importances: 3157.976 seconds\n"
     ]
    }
   ],
   "source": [
    "#adapted from https://scikit-learn.org/stable/auto_examples/ensemble/plot_forest_importances.html\n",
    "\n",
    "start_time = time()\n",
    "result = permutation_importance(\n",
    "    logreg, test_x, test_y, n_repeats=10, random_state=42, n_jobs=2, scoring='roc_auc_ovr_weighted')\n",
    "elapsed_time = time() - start_time\n",
    "print(f\"Elapsed time to compute the importances: {elapsed_time:.3f} seconds\")"
   ]
  },
  {
   "cell_type": "code",
   "execution_count": 60,
   "id": "7e0f70e3",
   "metadata": {},
   "outputs": [
    {
     "data": {
      "text/html": [
       "<div>\n",
       "<style scoped>\n",
       "    .dataframe tbody tr th:only-of-type {\n",
       "        vertical-align: middle;\n",
       "    }\n",
       "\n",
       "    .dataframe tbody tr th {\n",
       "        vertical-align: top;\n",
       "    }\n",
       "\n",
       "    .dataframe thead th {\n",
       "        text-align: right;\n",
       "    }\n",
       "</style>\n",
       "<table border=\"1\" class=\"dataframe\">\n",
       "  <thead>\n",
       "    <tr style=\"text-align: right;\">\n",
       "      <th></th>\n",
       "      <th>Feature Name</th>\n",
       "      <th>Importance</th>\n",
       "    </tr>\n",
       "  </thead>\n",
       "  <tbody>\n",
       "    <tr>\n",
       "      <th>4006</th>\n",
       "      <td>DEPLEVEL_A_10.0</td>\n",
       "      <td>0.013338</td>\n",
       "    </tr>\n",
       "    <tr>\n",
       "      <th>23</th>\n",
       "      <td>GAD76_A</td>\n",
       "      <td>0.012441</td>\n",
       "    </tr>\n",
       "    <tr>\n",
       "      <th>25</th>\n",
       "      <td>GAD74_A</td>\n",
       "      <td>0.009197</td>\n",
       "    </tr>\n",
       "    <tr>\n",
       "      <th>28</th>\n",
       "      <td>GAD71_A</td>\n",
       "      <td>0.008912</td>\n",
       "    </tr>\n",
       "    <tr>\n",
       "      <th>39</th>\n",
       "      <td>PHSTAT_A</td>\n",
       "      <td>0.007185</td>\n",
       "    </tr>\n",
       "    <tr>\n",
       "      <th>26</th>\n",
       "      <td>GAD73_A</td>\n",
       "      <td>0.007075</td>\n",
       "    </tr>\n",
       "    <tr>\n",
       "      <th>4023</th>\n",
       "      <td>ANXLEVEL_A_10.0</td>\n",
       "      <td>0.006024</td>\n",
       "    </tr>\n",
       "    <tr>\n",
       "      <th>27</th>\n",
       "      <td>GAD72_A</td>\n",
       "      <td>0.005397</td>\n",
       "    </tr>\n",
       "    <tr>\n",
       "      <th>264</th>\n",
       "      <td>COGTYPEDFF_A_10.0</td>\n",
       "      <td>0.003487</td>\n",
       "    </tr>\n",
       "    <tr>\n",
       "      <th>4015</th>\n",
       "      <td>DEPFREQ_A_5</td>\n",
       "      <td>0.003161</td>\n",
       "    </tr>\n",
       "    <tr>\n",
       "      <th>4000</th>\n",
       "      <td>MHRX_A_10.0</td>\n",
       "      <td>0.002873</td>\n",
       "    </tr>\n",
       "    <tr>\n",
       "      <th>1282</th>\n",
       "      <td>COVER65_A_1.0</td>\n",
       "      <td>0.002419</td>\n",
       "    </tr>\n",
       "    <tr>\n",
       "      <th>21</th>\n",
       "      <td>PAIFRQ3M_A</td>\n",
       "      <td>0.002370</td>\n",
       "    </tr>\n",
       "    <tr>\n",
       "      <th>2725</th>\n",
       "      <td>PARSTAT_A_3</td>\n",
       "      <td>0.002105</td>\n",
       "    </tr>\n",
       "    <tr>\n",
       "      <th>24</th>\n",
       "      <td>GAD75_A</td>\n",
       "      <td>0.001959</td>\n",
       "    </tr>\n",
       "    <tr>\n",
       "      <th>470</th>\n",
       "      <td>PLN1PAY5_A_2.0</td>\n",
       "      <td>0.001851</td>\n",
       "    </tr>\n",
       "    <tr>\n",
       "      <th>1290</th>\n",
       "      <td>COVER_A_1.0</td>\n",
       "      <td>0.001737</td>\n",
       "    </tr>\n",
       "    <tr>\n",
       "      <th>429</th>\n",
       "      <td>PLN1PAY1_A_1.0</td>\n",
       "      <td>0.001723</td>\n",
       "    </tr>\n",
       "    <tr>\n",
       "      <th>287</th>\n",
       "      <td>HIKIND02_A_1</td>\n",
       "      <td>0.001707</td>\n",
       "    </tr>\n",
       "    <tr>\n",
       "      <th>4028</th>\n",
       "      <td>ANXFREQ_A_1</td>\n",
       "      <td>0.001653</td>\n",
       "    </tr>\n",
       "  </tbody>\n",
       "</table>\n",
       "</div>"
      ],
      "text/plain": [
       "           Feature Name  Importance\n",
       "4006    DEPLEVEL_A_10.0    0.013338\n",
       "23              GAD76_A    0.012441\n",
       "25              GAD74_A    0.009197\n",
       "28              GAD71_A    0.008912\n",
       "39             PHSTAT_A    0.007185\n",
       "26              GAD73_A    0.007075\n",
       "4023    ANXLEVEL_A_10.0    0.006024\n",
       "27              GAD72_A    0.005397\n",
       "264   COGTYPEDFF_A_10.0    0.003487\n",
       "4015        DEPFREQ_A_5    0.003161\n",
       "4000        MHRX_A_10.0    0.002873\n",
       "1282      COVER65_A_1.0    0.002419\n",
       "21           PAIFRQ3M_A    0.002370\n",
       "2725        PARSTAT_A_3    0.002105\n",
       "24              GAD75_A    0.001959\n",
       "470      PLN1PAY5_A_2.0    0.001851\n",
       "1290        COVER_A_1.0    0.001737\n",
       "429      PLN1PAY1_A_1.0    0.001723\n",
       "287        HIKIND02_A_1    0.001707\n",
       "4028        ANXFREQ_A_1    0.001653"
      ]
     },
     "execution_count": 60,
     "metadata": {},
     "output_type": "execute_result"
    }
   ],
   "source": [
    "#plot top feature importance\n",
    "forest_importances = pd.read_csv('FeatureImportanceFullData.csv')\n",
    "forest_importances.columns = ['Feature Name', 'Importance']\n",
    "forest_importances = forest_importances.sort_values(by='Importance', ascending=False)\n",
    "\n",
    "forest_importances[0:20]"
   ]
  },
  {
   "cell_type": "code",
   "execution_count": 61,
   "id": "81818918",
   "metadata": {},
   "outputs": [
    {
     "data": {
      "image/png": "[encoded data removed]",
      "text/plain": [
       "<Figure size 432x288 with 1 Axes>"
      ]
     },
     "metadata": {
      "needs_background": "light"
     },
     "output_type": "display_data"
    }
   ],
   "source": [
    "#plot top feature importance\n",
    "\n",
    "#sort data\n",
    "forest_importances = forest_importances.sort_values(by='Importance',ascending=False)\n",
    "#grab top few features\n",
    "num_features = 20\n",
    "top_features = forest_importances.iloc[:num_features]\n",
    "\n",
    "#plot top features\n",
    "fig, ax = plt.subplots(figsize=(6, 4))\n",
    "top_features.plot.bar(ax=ax, fontsize=14)\n",
    "ax.set_ylabel(\"Mean ROC AUC decrease \\n (one-vs-rest \\n weighted)\", fontsize=14)\n",
    "plt.xticks(np.arange(num_features), top_features['Feature Name'])\n",
    "fig.tight_layout()\n",
    "\n",
    "#save figure\n",
    "path='FullData_FeatureImportance.png'\n",
    "plt.savefig(path, bbox_inches=\"tight\")\n",
    "\n",
    "plt.show()"
   ]
  },
  {
   "cell_type": "markdown",
   "id": "1aa2a8e4",
   "metadata": {},
   "source": [
    "## FEATURE SELECTION USING RECURSIVE FEATURE SELECTION"
   ]
  },
  {
   "cell_type": "code",
   "execution_count": 18,
   "id": "6beb079e",
   "metadata": {},
   "outputs": [
    {
     "name": "stdout",
     "output_type": "stream",
     "text": [
      "Optimal number of features : 1390\n",
      "Elapsed time to select features: 30861.591 seconds\n"
     ]
    }
   ],
   "source": [
    "#RUN FEATURE SELECTION ON FULL DATASET\n",
    "#Adapted from https://scikit-learn.org/stable/auto_examples/feature_selection/plot_rfe_with_cross_validation.html#sphx-glr-auto-examples-feature-selection-plot-rfe-with-cross-validation-py\n",
    "\n",
    "# Create the RFE object and compute a cross-validated score.\n",
    "# Using same parameters as best Full data model \n",
    "## Wasn't seeing huge changes in scores for the different models\n",
    "start_time = time()\n",
    "\n",
    "step=20\n",
    "min_features_to_select = 1  # Minimum number of features to consider\n",
    "rfecv = RFECV(\n",
    "    estimator=logreg,\n",
    "    step=100,\n",
    "    scoring=\"roc_auc_ovr_weighted\",\n",
    "    min_features_to_select=1\n",
    ")\n",
    "\n",
    "rfecv.fit(train_x, train_y)\n",
    "\n",
    "print(\"Optimal number of features : %d\" % rfecv.n_features_)\n",
    "elapsed_time = time() - start_time\n",
    "print(f\"Elapsed time to select features: {elapsed_time:.3f} seconds\")"
   ]
  },
  {
   "cell_type": "code",
   "execution_count": 19,
   "id": "6093d5c9",
   "metadata": {},
   "outputs": [],
   "source": [
    "#SAVE DATA \n",
    "resPD = pd.DataFrame(rfecv.cv_results_)\n",
    "\n",
    "features_max = train_x.shape[1]\n",
    "features_min = features_max-(len(resPD)-1)*step\n",
    "features_used = np.linspace(features_max, features_min, len(resPD))\n",
    "resPD['features_used'] = features_used\n",
    "\n",
    "dataDir = 'FeatureSelection'\n",
    "\n",
    "if not os.path.exists(dataDir):\n",
    "    os.makedirs(dataDir)\n",
    "\n",
    "dataFile = 'FeatureSelection_cv_results.csv'\n",
    "path = os.path.join(dataDir, dataFile)\n",
    "\n",
    "resPD.to_csv(path)\n",
    "\n",
    "selected_features = pd.DataFrame(rfecv.ranking_, columns=['Ranking'])\n",
    "selected_features['FeatureName'] = train_x_pd.columns.to_list()\n",
    "\n",
    "dataFile = 'FeatureSelection_SelectedFeatures.csv'\n",
    "path = os.path.join(dataDir, dataFile)\n",
    "\n",
    "selected_features.to_csv(path)"
   ]
  },
  {
   "cell_type": "code",
   "execution_count": 20,
   "id": "411afe1c",
   "metadata": {},
   "outputs": [],
   "source": [
    "#LOAD DATA \n",
    "\n",
    "dataDir = 'FeatureSelection'\n",
    "\n",
    "dataFile = 'FeatureSelection_cv_results.csv'\n",
    "path = os.path.join(dataDir, dataFile)\n",
    "resPD = pd.read_csv(path, index_col=0)\n",
    "\n",
    "dataFile = 'FeatureSelection_SelectedFeatures.csv'\n",
    "path = os.path.join(dataDir, dataFile)\n",
    "selected_features = pd.read_csv(path, index_col=0)"
   ]
  },
  {
   "cell_type": "code",
   "execution_count": 21,
   "id": "7cea7363",
   "metadata": {},
   "outputs": [
    {
     "data": {
      "image/png": "[encoded data removed]",
      "text/plain": [
       "<Figure size 432x288 with 1 Axes>"
      ]
     },
     "metadata": {
      "needs_background": "light"
     },
     "output_type": "display_data"
    }
   ],
   "source": [
    "#GRAPH CV SCORE VS NUMBER OF FEATURES\n",
    "\n",
    "# Plot number of features VS. cross-validation scores\n",
    "plt.plot(resPD.features_used, resPD.mean_test_score)\n",
    "plt.errorbar(resPD.features_used, resPD.mean_test_score, yerr=resPD.std_test_score, capsize=5, markeredgewidth=1, color='k')\n",
    "plt.xlabel(\"Number of Features Selected\", fontsize=16)\n",
    "plt.ylabel(\"Cross-Val Score \\n (ROC AUC \\n one-vs-rest \\n weighted)\", fontsize=16)\n",
    "plt.xticks(fontsize=16)\n",
    "plt.yticks(fontsize=16)\n",
    "\n",
    "#save figure\n",
    "path='FeatureSelection.png'\n",
    "plt.savefig(path, bbox_inches=\"tight\")\n",
    "\n",
    "plt.show()"
   ]
  },
  {
   "cell_type": "code",
   "execution_count": 28,
   "id": "8e572161",
   "metadata": {},
   "outputs": [
    {
     "name": "stdout",
     "output_type": "stream",
     "text": [
      "rank 01 number of features:  1390\n",
      "rank <=10 number of features:  2290\n",
      "rank <=100 number of features:  5290\n"
     ]
    }
   ],
   "source": [
    "#CHOOSE THREE SUBSETS OF FEATURES\n",
    "#lowest rank for subsets = 196\n",
    "features_max_rank = selected_features.Ranking.max()\n",
    "#will use rank =1, 50, 100\n",
    "\n",
    "#make lists of features for each rank \n",
    "features_01 = selected_features.FeatureName[selected_features.Ranking == 1].tolist()\n",
    "print ('rank 01 number of features: ', len(features_01))\n",
    "features_10 = selected_features.FeatureName[selected_features.Ranking <= 10].tolist()\n",
    "print ('rank <=10 number of features: ', len(features_10))\n",
    "features_50 = selected_features.FeatureName[selected_features.Ranking <= 50].tolist()\n",
    "print ('rank <=100 number of features: ', len(features_50))"
   ]
  },
  {
   "cell_type": "code",
   "execution_count": 49,
   "id": "e8e8c018",
   "metadata": {},
   "outputs": [
    {
     "name": "stdout",
     "output_type": "stream",
     "text": [
      "done with model: 1\n",
      "done with model: 2\n",
      "done in 755.788s\n"
     ]
    }
   ],
   "source": [
    "#MAKE FINAL MODELS\n",
    "t0 = time()\n",
    "\n",
    "test_scores = []\n",
    "trained_models = []\n",
    "feature_lists = [features_01, features_10]\n",
    "\n",
    "#for saving results\n",
    "dataDir = 'ReducedFeatures'\n",
    "if not os.path.exists(dataDir):\n",
    "    os.mkdir(dataDir)\n",
    "    \n",
    "trained_model_paths = []\n",
    "for fl in feature_lists:\n",
    "    datafile = 'logreg_' + str(len(fl)) + '_features.joblib'\n",
    "    path = os.path.join(dataDir, datafile)\n",
    "    trained_model_paths.append(path)\n",
    "    \n",
    "i = 1\n",
    "for fl, path in zip(feature_lists, trained_model_paths):\n",
    "    #create RFC object\n",
    "    logreg_rf =  LogisticRegression(penalty=\"l2\", solver='newton-cg')\n",
    "    #select features\n",
    "    train_x_subset = train_x_pd.loc[:, fl].to_numpy()\n",
    "    #train model\n",
    "    logreg_rf.fit(train_x_subset, train_y)\n",
    "    #save model and put in list\n",
    "    dump(logreg_rf, path)\n",
    "    trained_models.append(logreg_rf)\n",
    "    #test model on subset of features\n",
    "    test_x_subset = test_x_pd.loc[:, fl].to_numpy()\n",
    "    roc_auc_test = roc_auc_score(test_y, logreg_rf.predict_proba(test_x_subset), multi_class='ovr', average='weighted')\n",
    "    test_scores.append(roc_auc_test)\n",
    "    #give update\n",
    "    print('done with model: ' + str(i))\n",
    "    i = i+1\n",
    "    \n",
    "#save scores\n",
    "idx = [str(len(features_01))+'_FEATURES', str(len(features_10))+'_FEATURES']\n",
    "test_scores_pd = pd.DataFrame(test_scores, index=idx, columns=['ROC_AUC_OVR_WEIGHTED'])\n",
    "filepath = 'TestScores.csv'\n",
    "path = os.path.join(dataDir, filepath)\n",
    "test_scores_pd.to_csv(path)\n",
    "\n",
    "print(\"done in %0.3fs\" % (time() - t0))"
   ]
  },
  {
   "cell_type": "code",
   "execution_count": 53,
   "id": "fa1cb24a",
   "metadata": {},
   "outputs": [
    {
     "data": {
      "image/png": "[encoded data removed]",
      "text/plain": [
       "<Figure size 432x144 with 1 Axes>"
      ]
     },
     "metadata": {
      "needs_background": "light"
     },
     "output_type": "display_data"
    }
   ],
   "source": [
    "\n",
    "#PLOT CV \n",
    "plt.figure(figsize = (6, 2))\n",
    "x = np.arange(2)\n",
    "plt.bar(x, test_scores)\n",
    "plt.xticks(x, test_scores_pd.index.to_list(), fontsize=12)\n",
    "plt.yticks(np.arange(0, 1.1, step=0.1), fontsize=12)\n",
    "plt.ylabel(\"Weighted ROC AUC\")\n",
    "plt.show()"
   ]
  }
 ],
 "metadata": {
  "interpreter": {
   "hash": "ce41f766f1cfde41d866005e51038629e9285b3484a0b5c8b00bfb8f179a8ecd"
  },
  "kernelspec": {
   "display_name": "MachineLearningUVM",
   "language": "python",
   "name": "python3"
  },
  "language_info": {
   "codemirror_mode": {
    "name": "ipython",
    "version": 3
   },
   "file_extension": ".py",
   "mimetype": "text/x-python",
   "name": "python",
   "nbconvert_exporter": "python",
   "pygments_lexer": "ipython3",
   "version": "3.9.12"
  }
 },
 "nbformat": 4,
 "nbformat_minor": 5
}
