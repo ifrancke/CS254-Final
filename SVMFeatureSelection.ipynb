{
 "cells": [
  {
   "cell_type": "code",
   "execution_count": 1,
   "id": "2e016ae0",
   "metadata": {},
   "outputs": [],
   "source": [
    "import numpy as np\n",
    "import pandas as pd\n",
    "from sklearn.preprocessing import OneHotEncoder\n",
    "from sklearn.model_selection import train_test_split\n",
    "from sklearn.preprocessing import Normalizer\n",
    "import os"
   ]
  },
  {
   "cell_type": "code",
   "execution_count": 2,
   "id": "18b6085b",
   "metadata": {},
   "outputs": [
    {
     "name": "stdout",
     "output_type": "stream",
     "text": [
      "trainX shape: (22222, 5290)\n",
      "trainY shape: (22222, 1)\n",
      "testX shape: (5556, 5290)\n",
      "testY shape: (5556, 1)\n"
     ]
    }
   ],
   "source": [
    "#TEST TO MAKE SURE DATA CAN BE READ\n",
    "dataDir = 'CleanDataFinal'\n",
    "\n",
    "filepath = os.path.join(dataDir, 'trainFeaturesFinal.csv')\n",
    "data_features = pd.read_csv (filepath, index_col = 'HHX')\n",
    "print('trainX shape:', data_features.shape)\n",
    "\n",
    "filepath = os.path.join(dataDir, 'trainTargetFinal.csv')\n",
    "data_target = pd.read_csv (filepath, index_col = 'HHX')\n",
    "print('trainY shape:', data_target.shape)\n",
    "\n",
    "filepath = os.path.join(dataDir, 'testFeaturesFinal.csv')\n",
    "data_features_test = pd.read_csv (filepath, index_col = 'HHX')\n",
    "print('testX shape:', data_features_test.shape)\n",
    "\n",
    "filepath = os.path.join(dataDir, 'testTargetFinal.csv')\n",
    "data_targe_test = pd.read_csv (filepath, index_col = 'HHX')\n",
    "print('testY shape:', data_targe_test.shape)"
   ]
  },
  {
   "cell_type": "code",
   "execution_count": 3,
   "id": "0ea6b8a3",
   "metadata": {},
   "outputs": [],
   "source": [
    "# Import data\n",
    "data_train_features = data_features.dropna(axis=1)\n",
    "data_train_target = data_target.dropna(axis=1)\n",
    "\n",
    "\n",
    "data_test_features = data_features_test.dropna(axis=1)\n",
    "data_test_targe = data_targe_test.dropna(axis=1)\n",
    "\n",
    "\n",
    "\n",
    "Y_train = data_train_target.loc[:,'PHQCAT_A'].to_numpy()\n",
    "X_train = data_train_features.to_numpy()\n",
    "\n",
    "\n",
    "Y_test = data_test_targe.loc[:,'PHQCAT_A'].to_numpy()\n",
    "X_test = data_test_features.to_numpy()"
   ]
  },
  {
   "cell_type": "code",
   "execution_count": 4,
   "id": "2073ef36",
   "metadata": {},
   "outputs": [
    {
     "data": {
      "text/plain": [
       "(22222, 5290)"
      ]
     },
     "execution_count": 4,
     "metadata": {},
     "output_type": "execute_result"
    }
   ],
   "source": [
    "X_train.shape"
   ]
  },
  {
   "cell_type": "code",
   "execution_count": 5,
   "id": "301c2e8d",
   "metadata": {},
   "outputs": [],
   "source": [
    "import sklearn\n",
    "from sklearn.svm import SVC\n",
    "from sklearn.metrics import classification_report\n",
    "from sklearn.metrics import roc_auc_score, make_scorer, roc_curve\n",
    "from sklearn.model_selection import cross_val_score\n",
    "from sklearn.kernel_approximation import Nystroem\n",
    "import matplotlib.pyplot as plt\n",
    "\n",
    "from yellowbrick.classifier import ROCAUC\n",
    "\n",
    "model = SVC(C=20,class_weight='balanced',decision_function_shape='ovr',probability=True, cache_size=2000)\n",
    "feature_map_nystroem = Nystroem(gamma=.2,random_state=1,n_components=100)\n",
    "X_train = feature_map_nystroem.fit_transform(X_train)\n",
    "X_test = feature_map_nystroem.transform(X_test)"
   ]
  },
  {
   "cell_type": "code",
   "execution_count": 6,
   "id": "f8896a2f",
   "metadata": {},
   "outputs": [
    {
     "data": {
      "text/plain": [
       "(22222, 100)"
      ]
     },
     "execution_count": 6,
     "metadata": {},
     "output_type": "execute_result"
    }
   ],
   "source": [
    "X_train.shape"
   ]
  },
  {
   "cell_type": "code",
   "execution_count": 7,
   "id": "369c9ba7",
   "metadata": {},
   "outputs": [
    {
     "data": {
      "text/plain": [
       "SVC(C=20, cache_size=2000, probability=True)"
      ]
     },
     "execution_count": 7,
     "metadata": {},
     "output_type": "execute_result"
    }
   ],
   "source": [
    "# Setting up the model\n",
    "model = SVC(C=20,probability=True, cache_size=2000)\n",
    "model.fit(X_train, np.ravel(Y_train))"
   ]
  },
  {
   "cell_type": "code",
   "execution_count": 15,
   "id": "2a633b03",
   "metadata": {},
   "outputs": [
    {
     "name": "stdout",
     "output_type": "stream",
     "text": [
      "Fitting 5 folds for each of 4 candidates, totalling 20 fits\n",
      "[CV 1/5] END C=0.1, cache_size=4000, class_weight=balanced, decision_function_shape=ovr, probability=True;, score=0.812 total time= 5.2min\n",
      "[CV 2/5] END C=0.1, cache_size=4000, class_weight=balanced, decision_function_shape=ovr, probability=True;, score=0.813 total time= 5.2min\n",
      "[CV 3/5] END C=0.1, cache_size=4000, class_weight=balanced, decision_function_shape=ovr, probability=True;, score=0.811 total time= 5.2min\n",
      "[CV 4/5] END C=0.1, cache_size=4000, class_weight=balanced, decision_function_shape=ovr, probability=True;, score=0.040 total time= 5.2min\n",
      "[CV 5/5] END C=0.1, cache_size=4000, class_weight=balanced, decision_function_shape=ovr, probability=True;, score=0.813 total time= 5.3min\n",
      "[CV 1/5] END C=1, cache_size=4000, class_weight=balanced, decision_function_shape=ovr, probability=True;, score=0.816 total time= 5.3min\n",
      "[CV 2/5] END C=1, cache_size=4000, class_weight=balanced, decision_function_shape=ovr, probability=True;, score=0.816 total time= 5.2min\n",
      "[CV 3/5] END C=1, cache_size=4000, class_weight=balanced, decision_function_shape=ovr, probability=True;, score=0.816 total time= 5.2min\n",
      "[CV 4/5] END C=1, cache_size=4000, class_weight=balanced, decision_function_shape=ovr, probability=True;, score=0.043 total time= 5.2min\n",
      "[CV 5/5] END C=1, cache_size=4000, class_weight=balanced, decision_function_shape=ovr, probability=True;, score=0.029 total time= 5.2min\n",
      "[CV 1/5] END C=10, cache_size=4000, class_weight=balanced, decision_function_shape=ovr, probability=True;, score=0.816 total time= 5.2min\n",
      "[CV 2/5] END C=10, cache_size=4000, class_weight=balanced, decision_function_shape=ovr, probability=True;, score=0.816 total time= 5.2min\n",
      "[CV 3/5] END C=10, cache_size=4000, class_weight=balanced, decision_function_shape=ovr, probability=True;, score=0.816 total time= 5.2min\n",
      "[CV 4/5] END C=10, cache_size=4000, class_weight=balanced, decision_function_shape=ovr, probability=True;, score=0.043 total time= 5.2min\n",
      "[CV 5/5] END C=10, cache_size=4000, class_weight=balanced, decision_function_shape=ovr, probability=True;, score=0.029 total time= 5.2min\n",
      "[CV 1/5] END C=20, cache_size=4000, class_weight=balanced, decision_function_shape=ovr, probability=True;, score=0.816 total time= 5.2min\n",
      "[CV 2/5] END C=20, cache_size=4000, class_weight=balanced, decision_function_shape=ovr, probability=True;, score=0.816 total time= 5.2min\n",
      "[CV 3/5] END C=20, cache_size=4000, class_weight=balanced, decision_function_shape=ovr, probability=True;, score=0.816 total time= 5.2min\n",
      "[CV 4/5] END C=20, cache_size=4000, class_weight=balanced, decision_function_shape=ovr, probability=True;, score=0.043 total time= 5.2min\n",
      "[CV 5/5] END C=20, cache_size=4000, class_weight=balanced, decision_function_shape=ovr, probability=True;, score=0.029 total time= 5.2min\n",
      "{'C': 0.1, 'cache_size': 4000, 'class_weight': 'balanced', 'decision_function_shape': 'ovr', 'probability': True}\n",
      "SVC(C=0.1, cache_size=4000, class_weight='balanced', probability=True)\n",
      "              precision    recall  f1-score   support\n",
      "\n",
      "           1       0.00      0.00      0.00      4562\n",
      "           2       0.11      1.00      0.21       637\n",
      "           3       0.00      0.00      0.00       220\n",
      "           4       0.00      0.00      0.00       137\n",
      "\n",
      "    accuracy                           0.11      5556\n",
      "   macro avg       0.03      0.25      0.05      5556\n",
      "weighted avg       0.01      0.11      0.02      5556\n",
      "\n"
     ]
    },
    {
     "name": "stderr",
     "output_type": "stream",
     "text": [
      "/home/mayanze/anaconda3/lib/python3.8/site-packages/sklearn/metrics/_classification.py:1318: UndefinedMetricWarning: Precision and F-score are ill-defined and being set to 0.0 in labels with no predicted samples. Use `zero_division` parameter to control this behavior.\n",
      "  _warn_prf(average, modifier, msg_start, len(result))\n",
      "/home/mayanze/anaconda3/lib/python3.8/site-packages/sklearn/metrics/_classification.py:1318: UndefinedMetricWarning: Precision and F-score are ill-defined and being set to 0.0 in labels with no predicted samples. Use `zero_division` parameter to control this behavior.\n",
      "  _warn_prf(average, modifier, msg_start, len(result))\n",
      "/home/mayanze/anaconda3/lib/python3.8/site-packages/sklearn/metrics/_classification.py:1318: UndefinedMetricWarning: Precision and F-score are ill-defined and being set to 0.0 in labels with no predicted samples. Use `zero_division` parameter to control this behavior.\n",
      "  _warn_prf(average, modifier, msg_start, len(result))\n"
     ]
    }
   ],
   "source": [
    "from sklearn.model_selection import GridSearchCV \n",
    "# defining parameter range\n",
    "param_grid = {'C': [0.1, 1, 10, 20],\n",
    "              'class_weight':['balanced'],\n",
    "              'decision_function_shape':['ovr'],\n",
    "              'probability':[True],\n",
    "              'cache_size':[4000]}\n",
    "grid = GridSearchCV(SVC(), param_grid, refit = True, verbose = 3)\n",
    " \n",
    "# fitting the model for grid search\n",
    "grid.fit(X_train, np.ravel(Y_train))\n",
    "\n",
    "# print best parameter after tuning\n",
    "print(grid.best_params_)\n",
    " \n",
    "# print how our model looks after hyper-parameter tuning\n",
    "print(grid.best_estimator_)\n",
    "\n",
    "grid_predictions = grid.predict(X_test)\n",
    " \n",
    "# print classification report\n",
    "print(classification_report(Y_test, grid_predictions))"
   ]
  },
  {
   "cell_type": "code",
   "execution_count": 17,
   "id": "a5f34b56",
   "metadata": {},
   "outputs": [
    {
     "data": {
      "text/html": [
       "<div>\n",
       "<style scoped>\n",
       "    .dataframe tbody tr th:only-of-type {\n",
       "        vertical-align: middle;\n",
       "    }\n",
       "\n",
       "    .dataframe tbody tr th {\n",
       "        vertical-align: top;\n",
       "    }\n",
       "\n",
       "    .dataframe thead th {\n",
       "        text-align: right;\n",
       "    }\n",
       "</style>\n",
       "<table border=\"1\" class=\"dataframe\">\n",
       "  <thead>\n",
       "    <tr style=\"text-align: right;\">\n",
       "      <th></th>\n",
       "      <th>mean_fit_time</th>\n",
       "      <th>std_fit_time</th>\n",
       "      <th>mean_score_time</th>\n",
       "      <th>std_score_time</th>\n",
       "      <th>param_C</th>\n",
       "      <th>param_cache_size</th>\n",
       "      <th>param_class_weight</th>\n",
       "      <th>param_decision_function_shape</th>\n",
       "      <th>param_probability</th>\n",
       "      <th>params</th>\n",
       "      <th>split0_test_score</th>\n",
       "      <th>split1_test_score</th>\n",
       "      <th>split2_test_score</th>\n",
       "      <th>split3_test_score</th>\n",
       "      <th>split4_test_score</th>\n",
       "      <th>mean_test_score</th>\n",
       "      <th>std_test_score</th>\n",
       "      <th>rank_test_score</th>\n",
       "    </tr>\n",
       "  </thead>\n",
       "  <tbody>\n",
       "    <tr>\n",
       "      <th>0</th>\n",
       "      <td>308.740664</td>\n",
       "      <td>2.119707</td>\n",
       "      <td>5.726713</td>\n",
       "      <td>0.101795</td>\n",
       "      <td>0.1</td>\n",
       "      <td>4000</td>\n",
       "      <td>balanced</td>\n",
       "      <td>ovr</td>\n",
       "      <td>True</td>\n",
       "      <td>{'C': 0.1, 'cache_size': 4000, 'class_weight':...</td>\n",
       "      <td>0.812373</td>\n",
       "      <td>0.813048</td>\n",
       "      <td>0.811431</td>\n",
       "      <td>0.039604</td>\n",
       "      <td>0.812556</td>\n",
       "      <td>0.657803</td>\n",
       "      <td>0.309100</td>\n",
       "      <td>1</td>\n",
       "    </tr>\n",
       "    <tr>\n",
       "      <th>1</th>\n",
       "      <td>308.601766</td>\n",
       "      <td>1.575139</td>\n",
       "      <td>5.679623</td>\n",
       "      <td>0.009858</td>\n",
       "      <td>1</td>\n",
       "      <td>4000</td>\n",
       "      <td>balanced</td>\n",
       "      <td>ovr</td>\n",
       "      <td>True</td>\n",
       "      <td>{'C': 1, 'cache_size': 4000, 'class_weight': '...</td>\n",
       "      <td>0.815748</td>\n",
       "      <td>0.815748</td>\n",
       "      <td>0.815932</td>\n",
       "      <td>0.042979</td>\n",
       "      <td>0.029478</td>\n",
       "      <td>0.503977</td>\n",
       "      <td>0.381939</td>\n",
       "      <td>2</td>\n",
       "    </tr>\n",
       "    <tr>\n",
       "      <th>2</th>\n",
       "      <td>307.966601</td>\n",
       "      <td>0.401086</td>\n",
       "      <td>5.678008</td>\n",
       "      <td>0.005251</td>\n",
       "      <td>10</td>\n",
       "      <td>4000</td>\n",
       "      <td>balanced</td>\n",
       "      <td>ovr</td>\n",
       "      <td>True</td>\n",
       "      <td>{'C': 10, 'cache_size': 4000, 'class_weight': ...</td>\n",
       "      <td>0.815748</td>\n",
       "      <td>0.815748</td>\n",
       "      <td>0.815932</td>\n",
       "      <td>0.042979</td>\n",
       "      <td>0.029478</td>\n",
       "      <td>0.503977</td>\n",
       "      <td>0.381939</td>\n",
       "      <td>2</td>\n",
       "    </tr>\n",
       "    <tr>\n",
       "      <th>3</th>\n",
       "      <td>307.409340</td>\n",
       "      <td>0.428732</td>\n",
       "      <td>5.674414</td>\n",
       "      <td>0.003579</td>\n",
       "      <td>20</td>\n",
       "      <td>4000</td>\n",
       "      <td>balanced</td>\n",
       "      <td>ovr</td>\n",
       "      <td>True</td>\n",
       "      <td>{'C': 20, 'cache_size': 4000, 'class_weight': ...</td>\n",
       "      <td>0.815748</td>\n",
       "      <td>0.815748</td>\n",
       "      <td>0.815932</td>\n",
       "      <td>0.042979</td>\n",
       "      <td>0.029478</td>\n",
       "      <td>0.503977</td>\n",
       "      <td>0.381939</td>\n",
       "      <td>2</td>\n",
       "    </tr>\n",
       "  </tbody>\n",
       "</table>\n",
       "</div>"
      ],
      "text/plain": [
       "   mean_fit_time  std_fit_time  mean_score_time  std_score_time param_C  \\\n",
       "0     308.740664      2.119707         5.726713        0.101795     0.1   \n",
       "1     308.601766      1.575139         5.679623        0.009858       1   \n",
       "2     307.966601      0.401086         5.678008        0.005251      10   \n",
       "3     307.409340      0.428732         5.674414        0.003579      20   \n",
       "\n",
       "  param_cache_size param_class_weight param_decision_function_shape  \\\n",
       "0             4000           balanced                           ovr   \n",
       "1             4000           balanced                           ovr   \n",
       "2             4000           balanced                           ovr   \n",
       "3             4000           balanced                           ovr   \n",
       "\n",
       "  param_probability                                             params  \\\n",
       "0              True  {'C': 0.1, 'cache_size': 4000, 'class_weight':...   \n",
       "1              True  {'C': 1, 'cache_size': 4000, 'class_weight': '...   \n",
       "2              True  {'C': 10, 'cache_size': 4000, 'class_weight': ...   \n",
       "3              True  {'C': 20, 'cache_size': 4000, 'class_weight': ...   \n",
       "\n",
       "   split0_test_score  split1_test_score  split2_test_score  split3_test_score  \\\n",
       "0           0.812373           0.813048           0.811431           0.039604   \n",
       "1           0.815748           0.815748           0.815932           0.042979   \n",
       "2           0.815748           0.815748           0.815932           0.042979   \n",
       "3           0.815748           0.815748           0.815932           0.042979   \n",
       "\n",
       "   split4_test_score  mean_test_score  std_test_score  rank_test_score  \n",
       "0           0.812556         0.657803        0.309100                1  \n",
       "1           0.029478         0.503977        0.381939                2  \n",
       "2           0.029478         0.503977        0.381939                2  \n",
       "3           0.029478         0.503977        0.381939                2  "
      ]
     },
     "execution_count": 17,
     "metadata": {},
     "output_type": "execute_result"
    }
   ],
   "source": [
    "cv_res = pd.DataFrame(grid.cv_results_)\n",
    "path = 'ParameterSearchSVM.csv'\n",
    "cv_res.to_csv(path)\n",
    "cv_res"
   ]
  },
  {
   "cell_type": "code",
   "execution_count": 25,
   "id": "1fa11135",
   "metadata": {},
   "outputs": [
    {
     "data": {
      "image/png": "[encoded data removed]",
      "text/plain": [
       "<Figure size 576x396 with 1 Axes>"
      ]
     },
     "metadata": {},
     "output_type": "display_data"
    }
   ],
   "source": [
    "scores = cv_res.loc[:, cv_res.columns[cv_res.columns.str.contains('split')].tolist()]\n",
    "\n",
    "# Plot the result\n",
    "model_names = []\n",
    "for model in scores.index:\n",
    "    plt.errorbar(model, np.mean(scores.iloc[model]), yerr=np.std(scores.iloc[model]), capsize=5, color='k')\n",
    "    plt.bar(model, np.mean(scores.iloc[model]), color='b')\n",
    "# plt.xticks(scores.index, model_names)"
   ]
  },
  {
   "cell_type": "code",
   "execution_count": 18,
   "id": "0f4d5a9f",
   "metadata": {},
   "outputs": [
    {
     "name": "stdout",
     "output_type": "stream",
     "text": [
      "The result of SVC(C=20, cache_size=2000, probability=True):\n",
      "              precision    recall  f1-score   support\n",
      "\n",
      "           1       0.82      1.00      0.90      4562\n",
      "           2       0.00      0.00      0.00       637\n",
      "           3       0.00      0.00      0.00       220\n",
      "           4       0.00      0.00      0.00       137\n",
      "\n",
      "    accuracy                           0.82      5556\n",
      "   macro avg       0.21      0.25      0.23      5556\n",
      "weighted avg       0.67      0.82      0.74      5556\n",
      "\n",
      "\n"
     ]
    },
    {
     "name": "stderr",
     "output_type": "stream",
     "text": [
      "/home/mayanze/anaconda3/lib/python3.8/site-packages/sklearn/metrics/_classification.py:1318: UndefinedMetricWarning: Precision and F-score are ill-defined and being set to 0.0 in labels with no predicted samples. Use `zero_division` parameter to control this behavior.\n",
      "  _warn_prf(average, modifier, msg_start, len(result))\n",
      "/home/mayanze/anaconda3/lib/python3.8/site-packages/sklearn/metrics/_classification.py:1318: UndefinedMetricWarning: Precision and F-score are ill-defined and being set to 0.0 in labels with no predicted samples. Use `zero_division` parameter to control this behavior.\n",
      "  _warn_prf(average, modifier, msg_start, len(result))\n",
      "/home/mayanze/anaconda3/lib/python3.8/site-packages/sklearn/metrics/_classification.py:1318: UndefinedMetricWarning: Precision and F-score are ill-defined and being set to 0.0 in labels with no predicted samples. Use `zero_division` parameter to control this behavior.\n",
      "  _warn_prf(average, modifier, msg_start, len(result))\n"
     ]
    }
   ],
   "source": [
    "y_predict = model.predict(X_test)\n",
    "# score = roc_auc_score(Y_test, np.ravel(y_predict))\n",
    "# Creating Print Results\n",
    "string = f'The result of {model}:\\n'\n",
    "string += f'{classification_report(Y_test, np.ravel(y_predict))}\\n'\n",
    "print(string)\n",
    "# print(score)"
   ]
  },
  {
   "cell_type": "code",
   "execution_count": 19,
   "id": "fc88680a",
   "metadata": {},
   "outputs": [],
   "source": [
    "roc_auc_test = roc_auc_score(Y_test, model.predict_proba(X_test), multi_class='ovr', average='weighted')"
   ]
  },
  {
   "cell_type": "code",
   "execution_count": 20,
   "id": "b1302c89",
   "metadata": {},
   "outputs": [
    {
     "data": {
      "text/plain": [
       "0.5017987769342463"
      ]
     },
     "execution_count": 20,
     "metadata": {},
     "output_type": "execute_result"
    }
   ],
   "source": [
    "roc_auc_test"
   ]
  },
  {
   "cell_type": "code",
   "execution_count": 21,
   "id": "cec2e606",
   "metadata": {},
   "outputs": [
    {
     "name": "stderr",
     "output_type": "stream",
     "text": [
      "findfont: Font family ['sans-serif'] not found. Falling back to DejaVu Sans.\n",
      "findfont: Font family ['sans-serif'] not found. Falling back to DejaVu Sans.\n",
      "findfont: Font family ['sans-serif'] not found. Falling back to DejaVu Sans.\n"
     ]
    },
    {
     "data": {
      "image/png": "[encoded data removed]",
      "text/plain": [
       "<Figure size 576x396 with 1 Axes>"
      ]
     },
     "metadata": {},
     "output_type": "display_data"
    },
    {
     "data": {
      "text/plain": [
       "<matplotlib.axes._subplots.AxesSubplot at 0x7fa13739f130>"
      ]
     },
     "execution_count": 21,
     "metadata": {},
     "output_type": "execute_result"
    }
   ],
   "source": [
    "# visualizer = ROCAUC(model, binary=True)\n",
    "visualizer = ROCAUC(model)\n",
    "visualizer.fit(X_train, np.ravel(Y_train))\n",
    "visualizer.score(X_test,np.ravel(Y_test))\n",
    "visualizer.poof()"
   ]
  },
  {
   "cell_type": "code",
   "execution_count": 32,
   "id": "c02147b6",
   "metadata": {},
   "outputs": [
    {
     "data": {
      "text/plain": [
       "(5556, 100)"
      ]
     },
     "execution_count": 32,
     "metadata": {},
     "output_type": "execute_result"
    }
   ],
   "source": [
    "X_test.shape"
   ]
  },
  {
   "cell_type": "code",
   "execution_count": 33,
   "id": "c1a2c090",
   "metadata": {},
   "outputs": [
    {
     "name": "stdout",
     "output_type": "stream",
     "text": [
      "0.5005451023216378\n",
      "0.5006847627421896\n",
      "0.5006497985687379\n",
      "0.5002226672965945\n",
      "0.5002807522606235\n"
     ]
    },
    {
     "data": {
      "text/plain": [
       "0.5004766166379567"
      ]
     },
     "execution_count": 33,
     "metadata": {},
     "output_type": "execute_result"
    }
   ],
   "source": [
    "# impute data list\n",
    "import os\n",
    "path = 'ImputedData'\n",
    "data_list = os.listdir(path)\n",
    "data_list = [x for x in data_list if x.endswith('.csv')]\n",
    "\n",
    "\n",
    "total = 0\n",
    "for data in data_list:\n",
    "    data_path = os.path.join(path, data)\n",
    "    X_test_ = pd.read_csv(data_path, index_col = 'HHX').to_numpy()\n",
    "    X_test_ = feature_map_nystroem.fit_transform(X_test_)\n",
    "    roc_auc_test = roc_auc_score(Y_test, grid.predict_proba(X_test_), multi_class='ovr', average='weighted')\n",
    "    total += roc_auc_test\n",
    "    print(roc_auc_test)\n",
    "\n",
    "acc = total/len(data_list)\n",
    "acc"
   ]
  },
  {
   "cell_type": "code",
   "execution_count": 38,
   "id": "010b8d4e",
   "metadata": {},
   "outputs": [],
   "source": [
    "X_test = data_test_features.to_numpy()\n",
    "X_train = data_train_features.to_numpy()\n",
    "X_train = feature_map_nystroem.fit_transform(X_train)\n",
    "X_test = feature_map_nystroem.transform(X_test)"
   ]
  },
  {
   "cell_type": "code",
   "execution_count": 40,
   "id": "e5b39b88",
   "metadata": {},
   "outputs": [
    {
     "name": "stdout",
     "output_type": "stream",
     "text": [
      "Take 1045.052143573761\n"
     ]
    }
   ],
   "source": [
    "# Choose Features from the dataset\n",
    "from sklearn.feature_selection import RFECV\n",
    "import time\n",
    "from sklearn.inspection import permutation_importance\n",
    "\n",
    "start_time = time.time()\n",
    "result = permutation_importance(grid, X_test, np.ravel(Y_test), n_jobs=20,n_repeats=5,random_state=0, scoring='roc_auc_ovr_weighted')\n",
    "run_time = time.time() - start_time\n",
    "print('Take', run_time)"
   ]
  },
  {
   "cell_type": "code",
   "execution_count": 43,
   "id": "2ea40306",
   "metadata": {},
   "outputs": [],
   "source": [
    "svm_importance = pd.Series(result.importances_mean)\n",
    "svm_std = pd.Series(result.importances_std)"
   ]
  },
  {
   "cell_type": "code",
   "execution_count": 46,
   "id": "612a912b",
   "metadata": {},
   "outputs": [
    {
     "data": {
      "text/plain": [
       "array([0.00000000e+00, 0.00000000e+00, 0.00000000e+00, 0.00000000e+00,\n",
       "       7.35752175e-05, 0.00000000e+00, 0.00000000e+00, 0.00000000e+00,\n",
       "       0.00000000e+00, 0.00000000e+00, 0.00000000e+00, 0.00000000e+00,\n",
       "       0.00000000e+00, 0.00000000e+00, 0.00000000e+00, 0.00000000e+00,\n",
       "       0.00000000e+00, 5.74080924e-07, 0.00000000e+00, 0.00000000e+00,\n",
       "       0.00000000e+00, 0.00000000e+00, 0.00000000e+00, 0.00000000e+00,\n",
       "       0.00000000e+00, 0.00000000e+00, 2.41408636e-04, 0.00000000e+00,\n",
       "       0.00000000e+00, 0.00000000e+00, 0.00000000e+00, 0.00000000e+00,\n",
       "       0.00000000e+00, 2.38417954e-04, 0.00000000e+00, 0.00000000e+00,\n",
       "       0.00000000e+00, 0.00000000e+00, 0.00000000e+00, 0.00000000e+00,\n",
       "       0.00000000e+00, 0.00000000e+00, 0.00000000e+00, 0.00000000e+00,\n",
       "       0.00000000e+00, 0.00000000e+00, 0.00000000e+00, 0.00000000e+00,\n",
       "       0.00000000e+00, 0.00000000e+00, 2.55734606e-04, 0.00000000e+00,\n",
       "       0.00000000e+00, 0.00000000e+00, 0.00000000e+00, 0.00000000e+00,\n",
       "       0.00000000e+00, 0.00000000e+00, 0.00000000e+00, 0.00000000e+00,\n",
       "       0.00000000e+00, 6.95614418e-04, 0.00000000e+00, 0.00000000e+00,\n",
       "       0.00000000e+00, 0.00000000e+00, 0.00000000e+00, 0.00000000e+00,\n",
       "       0.00000000e+00, 0.00000000e+00, 0.00000000e+00, 0.00000000e+00,\n",
       "       0.00000000e+00, 0.00000000e+00, 0.00000000e+00, 0.00000000e+00,\n",
       "       0.00000000e+00, 0.00000000e+00, 0.00000000e+00, 0.00000000e+00,\n",
       "       0.00000000e+00, 0.00000000e+00, 2.51941367e-04, 0.00000000e+00,\n",
       "       0.00000000e+00, 0.00000000e+00, 0.00000000e+00, 0.00000000e+00,\n",
       "       0.00000000e+00, 0.00000000e+00, 0.00000000e+00, 0.00000000e+00,\n",
       "       0.00000000e+00, 0.00000000e+00, 0.00000000e+00, 0.00000000e+00,\n",
       "       0.00000000e+00, 0.00000000e+00, 0.00000000e+00, 0.00000000e+00])"
      ]
     },
     "execution_count": 46,
     "metadata": {},
     "output_type": "execute_result"
    }
   ],
   "source": [
    "svm_std.values"
   ]
  },
  {
   "cell_type": "code",
   "execution_count": 48,
   "id": "d559e66c",
   "metadata": {},
   "outputs": [
    {
     "data": {
      "text/plain": [
       "<BarContainer object of 100 artists>"
      ]
     },
     "execution_count": 48,
     "metadata": {},
     "output_type": "execute_result"
    },
    {
     "data": {
      "image/png": "[encoded data removed]",
      "text/plain": [
       "<Figure size 576x396 with 1 Axes>"
      ]
     },
     "metadata": {},
     "output_type": "display_data"
    }
   ],
   "source": [
    "plt.bar(np.arange(len(svm_importance)), svm_importance)"
   ]
  },
  {
   "cell_type": "code",
   "execution_count": null,
   "id": "3e6755d2",
   "metadata": {},
   "outputs": [],
   "source": [
    "modelA = grid\n",
    "# impute data list\n",
    "import os\n",
    "path = 'ImputedData'\n",
    "data_list = os.listdir(path)\n",
    "data_list = [x for x in data_list if x.endswith('.csv')]\n",
    "\n",
    "\n",
    "total = 0\n",
    "for data in data_list:\n",
    "    data_path = os.path.join(path, data)\n",
    "    X_test_ = pd.read_csv(data_path, index_col = 'HHX').to_numpy()\n",
    "    X_test_ = feature_map_nystroem.fit_transform(X_test_)\n",
    "    roc_auc_test = roc_auc_score(Y_test, modelA.predict_proba(X_test_), multi_class='ovr', average='weighted')\n",
    "    total += roc_auc_test\n",
    "    print(roc_auc_test)\n",
    "\n",
    "acc = total/len(data_list)\n",
    "acc"
   ]
  },
  {
   "cell_type": "code",
   "execution_count": null,
   "id": "c15f0fe8",
   "metadata": {},
   "outputs": [],
   "source": [
    "# For model B taking 50 features into training\n",
    "X_train_B = X_train[:,:50]\n",
    "X_test_B = X_test[:,:50]\n",
    "modelB = SVC(C=20,probability=True, cache_size=2000)\n",
    "modelB.fit(X_train_B, Y_train)\n",
    "\n",
    "pred = modelB.predict(X_test_B)\n",
    " \n",
    "# print classification report\n",
    "print(classification_report(Y_test, pred))"
   ]
  },
  {
   "cell_type": "code",
   "execution_count": null,
   "id": "db4a8390",
   "metadata": {},
   "outputs": [],
   "source": [
    "import os\n",
    "path = 'ImputedData'\n",
    "data_list = os.listdir(path)\n",
    "data_list = [x for x in data_list if x.endswith('.csv')]\n",
    "\n",
    "\n",
    "total = 0\n",
    "for data in data_list:\n",
    "    data_path = os.path.join(path, data)\n",
    "    X_test_ = pd.read_csv(data_path, index_col = 'HHX').to_numpy()\n",
    "    X_test_ = feature_map_nystroem.fit_transform(X_test_)\n",
    "    roc_auc_test = roc_auc_score(Y_test, modelA.predict_proba(X_test_), multi_class='ovr', average='weighted')\n",
    "    total += roc_auc_test\n",
    "    print(roc_auc_test)\n",
    "\n",
    "acc = total/len(data_list)\n",
    "acc"
   ]
  },
  {
   "cell_type": "code",
   "execution_count": null,
   "id": "e230566b",
   "metadata": {},
   "outputs": [],
   "source": []
  }
 ],
 "metadata": {
  "kernelspec": {
   "display_name": "Python 3",
   "language": "python",
   "name": "python3"
  },
  "language_info": {
   "codemirror_mode": {
    "name": "ipython",
    "version": 3
   },
   "file_extension": ".py",
   "mimetype": "text/x-python",
   "name": "python",
   "nbconvert_exporter": "python",
   "pygments_lexer": "ipython3",
   "version": "3.8.8"
  },
  "toc": {
   "base_numbering": 1,
   "nav_menu": {},
   "number_sections": true,
   "sideBar": true,
   "skip_h1_title": false,
   "title_cell": "Table of Contents",
   "title_sidebar": "Contents",
   "toc_cell": false,
   "toc_position": {},
   "toc_section_display": true,
   "toc_window_display": false
  },
  "varInspector": {
   "cols": {
    "lenName": 16,
    "lenType": 16,
    "lenVar": 40
   },
   "kernels_config": {
    "python": {
     "delete_cmd_postfix": "",
     "delete_cmd_prefix": "del ",
     "library": "var_list.py",
     "varRefreshCmd": "print(var_dic_list())"
    },
    "r": {
     "delete_cmd_postfix": ") ",
     "delete_cmd_prefix": "rm(",
     "library": "var_list.r",
     "varRefreshCmd": "cat(var_dic_list()) "
    }
   },
   "types_to_exclude": [
    "module",
    "function",
    "builtin_function_or_method",
    "instance",
    "_Feature"
   ],
   "window_display": false
  }
 },
 "nbformat": 4,
 "nbformat_minor": 5
}
