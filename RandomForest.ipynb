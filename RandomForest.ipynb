{
 "cells": [
  {
   "cell_type": "code",
   "execution_count": 54,
   "id": "7dee131a",
   "metadata": {},
   "outputs": [],
   "source": [
    "import os\n",
    "import numpy as np\n",
    "import pandas as pd\n",
    "from sklearn.model_selection import cross_val_score\n",
    "from sklearn.ensemble import RandomForestClassifier\n",
    "from sklearn.metrics import roc_auc_score\n",
    "import matplotlib.pyplot as plt\n",
    "from scipy.stats import sem\n",
    "from sklearn.metrics import RocCurveDisplay"
   ]
  },
  {
   "cell_type": "code",
   "execution_count": 55,
   "id": "08260ceb",
   "metadata": {},
   "outputs": [],
   "source": [
    "#load training data\n",
    "dataDir = 'CleanData'\n",
    "path = os.path.join(dataDir, 'train.csv')\n",
    "train = pd.read_csv (path, index_col = 'HHX')\n",
    "#separate target and features\n",
    "target = 'PHQCAT_A'\n",
    "train_y = train[target]\n",
    "train_x = train.drop(columns=[target])"
   ]
  },
  {
   "cell_type": "code",
   "execution_count": 56,
   "id": "6d1b225f",
   "metadata": {},
   "outputs": [],
   "source": [
    "#load testing \n",
    "datadataDir = 'CleanData'\n",
    "path = os.path.join(dataDir, 'test.csv')\n",
    "test = pd.read_csv (path, index_col = 'HHX')\n",
    "#separate target and features\n",
    "target = 'PHQCAT_A'\n",
    "test_y = train[target]\n",
    "test_x = train.drop(columns=[target])"
   ]
  },
  {
   "cell_type": "code",
   "execution_count": 58,
   "id": "2376a99f",
   "metadata": {},
   "outputs": [
    {
     "name": "stdout",
     "output_type": "stream",
     "text": [
      "[0.98224779 0.98322076 0.98164761 0.98251455 0.98141084 0.98473776\n",
      " 0.98320097 0.98493235 0.98126173 0.98382546]\n",
      "0.0012490676521819393\n"
     ]
    }
   ],
   "source": [
    "#create random forest object\n",
    "RFC = RandomForestClassifier(random_state = 0)\n",
    "#run 10-fold cross validation, get ROC_AUC scores\n",
    "scores = cross_val_score(RFC, train_x, train_y, cv=10, scoring = 'roc_auc_ovr_weighted')\n",
    "print(scores)\n",
    "print (np.std (scores))"
   ]
  },
  {
   "cell_type": "code",
   "execution_count": 60,
   "id": "122a420b",
   "metadata": {},
   "outputs": [],
   "source": [
    "#train using all data\n",
    "RFC_alldata = RFC.fit(train_x, train_y)"
   ]
  },
  {
   "cell_type": "code",
   "execution_count": 31,
   "id": "4079157c",
   "metadata": {},
   "outputs": [
    {
     "data": {
      "text/plain": [
       "1.0"
      ]
     },
     "execution_count": 31,
     "metadata": {},
     "output_type": "execute_result"
    }
   ],
   "source": [
    "#calculate weighted avg roc AUC for testing data\n",
    "roc_auc_test = roc_auc_score(test_y, RFC_alldata.predict_proba(test_x), multi_class='ovr', average='weighted')\n",
    "roc_auc_test"
   ]
  },
  {
   "cell_type": "code",
   "execution_count": 61,
   "id": "f0b1b107",
   "metadata": {},
   "outputs": [
    {
     "data": {
      "image/png": "[encoded data removed]",
      "text/plain": [
       "<Figure size 360x360 with 1 Axes>"
      ]
     },
     "metadata": {
      "needs_background": "light"
     },
     "output_type": "display_data"
    }
   ],
   "source": [
    "#plot scores\n",
    "fig, ax = plt.subplots(figsize = (5, 5))\n",
    "#training score mean w/ sem\n",
    "ax.bar(1, np.mean(scores))\n",
    "ax.errorbar(1, np.std(scores))\n",
    "#testing score\n",
    "ax.bar(2, roc_auc_test)\n",
    "\n",
    "ax.set_ylabel('ROC AUC \\n one vs all, \\n weighted average', fontsize = 14)\n",
    "ax.set_ylim(bottom = 0.95, top = 1)\n",
    "\n",
    "ax.set_xticks([1, 2])\n",
    "ax.set_xticklabels (['Training \\n ROC AUC', 'Testing \\n ROC AUC'], fontsize = 14)\n",
    "\n",
    "plt.yticks(fontsize = 14)\n",
    "\n",
    "plt.show()"
   ]
  },
  {
   "cell_type": "code",
   "execution_count": null,
   "id": "e94ed48f",
   "metadata": {},
   "outputs": [],
   "source": []
  }
 ],
 "metadata": {
  "kernelspec": {
   "display_name": "MachineLearningUVM",
   "language": "python",
   "name": "machinelearninguvm"
  },
  "language_info": {
   "codemirror_mode": {
    "name": "ipython",
    "version": 3
   },
   "file_extension": ".py",
   "mimetype": "text/x-python",
   "name": "python",
   "nbconvert_exporter": "python",
   "pygments_lexer": "ipython3",
   "version": "3.7.11"
  }
 },
 "nbformat": 4,
 "nbformat_minor": 5
}
